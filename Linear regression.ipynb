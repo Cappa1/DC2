{
 "cells": [
  {
   "cell_type": "code",
   "execution_count": 3,
   "metadata": {},
   "outputs": [],
   "source": [
    "import pandas as pd\n",
    "import matplotlib.pyplot as plt\n",
    "import numpy as np\n",
    "\n",
    "%run functions/datetime_functions.py\n",
    "\n",
    "\n",
    "np.set_printoptions(formatter={'float_kind':'{:f}'.format})\n",
    "pd.set_option('display.float_format', lambda x: '%.3f' % x)\n",
    "plt.style.use('seaborn')"
   ]
  },
  {
   "cell_type": "markdown",
   "metadata": {},
   "source": [
    "## Loading the data"
   ]
  },
  {
   "cell_type": "code",
   "execution_count": 7,
   "metadata": {},
   "outputs": [
    {
     "name": "stdout",
     "output_type": "stream",
     "text": [
      "CPU times: user 8.48 s, sys: 284 ms, total: 8.76 s\n",
      "Wall time: 8.76 s\n"
     ]
    }
   ],
   "source": [
    "%%time\n",
    "path = r\"/home/dazai/Documents/Processmining/Data/\"\n",
    "df_train = pd.read_csv(f'{path}BPI Challenge 2017-test.csv')\n",
    "df_test = pd.read_csv(f'{path}BPI Challenge 2017-training.csv')\n",
    "df_data = pd.concat([df_train, df_test])\n",
    "\n",
    "# Converting to datetime\n",
    "remove_ms(df_data)\n",
    "df_data['event time:timestamp'] = f_memoize_dt(df_data['event time:timestamp'])\n",
    "\n",
    "\n",
    "\n",
    "df_data.sort_values(by=['event time:timestamp'], inplace=True)\n",
    "df_data.reset_index(inplace=True, drop=True)\n",
    "\n",
    "# remove whitespace at beginning and end of column name\n",
    "df_data.columns = df_data.columns.str.strip(' ')"
   ]
  },
  {
   "cell_type": "code",
   "execution_count": 13,
   "metadata": {},
   "outputs": [
    {
     "data": {
      "text/plain": [
       "0   2016-01-01 10:51:15\n",
       "Name: event time:timestamp, dtype: datetime64[ns]"
      ]
     },
     "metadata": {},
     "output_type": "display_data"
    },
    {
     "data": {
      "text/plain": [
       "10000   2016-01-09 14:55:21\n",
       "Name: event time:timestamp, dtype: datetime64[ns]"
      ]
     },
     "metadata": {},
     "output_type": "display_data"
    },
    {
     "data": {
      "text/plain": [
       "20000   2016-01-14 11:15:37\n",
       "Name: event time:timestamp, dtype: datetime64[ns]"
      ]
     },
     "metadata": {},
     "output_type": "display_data"
    },
    {
     "data": {
      "text/plain": [
       "30000   2016-01-19 09:17:26\n",
       "Name: event time:timestamp, dtype: datetime64[ns]"
      ]
     },
     "metadata": {},
     "output_type": "display_data"
    },
    {
     "data": {
      "text/plain": [
       "40000   2016-01-22 13:32:46\n",
       "Name: event time:timestamp, dtype: datetime64[ns]"
      ]
     },
     "metadata": {},
     "output_type": "display_data"
    },
    {
     "data": {
      "text/plain": [
       "50000   2016-01-26 19:29:08\n",
       "Name: event time:timestamp, dtype: datetime64[ns]"
      ]
     },
     "metadata": {},
     "output_type": "display_data"
    },
    {
     "data": {
      "text/plain": [
       "60000   2016-01-29 19:34:12\n",
       "Name: event time:timestamp, dtype: datetime64[ns]"
      ]
     },
     "metadata": {},
     "output_type": "display_data"
    },
    {
     "data": {
      "text/plain": [
       "70000   2016-02-03 09:32:22\n",
       "Name: event time:timestamp, dtype: datetime64[ns]"
      ]
     },
     "metadata": {},
     "output_type": "display_data"
    },
    {
     "data": {
      "text/plain": [
       "80000   2016-02-05 18:58:00\n",
       "Name: event time:timestamp, dtype: datetime64[ns]"
      ]
     },
     "metadata": {},
     "output_type": "display_data"
    },
    {
     "data": {
      "text/plain": [
       "90000   2016-02-10 09:06:04\n",
       "Name: event time:timestamp, dtype: datetime64[ns]"
      ]
     },
     "metadata": {},
     "output_type": "display_data"
    },
    {
     "data": {
      "text/plain": [
       "100000   2016-02-12 19:18:08\n",
       "Name: event time:timestamp, dtype: datetime64[ns]"
      ]
     },
     "metadata": {},
     "output_type": "display_data"
    },
    {
     "data": {
      "text/plain": [
       "110000   2016-02-16 19:34:52\n",
       "Name: event time:timestamp, dtype: datetime64[ns]"
      ]
     },
     "metadata": {},
     "output_type": "display_data"
    },
    {
     "data": {
      "text/plain": [
       "120000   2016-02-19 14:41:04\n",
       "Name: event time:timestamp, dtype: datetime64[ns]"
      ]
     },
     "metadata": {},
     "output_type": "display_data"
    },
    {
     "data": {
      "text/plain": [
       "130000   2016-02-23 12:28:36\n",
       "Name: event time:timestamp, dtype: datetime64[ns]"
      ]
     },
     "metadata": {},
     "output_type": "display_data"
    },
    {
     "data": {
      "text/plain": [
       "140000   2016-02-26 08:06:35\n",
       "Name: event time:timestamp, dtype: datetime64[ns]"
      ]
     },
     "metadata": {},
     "output_type": "display_data"
    },
    {
     "data": {
      "text/plain": [
       "150000   2016-02-29 19:06:39\n",
       "Name: event time:timestamp, dtype: datetime64[ns]"
      ]
     },
     "metadata": {},
     "output_type": "display_data"
    },
    {
     "data": {
      "text/plain": [
       "160000   2016-03-03 10:22:24\n",
       "Name: event time:timestamp, dtype: datetime64[ns]"
      ]
     },
     "metadata": {},
     "output_type": "display_data"
    },
    {
     "data": {
      "text/plain": [
       "170000   2016-03-07 10:32:30\n",
       "Name: event time:timestamp, dtype: datetime64[ns]"
      ]
     },
     "metadata": {},
     "output_type": "display_data"
    },
    {
     "data": {
      "text/plain": [
       "180000   2016-03-09 13:23:56\n",
       "Name: event time:timestamp, dtype: datetime64[ns]"
      ]
     },
     "metadata": {},
     "output_type": "display_data"
    },
    {
     "data": {
      "text/plain": [
       "190000   2016-03-12 10:55:33\n",
       "Name: event time:timestamp, dtype: datetime64[ns]"
      ]
     },
     "metadata": {},
     "output_type": "display_data"
    },
    {
     "data": {
      "text/plain": [
       "200000   2016-03-16 09:16:57\n",
       "Name: event time:timestamp, dtype: datetime64[ns]"
      ]
     },
     "metadata": {},
     "output_type": "display_data"
    },
    {
     "data": {
      "text/plain": [
       "210000   2016-03-18 13:30:52\n",
       "Name: event time:timestamp, dtype: datetime64[ns]"
      ]
     },
     "metadata": {},
     "output_type": "display_data"
    },
    {
     "data": {
      "text/plain": [
       "220000   2016-03-22 11:59:43\n",
       "Name: event time:timestamp, dtype: datetime64[ns]"
      ]
     },
     "metadata": {},
     "output_type": "display_data"
    },
    {
     "data": {
      "text/plain": [
       "230000   2016-03-25 10:44:13\n",
       "Name: event time:timestamp, dtype: datetime64[ns]"
      ]
     },
     "metadata": {},
     "output_type": "display_data"
    },
    {
     "data": {
      "text/plain": [
       "240000   2016-03-30 10:21:57\n",
       "Name: event time:timestamp, dtype: datetime64[ns]"
      ]
     },
     "metadata": {},
     "output_type": "display_data"
    },
    {
     "data": {
      "text/plain": [
       "250000   2016-04-02 12:14:16\n",
       "Name: event time:timestamp, dtype: datetime64[ns]"
      ]
     },
     "metadata": {},
     "output_type": "display_data"
    },
    {
     "data": {
      "text/plain": [
       "260000   2016-04-06 10:11:38\n",
       "Name: event time:timestamp, dtype: datetime64[ns]"
      ]
     },
     "metadata": {},
     "output_type": "display_data"
    },
    {
     "data": {
      "text/plain": [
       "270000   2016-04-08 20:10:16\n",
       "Name: event time:timestamp, dtype: datetime64[ns]"
      ]
     },
     "metadata": {},
     "output_type": "display_data"
    },
    {
     "data": {
      "text/plain": [
       "280000   2016-04-13 09:26:34\n",
       "Name: event time:timestamp, dtype: datetime64[ns]"
      ]
     },
     "metadata": {},
     "output_type": "display_data"
    },
    {
     "data": {
      "text/plain": [
       "290000   2016-04-15 23:34:24\n",
       "Name: event time:timestamp, dtype: datetime64[ns]"
      ]
     },
     "metadata": {},
     "output_type": "display_data"
    },
    {
     "data": {
      "text/plain": [
       "300000   2016-04-20 08:14:22\n",
       "Name: event time:timestamp, dtype: datetime64[ns]"
      ]
     },
     "metadata": {},
     "output_type": "display_data"
    },
    {
     "data": {
      "text/plain": [
       "310000   2016-04-22 16:41:05\n",
       "Name: event time:timestamp, dtype: datetime64[ns]"
      ]
     },
     "metadata": {},
     "output_type": "display_data"
    },
    {
     "data": {
      "text/plain": [
       "320000   2016-04-27 13:52:07\n",
       "Name: event time:timestamp, dtype: datetime64[ns]"
      ]
     },
     "metadata": {},
     "output_type": "display_data"
    },
    {
     "data": {
      "text/plain": [
       "330000   2016-05-02 09:15:36\n",
       "Name: event time:timestamp, dtype: datetime64[ns]"
      ]
     },
     "metadata": {},
     "output_type": "display_data"
    },
    {
     "data": {
      "text/plain": [
       "340000   2016-05-04 13:46:27\n",
       "Name: event time:timestamp, dtype: datetime64[ns]"
      ]
     },
     "metadata": {},
     "output_type": "display_data"
    },
    {
     "data": {
      "text/plain": [
       "350000   2016-05-09 13:37:29\n",
       "Name: event time:timestamp, dtype: datetime64[ns]"
      ]
     },
     "metadata": {},
     "output_type": "display_data"
    },
    {
     "data": {
      "text/plain": [
       "360000   2016-05-12 08:22:39\n",
       "Name: event time:timestamp, dtype: datetime64[ns]"
      ]
     },
     "metadata": {},
     "output_type": "display_data"
    },
    {
     "data": {
      "text/plain": [
       "370000   2016-05-16 16:58:34\n",
       "Name: event time:timestamp, dtype: datetime64[ns]"
      ]
     },
     "metadata": {},
     "output_type": "display_data"
    },
    {
     "data": {
      "text/plain": [
       "380000   2016-05-19 11:42:37\n",
       "Name: event time:timestamp, dtype: datetime64[ns]"
      ]
     },
     "metadata": {},
     "output_type": "display_data"
    },
    {
     "data": {
      "text/plain": [
       "390000   2016-05-23 15:09:40\n",
       "Name: event time:timestamp, dtype: datetime64[ns]"
      ]
     },
     "metadata": {},
     "output_type": "display_data"
    },
    {
     "data": {
      "text/plain": [
       "400000   2016-05-26 12:35:43\n",
       "Name: event time:timestamp, dtype: datetime64[ns]"
      ]
     },
     "metadata": {},
     "output_type": "display_data"
    },
    {
     "data": {
      "text/plain": [
       "410000   2016-05-30 16:15:54\n",
       "Name: event time:timestamp, dtype: datetime64[ns]"
      ]
     },
     "metadata": {},
     "output_type": "display_data"
    },
    {
     "data": {
      "text/plain": [
       "420000   2016-06-02 12:11:04\n",
       "Name: event time:timestamp, dtype: datetime64[ns]"
      ]
     },
     "metadata": {},
     "output_type": "display_data"
    },
    {
     "data": {
      "text/plain": [
       "430000   2016-06-06 14:56:08\n",
       "Name: event time:timestamp, dtype: datetime64[ns]"
      ]
     },
     "metadata": {},
     "output_type": "display_data"
    },
    {
     "data": {
      "text/plain": [
       "440000   2016-06-08 16:26:21\n",
       "Name: event time:timestamp, dtype: datetime64[ns]"
      ]
     },
     "metadata": {},
     "output_type": "display_data"
    },
    {
     "data": {
      "text/plain": [
       "450000   2016-06-11 17:03:53\n",
       "Name: event time:timestamp, dtype: datetime64[ns]"
      ]
     },
     "metadata": {},
     "output_type": "display_data"
    },
    {
     "data": {
      "text/plain": [
       "460000   2016-06-14 20:42:24\n",
       "Name: event time:timestamp, dtype: datetime64[ns]"
      ]
     },
     "metadata": {},
     "output_type": "display_data"
    },
    {
     "data": {
      "text/plain": [
       "470000   2016-06-17 11:29:49\n",
       "Name: event time:timestamp, dtype: datetime64[ns]"
      ]
     },
     "metadata": {},
     "output_type": "display_data"
    },
    {
     "data": {
      "text/plain": [
       "480000   2016-06-21 08:12:56\n",
       "Name: event time:timestamp, dtype: datetime64[ns]"
      ]
     },
     "metadata": {},
     "output_type": "display_data"
    },
    {
     "data": {
      "text/plain": [
       "490000   2016-06-22 20:30:24\n",
       "Name: event time:timestamp, dtype: datetime64[ns]"
      ]
     },
     "metadata": {},
     "output_type": "display_data"
    },
    {
     "data": {
      "text/plain": [
       "500000   2016-06-25 16:26:30\n",
       "Name: event time:timestamp, dtype: datetime64[ns]"
      ]
     },
     "metadata": {},
     "output_type": "display_data"
    },
    {
     "data": {
      "text/plain": [
       "510000   2016-06-28 23:42:28\n",
       "Name: event time:timestamp, dtype: datetime64[ns]"
      ]
     },
     "metadata": {},
     "output_type": "display_data"
    },
    {
     "data": {
      "text/plain": [
       "520000   2016-07-01 11:19:09\n",
       "Name: event time:timestamp, dtype: datetime64[ns]"
      ]
     },
     "metadata": {},
     "output_type": "display_data"
    },
    {
     "data": {
      "text/plain": [
       "530000   2016-07-04 15:11:33\n",
       "Name: event time:timestamp, dtype: datetime64[ns]"
      ]
     },
     "metadata": {},
     "output_type": "display_data"
    },
    {
     "data": {
      "text/plain": [
       "540000   2016-07-06 12:09:11\n",
       "Name: event time:timestamp, dtype: datetime64[ns]"
      ]
     },
     "metadata": {},
     "output_type": "display_data"
    },
    {
     "data": {
      "text/plain": [
       "550000   2016-07-08 11:42:56\n",
       "Name: event time:timestamp, dtype: datetime64[ns]"
      ]
     },
     "metadata": {},
     "output_type": "display_data"
    },
    {
     "data": {
      "text/plain": [
       "560000   2016-07-11 15:30:40\n",
       "Name: event time:timestamp, dtype: datetime64[ns]"
      ]
     },
     "metadata": {},
     "output_type": "display_data"
    },
    {
     "data": {
      "text/plain": [
       "570000   2016-07-13 10:01:12\n",
       "Name: event time:timestamp, dtype: datetime64[ns]"
      ]
     },
     "metadata": {},
     "output_type": "display_data"
    },
    {
     "data": {
      "text/plain": [
       "580000   2016-07-15 08:00:31\n",
       "Name: event time:timestamp, dtype: datetime64[ns]"
      ]
     },
     "metadata": {},
     "output_type": "display_data"
    },
    {
     "data": {
      "text/plain": [
       "590000   2016-07-18 14:20:08\n",
       "Name: event time:timestamp, dtype: datetime64[ns]"
      ]
     },
     "metadata": {},
     "output_type": "display_data"
    },
    {
     "data": {
      "text/plain": [
       "600000   2016-07-20 15:26:35\n",
       "Name: event time:timestamp, dtype: datetime64[ns]"
      ]
     },
     "metadata": {},
     "output_type": "display_data"
    },
    {
     "data": {
      "text/plain": [
       "610000   2016-07-22 14:02:55\n",
       "Name: event time:timestamp, dtype: datetime64[ns]"
      ]
     },
     "metadata": {},
     "output_type": "display_data"
    },
    {
     "data": {
      "text/plain": [
       "620000   2016-07-26 14:20:11\n",
       "Name: event time:timestamp, dtype: datetime64[ns]"
      ]
     },
     "metadata": {},
     "output_type": "display_data"
    },
    {
     "data": {
      "text/plain": [
       "630000   2016-07-28 16:23:33\n",
       "Name: event time:timestamp, dtype: datetime64[ns]"
      ]
     },
     "metadata": {},
     "output_type": "display_data"
    },
    {
     "data": {
      "text/plain": [
       "640000   2016-08-01 13:44:29\n",
       "Name: event time:timestamp, dtype: datetime64[ns]"
      ]
     },
     "metadata": {},
     "output_type": "display_data"
    },
    {
     "data": {
      "text/plain": [
       "650000   2016-08-03 14:37:07\n",
       "Name: event time:timestamp, dtype: datetime64[ns]"
      ]
     },
     "metadata": {},
     "output_type": "display_data"
    },
    {
     "data": {
      "text/plain": [
       "660000   2016-08-05 15:44:21\n",
       "Name: event time:timestamp, dtype: datetime64[ns]"
      ]
     },
     "metadata": {},
     "output_type": "display_data"
    },
    {
     "data": {
      "text/plain": [
       "670000   2016-08-09 14:36:24\n",
       "Name: event time:timestamp, dtype: datetime64[ns]"
      ]
     },
     "metadata": {},
     "output_type": "display_data"
    },
    {
     "data": {
      "text/plain": [
       "680000   2016-08-11 12:40:43\n",
       "Name: event time:timestamp, dtype: datetime64[ns]"
      ]
     },
     "metadata": {},
     "output_type": "display_data"
    },
    {
     "data": {
      "text/plain": [
       "690000   2016-08-15 11:36:44\n",
       "Name: event time:timestamp, dtype: datetime64[ns]"
      ]
     },
     "metadata": {},
     "output_type": "display_data"
    },
    {
     "data": {
      "text/plain": [
       "700000   2016-08-17 12:24:36\n",
       "Name: event time:timestamp, dtype: datetime64[ns]"
      ]
     },
     "metadata": {},
     "output_type": "display_data"
    },
    {
     "data": {
      "text/plain": [
       "710000   2016-08-19 15:18:26\n",
       "Name: event time:timestamp, dtype: datetime64[ns]"
      ]
     },
     "metadata": {},
     "output_type": "display_data"
    },
    {
     "data": {
      "text/plain": [
       "720000   2016-08-23 11:43:34\n",
       "Name: event time:timestamp, dtype: datetime64[ns]"
      ]
     },
     "metadata": {},
     "output_type": "display_data"
    },
    {
     "data": {
      "text/plain": [
       "730000   2016-08-25 15:13:51\n",
       "Name: event time:timestamp, dtype: datetime64[ns]"
      ]
     },
     "metadata": {},
     "output_type": "display_data"
    },
    {
     "data": {
      "text/plain": [
       "740000   2016-08-29 17:04:17\n",
       "Name: event time:timestamp, dtype: datetime64[ns]"
      ]
     },
     "metadata": {},
     "output_type": "display_data"
    },
    {
     "data": {
      "text/plain": [
       "750000   2016-08-31 17:43:46\n",
       "Name: event time:timestamp, dtype: datetime64[ns]"
      ]
     },
     "metadata": {},
     "output_type": "display_data"
    },
    {
     "data": {
      "text/plain": [
       "760000   2016-09-03 11:34:51\n",
       "Name: event time:timestamp, dtype: datetime64[ns]"
      ]
     },
     "metadata": {},
     "output_type": "display_data"
    },
    {
     "data": {
      "text/plain": [
       "770000   2016-09-06 15:50:25\n",
       "Name: event time:timestamp, dtype: datetime64[ns]"
      ]
     },
     "metadata": {},
     "output_type": "display_data"
    },
    {
     "data": {
      "text/plain": [
       "780000   2016-09-08 15:48:54\n",
       "Name: event time:timestamp, dtype: datetime64[ns]"
      ]
     },
     "metadata": {},
     "output_type": "display_data"
    },
    {
     "data": {
      "text/plain": [
       "790000   2016-09-12 11:38:45\n",
       "Name: event time:timestamp, dtype: datetime64[ns]"
      ]
     },
     "metadata": {},
     "output_type": "display_data"
    },
    {
     "data": {
      "text/plain": [
       "800000   2016-09-14 10:15:16\n",
       "Name: event time:timestamp, dtype: datetime64[ns]"
      ]
     },
     "metadata": {},
     "output_type": "display_data"
    },
    {
     "data": {
      "text/plain": [
       "810000   2016-09-16 10:58:38\n",
       "Name: event time:timestamp, dtype: datetime64[ns]"
      ]
     },
     "metadata": {},
     "output_type": "display_data"
    },
    {
     "data": {
      "text/plain": [
       "820000   2016-09-19 17:08:53\n",
       "Name: event time:timestamp, dtype: datetime64[ns]"
      ]
     },
     "metadata": {},
     "output_type": "display_data"
    },
    {
     "data": {
      "text/plain": [
       "830000   2016-09-21 19:11:50\n",
       "Name: event time:timestamp, dtype: datetime64[ns]"
      ]
     },
     "metadata": {},
     "output_type": "display_data"
    },
    {
     "data": {
      "text/plain": [
       "840000   2016-09-24 10:51:51\n",
       "Name: event time:timestamp, dtype: datetime64[ns]"
      ]
     },
     "metadata": {},
     "output_type": "display_data"
    },
    {
     "data": {
      "text/plain": [
       "850000   2016-09-27 14:53:44\n",
       "Name: event time:timestamp, dtype: datetime64[ns]"
      ]
     },
     "metadata": {},
     "output_type": "display_data"
    },
    {
     "data": {
      "text/plain": [
       "860000   2016-09-29 16:13:44\n",
       "Name: event time:timestamp, dtype: datetime64[ns]"
      ]
     },
     "metadata": {},
     "output_type": "display_data"
    },
    {
     "data": {
      "text/plain": [
       "870000   2016-10-03 13:21:52\n",
       "Name: event time:timestamp, dtype: datetime64[ns]"
      ]
     },
     "metadata": {},
     "output_type": "display_data"
    },
    {
     "data": {
      "text/plain": [
       "880000   2016-10-05 11:59:10\n",
       "Name: event time:timestamp, dtype: datetime64[ns]"
      ]
     },
     "metadata": {},
     "output_type": "display_data"
    },
    {
     "data": {
      "text/plain": [
       "890000   2016-10-07 13:32:48\n",
       "Name: event time:timestamp, dtype: datetime64[ns]"
      ]
     },
     "metadata": {},
     "output_type": "display_data"
    },
    {
     "data": {
      "text/plain": [
       "900000   2016-10-11 07:19:25\n",
       "Name: event time:timestamp, dtype: datetime64[ns]"
      ]
     },
     "metadata": {},
     "output_type": "display_data"
    },
    {
     "data": {
      "text/plain": [
       "910000   2016-10-13 09:55:39\n",
       "Name: event time:timestamp, dtype: datetime64[ns]"
      ]
     },
     "metadata": {},
     "output_type": "display_data"
    },
    {
     "data": {
      "text/plain": [
       "920000   2016-10-16 22:52:15\n",
       "Name: event time:timestamp, dtype: datetime64[ns]"
      ]
     },
     "metadata": {},
     "output_type": "display_data"
    },
    {
     "data": {
      "text/plain": [
       "930000   2016-10-18 20:59:38\n",
       "Name: event time:timestamp, dtype: datetime64[ns]"
      ]
     },
     "metadata": {},
     "output_type": "display_data"
    },
    {
     "data": {
      "text/plain": [
       "940000   2016-10-21 11:10:16\n",
       "Name: event time:timestamp, dtype: datetime64[ns]"
      ]
     },
     "metadata": {},
     "output_type": "display_data"
    },
    {
     "data": {
      "text/plain": [
       "950000   2016-10-24 15:31:02\n",
       "Name: event time:timestamp, dtype: datetime64[ns]"
      ]
     },
     "metadata": {},
     "output_type": "display_data"
    },
    {
     "data": {
      "text/plain": [
       "960000   2016-10-26 16:42:04\n",
       "Name: event time:timestamp, dtype: datetime64[ns]"
      ]
     },
     "metadata": {},
     "output_type": "display_data"
    },
    {
     "data": {
      "text/plain": [
       "970000   2016-10-29 14:04:00\n",
       "Name: event time:timestamp, dtype: datetime64[ns]"
      ]
     },
     "metadata": {},
     "output_type": "display_data"
    },
    {
     "data": {
      "text/plain": [
       "980000   2016-11-01 16:23:17\n",
       "Name: event time:timestamp, dtype: datetime64[ns]"
      ]
     },
     "metadata": {},
     "output_type": "display_data"
    },
    {
     "data": {
      "text/plain": [
       "990000   2016-11-04 08:44:49\n",
       "Name: event time:timestamp, dtype: datetime64[ns]"
      ]
     },
     "metadata": {},
     "output_type": "display_data"
    },
    {
     "data": {
      "text/plain": [
       "1000000   2016-11-07 19:09:31\n",
       "Name: event time:timestamp, dtype: datetime64[ns]"
      ]
     },
     "metadata": {},
     "output_type": "display_data"
    },
    {
     "data": {
      "text/plain": [
       "1010000   2016-11-09 23:39:27\n",
       "Name: event time:timestamp, dtype: datetime64[ns]"
      ]
     },
     "metadata": {},
     "output_type": "display_data"
    },
    {
     "data": {
      "text/plain": [
       "1020000   2016-11-14 09:28:53\n",
       "Name: event time:timestamp, dtype: datetime64[ns]"
      ]
     },
     "metadata": {},
     "output_type": "display_data"
    },
    {
     "data": {
      "text/plain": [
       "1030000   2016-11-16 09:20:23\n",
       "Name: event time:timestamp, dtype: datetime64[ns]"
      ]
     },
     "metadata": {},
     "output_type": "display_data"
    },
    {
     "data": {
      "text/plain": [
       "1040000   2016-11-18 12:36:19\n",
       "Name: event time:timestamp, dtype: datetime64[ns]"
      ]
     },
     "metadata": {},
     "output_type": "display_data"
    },
    {
     "data": {
      "text/plain": [
       "1050000   2016-11-22 09:03:55\n",
       "Name: event time:timestamp, dtype: datetime64[ns]"
      ]
     },
     "metadata": {},
     "output_type": "display_data"
    },
    {
     "data": {
      "text/plain": [
       "1060000   2016-11-24 13:29:40\n",
       "Name: event time:timestamp, dtype: datetime64[ns]"
      ]
     },
     "metadata": {},
     "output_type": "display_data"
    },
    {
     "data": {
      "text/plain": [
       "1070000   2016-11-28 11:04:35\n",
       "Name: event time:timestamp, dtype: datetime64[ns]"
      ]
     },
     "metadata": {},
     "output_type": "display_data"
    },
    {
     "data": {
      "text/plain": [
       "1080000   2016-11-30 14:37:40\n",
       "Name: event time:timestamp, dtype: datetime64[ns]"
      ]
     },
     "metadata": {},
     "output_type": "display_data"
    },
    {
     "data": {
      "text/plain": [
       "1090000   2016-12-03 07:32:31\n",
       "Name: event time:timestamp, dtype: datetime64[ns]"
      ]
     },
     "metadata": {},
     "output_type": "display_data"
    },
    {
     "data": {
      "text/plain": [
       "1100000   2016-12-06 15:30:15\n",
       "Name: event time:timestamp, dtype: datetime64[ns]"
      ]
     },
     "metadata": {},
     "output_type": "display_data"
    },
    {
     "data": {
      "text/plain": [
       "1110000   2016-12-09 09:15:55\n",
       "Name: event time:timestamp, dtype: datetime64[ns]"
      ]
     },
     "metadata": {},
     "output_type": "display_data"
    },
    {
     "data": {
      "text/plain": [
       "1120000   2016-12-12 15:03:20\n",
       "Name: event time:timestamp, dtype: datetime64[ns]"
      ]
     },
     "metadata": {},
     "output_type": "display_data"
    },
    {
     "data": {
      "text/plain": [
       "1130000   2016-12-15 08:30:20\n",
       "Name: event time:timestamp, dtype: datetime64[ns]"
      ]
     },
     "metadata": {},
     "output_type": "display_data"
    },
    {
     "data": {
      "text/plain": [
       "1140000   2016-12-19 11:10:12\n",
       "Name: event time:timestamp, dtype: datetime64[ns]"
      ]
     },
     "metadata": {},
     "output_type": "display_data"
    },
    {
     "data": {
      "text/plain": [
       "1150000   2016-12-21 14:31:48\n",
       "Name: event time:timestamp, dtype: datetime64[ns]"
      ]
     },
     "metadata": {},
     "output_type": "display_data"
    },
    {
     "data": {
      "text/plain": [
       "1160000   2016-12-24 11:04:08\n",
       "Name: event time:timestamp, dtype: datetime64[ns]"
      ]
     },
     "metadata": {},
     "output_type": "display_data"
    },
    {
     "data": {
      "text/plain": [
       "1170000   2016-12-28 20:21:21\n",
       "Name: event time:timestamp, dtype: datetime64[ns]"
      ]
     },
     "metadata": {},
     "output_type": "display_data"
    },
    {
     "data": {
      "text/plain": [
       "1180000   2017-01-02 11:15:28\n",
       "Name: event time:timestamp, dtype: datetime64[ns]"
      ]
     },
     "metadata": {},
     "output_type": "display_data"
    },
    {
     "data": {
      "text/plain": [
       "1190000   2017-01-06 15:17:56\n",
       "Name: event time:timestamp, dtype: datetime64[ns]"
      ]
     },
     "metadata": {},
     "output_type": "display_data"
    },
    {
     "data": {
      "text/plain": [
       "1200000   2017-01-23 08:44:22\n",
       "Name: event time:timestamp, dtype: datetime64[ns]"
      ]
     },
     "metadata": {},
     "output_type": "display_data"
    }
   ],
   "source": [
    "for i in range(0,1202267, 10000):\n",
    "    display(df_data['event time:timestamp'].iloc[[i]])"
   ]
  },
  {
   "cell_type": "code",
   "execution_count": null,
   "metadata": {},
   "outputs": [],
   "source": []
  }
 ],
 "metadata": {
  "interpreter": {
   "hash": "916dbcbb3f70747c44a77c7bcd40155683ae19c65e1c03b4aa3499c5328201f1"
  },
  "kernelspec": {
   "display_name": "Python 3.8.10 64-bit",
   "language": "python",
   "name": "python3"
  },
  "language_info": {
   "codemirror_mode": {
    "name": "ipython",
    "version": 3
   },
   "file_extension": ".py",
   "mimetype": "text/x-python",
   "name": "python",
   "nbconvert_exporter": "python",
   "pygments_lexer": "ipython3",
   "version": "3.8.10"
  },
  "orig_nbformat": 4
 },
 "nbformat": 4,
 "nbformat_minor": 2
}
