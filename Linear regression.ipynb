{
 "cells": [
  {
   "cell_type": "code",
   "execution_count": 1,
   "metadata": {},
   "outputs": [],
   "source": [
    "import matplotlib.pyplot as plt\n",
    "import numpy as np\n",
    "\n",
    "%run functions/preprocess.py\n",
    "%run functions/linear_regression.py\n",
    "\n",
    "np.set_printoptions(formatter={'float_kind':'{:f}'.format})\n",
    "pd.set_option('display.float_format', lambda x: '%.3f' % x)\n",
    "plt.style.use('seaborn')"
   ]
  },
  {
   "cell_type": "markdown",
   "metadata": {},
   "source": [
    "## Loading the data"
   ]
  },
  {
   "cell_type": "code",
   "execution_count": null,
   "metadata": {},
   "outputs": [],
   "source": [
    "path = open('path.txt', 'r').read().strip()\n",
    "df_data = pd.read_pickle(path)\n",
    "df_data = df_data.drop(['time of day', 'weekday', 'Unix', 'next_event', 'prev_event', \n",
    "                        'nextUnix', 'prevUnix', 'prevTime'], axis=1)"
   ]
  },
  {
   "cell_type": "code",
   "execution_count": null,
   "metadata": {},
   "outputs": [],
   "source": [
    "np.random.seed(42)\n",
    "\n",
    "df_data = df_data[df_data['case concept:name'].isin(np.random.choice(df_data['case concept:name'].unique(), size=7000, replace=False))]"
   ]
  },
  {
   "cell_type": "code",
   "execution_count": null,
   "metadata": {},
   "outputs": [],
   "source": [
    "from sklearn.model_selection import train_test_split\n",
    "\n",
    "df_data, df_test = train_test_split(df_data, test_size=0.2, shuffle=False)"
   ]
  },
  {
   "cell_type": "code",
   "execution_count": null,
   "metadata": {},
   "outputs": [],
   "source": [
    "def encode(df):\n",
    "    \"\"\"One hot encodes columns\"\"\"\n",
    "    df = one_hot_encode(df, 'event Action', 'action')\n",
    "    df = one_hot_encode(df, 'case LoanGoal', 'loangoal')\n",
    "    df = one_hot_encode(df, 'case ApplicationType', 'appl_type')\n",
    "    df = one_hot_encode(df, 'event org:resource', '')\n",
    "    df = one_hot_encode(df, 'event concept:name', 'eventname')\n",
    "    df = one_hot_encode(df, 'event EventOrigin', 'origin')\n",
    "    df = one_hot_encode(df, 'event lifecycle:transition', 'lifecycle')\n",
    "    return df\n",
    "    \n",
    "df_data = encode(df_data)"
   ]
  },
  {
   "cell_type": "code",
   "execution_count": null,
   "metadata": {},
   "outputs": [],
   "source": [
    "def time_diff(df):\n",
    "    \"\"\"Calculates time difference between i and i+1 \n",
    "    within a trace and converts the value to log\"\"\"\n",
    "    df['time_diff'] = (df['nextTime'] - df['event time:timestamp']).dt.total_seconds()\n",
    "    df = df.dropna().reset_index(drop=True)\n",
    "    \n",
    "    df = df[df['time_diff']>=0]\n",
    "    df['time_diff'] = np.log(df['time_diff'].replace(0, np.nan))\n",
    "    df['time_diff'] = df['time_diff'].replace(np.nan, 0)\n",
    "    \n",
    "    return df.drop(['event time:timestamp', 'nextTime'], axis=1)\n",
    "\n",
    "df_data = time_diff(df_data)"
   ]
  },
  {
   "cell_type": "code",
   "execution_count": null,
   "metadata": {},
   "outputs": [
    {
     "data": {
      "text/html": [
       "<div>\n",
       "<style scoped>\n",
       "    .dataframe tbody tr th:only-of-type {\n",
       "        vertical-align: middle;\n",
       "    }\n",
       "\n",
       "    .dataframe tbody tr th {\n",
       "        vertical-align: top;\n",
       "    }\n",
       "\n",
       "    .dataframe thead th {\n",
       "        text-align: right;\n",
       "    }\n",
       "</style>\n",
       "<table border=\"1\" class=\"dataframe\">\n",
       "  <thead>\n",
       "    <tr style=\"text-align: right;\">\n",
       "      <th></th>\n",
       "    </tr>\n",
       "  </thead>\n",
       "  <tbody>\n",
       "  </tbody>\n",
       "</table>\n",
       "</div>"
      ],
      "text/plain": [
       "Empty DataFrame\n",
       "Columns: []\n",
       "Index: []"
      ]
     },
     "execution_count": 7,
     "metadata": {},
     "output_type": "execute_result"
    }
   ],
   "source": [
    "df_data.groupby('case concept:name').apply(lambda x: sliding_window(3, x))"
   ]
  },
  {
   "cell_type": "code",
   "execution_count": null,
   "metadata": {},
   "outputs": [],
   "source": [
    "test = cross_validate(np.array(X), np.array(Y))\n",
    "model = test[1]"
   ]
  },
  {
   "cell_type": "markdown",
   "metadata": {},
   "source": [
    "---"
   ]
  },
  {
   "cell_type": "markdown",
   "metadata": {},
   "source": [
    "## Testing"
   ]
  },
  {
   "cell_type": "code",
   "execution_count": null,
   "metadata": {},
   "outputs": [
    {
     "data": {
      "text/plain": [
       "0"
      ]
     },
     "execution_count": 26,
     "metadata": {},
     "output_type": "execute_result"
    }
   ],
   "source": [
    "encode(df_test)\n",
    "time_diff(df_test)\n"
   ]
  },
  {
   "cell_type": "code",
   "execution_count": null,
   "metadata": {},
   "outputs": [
    {
     "ename": "NameError",
     "evalue": "name 'test' is not defined",
     "output_type": "error",
     "traceback": [
      "\u001b[0;31m---------------------------------------------------------------------------\u001b[0m",
      "\u001b[0;31mNameError\u001b[0m                                 Traceback (most recent call last)",
      "\u001b[1;32m/home/dazai/Documents/Processmining/ProcessMining/Linear regression.ipynb Cell 9'\u001b[0m in \u001b[0;36m<cell line: 1>\u001b[0;34m()\u001b[0m\n\u001b[0;32m----> <a href='vscode-notebook-cell:/home/dazai/Documents/Processmining/ProcessMining/Linear%20regression.ipynb#ch0000015?line=0'>1</a>\u001b[0m model \u001b[39m=\u001b[39m test[\u001b[39m1\u001b[39m]\n\u001b[1;32m      <a href='vscode-notebook-cell:/home/dazai/Documents/Processmining/ProcessMining/Linear%20regression.ipynb#ch0000015?line=1'>2</a>\u001b[0m test \u001b[39m=\u001b[39m test[\u001b[39m0\u001b[39m]\n\u001b[1;32m      <a href='vscode-notebook-cell:/home/dazai/Documents/Processmining/ProcessMining/Linear%20regression.ipynb#ch0000015?line=2'>3</a>\u001b[0m mse \u001b[39m=\u001b[39m np\u001b[39m.\u001b[39mmean([mean_squared_error(i[\u001b[39m0\u001b[39m], i[\u001b[39m1\u001b[39m]) \u001b[39mfor\u001b[39;00m i \u001b[39min\u001b[39;00m test])\n",
      "\u001b[0;31mNameError\u001b[0m: name 'test' is not defined"
     ]
    }
   ],
   "source": [
    "model = test[1]\n",
    "test = test[0]\n",
    "mse = np.mean([mean_squared_error(i[0], i[1]) for i in test])\n",
    "r2 = np.mean([r2_score(i[0], i[1]) for i in test])\n",
    "mae = np.mean([mean_absolute_error(i[0], i[1]) for i in test])\n",
    "rmse = np.mean([mean_squared_error(i[0], i[1], squared=False) for i in test])\n",
    "# print(f'mse: {math.exp(mse)}\\nr^2: {r2}\\nrmse: {math.exp(rmse)}\\nmae:{math.exp(mae)}')\n",
    "print(f'mse: {mse}\\nr^2: {r2}\\nrmse: {rmse}\\nmae:{mae}')"
   ]
  },
  {
   "cell_type": "code",
   "execution_count": null,
   "metadata": {},
   "outputs": [],
   "source": [
    "# cols = df_data.columns.tolist()\n",
    "# cols.remove('time_diff')\n",
    "# cols = cols + ['time_diff']\n",
    "# df_data = df_data[cols]\n",
    "\n",
    "# categorial = ['case LoanGoal']\n",
    "# numerical = ['case RequestedAmount']\n",
    "# df_data.drop(categorial, axis=1).drop(numerical, axis=1)\n"
   ]
  }
 ],
 "metadata": {
  "interpreter": {
   "hash": "916dbcbb3f70747c44a77c7bcd40155683ae19c65e1c03b4aa3499c5328201f1"
  },
  "kernelspec": {
   "display_name": "Python 3.8.10 64-bit",
   "language": "python",
   "name": "python3"
  },
  "language_info": {
   "codemirror_mode": {
    "name": "ipython",
    "version": 3
   },
   "file_extension": ".py",
   "mimetype": "text/x-python",
   "name": "python",
   "nbconvert_exporter": "python",
   "pygments_lexer": "ipython3",
   "version": "3.8.10"
  },
  "orig_nbformat": 4
 },
 "nbformat": 4,
 "nbformat_minor": 2
}
