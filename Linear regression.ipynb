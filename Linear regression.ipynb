{
 "cells": [
  {
   "cell_type": "code",
   "execution_count": 1,
   "metadata": {},
   "outputs": [],
   "source": [
    "import matplotlib.pyplot as plt\n",
    "import numpy as np\n",
    "\n",
    "%run functions/preprocess.py\n",
    "%run functions/linear_regression.py\n",
    "\n",
    "np.set_printoptions(formatter={'float_kind': '{:f}'.format})\n",
    "pd.set_option('display.float_format', lambda x: '%.3f' % x)\n",
    "plt.style.use('seaborn')\n"
   ]
  },
  {
   "cell_type": "markdown",
   "metadata": {},
   "source": [
    "## Loading the data"
   ]
  },
  {
   "cell_type": "code",
   "execution_count": 2,
   "metadata": {},
   "outputs": [],
   "source": [
    "path = open('path.txt', 'r').read().strip()\n",
    "df_data = pd.read_pickle(path)\n",
    "df_data = df_data.drop(['time of day', 'weekday', 'Unix', 'next_event', 'prev_event',\n",
    "                        'nextUnix', 'prevUnix', 'prevTime', 'event org:resource'], axis=1)\n",
    "\n",
    "\n",
    "# should actually be done after splitting\n",
    "df_data = encode(df_data)\n",
    "df_data = time_diff(df_data)\n"
   ]
  },
  {
   "cell_type": "code",
   "execution_count": 3,
   "metadata": {},
   "outputs": [],
   "source": [
    "def sliding_window(window_size, df):\n",
    "    \"\"\"transforms df_data into supervised form \n",
    "    with rolling window implementations\n",
    "\n",
    "    Args:\n",
    "        window_size (int): size of rolling window\n",
    "\n",
    "    Returns:\n",
    "        (X, Y): tuple of input and output arrays\n",
    "    \"\"\"\n",
    "\n",
    "    windows = list(df.rolling(window=window_size))\n",
    "    for i in windows[window_size-1:]:\n",
    "        # split into X and Y\n",
    "        i = i.drop('case concept:name', axis=1)\n",
    "        temp = i.to_numpy()\n",
    "        temp = [item for sublist in temp for item in sublist]\n",
    "        Y.append(temp.pop(-1))\n",
    "        X.append(temp)\n",
    "    return None\n"
   ]
  },
  {
   "cell_type": "code",
   "execution_count": 4,
   "metadata": {},
   "outputs": [],
   "source": [
    "from sklearn.model_selection import train_test_split\n",
    "np.random.seed(42)\n",
    "# randomly sample traces from log\n",
    "df_data = df_data[df_data['case concept:name'].isin(np.random.choice(\n",
    "    df_data['case concept:name'].unique(), size=2000, replace=False))]\n",
    "\n",
    "df_data, df_test = train_test_split(df_data, test_size=0.2, shuffle=False)\n"
   ]
  },
  {
   "cell_type": "code",
   "execution_count": 5,
   "metadata": {},
   "outputs": [],
   "source": [
    "X = []\n",
    "Y = []\n",
    "\n",
    "# transform into windows\n",
    "df_data.groupby('case concept:name').apply(lambda x: sliding_window(4, x))\n",
    "# cross validation and training\n",
    "cv = cross_validate(np.array(X), np.array(Y))\n",
    "model = cv[1]\n"
   ]
  },
  {
   "cell_type": "markdown",
   "metadata": {},
   "source": [
    "---"
   ]
  },
  {
   "cell_type": "markdown",
   "metadata": {},
   "source": [
    "## Testing"
   ]
  },
  {
   "cell_type": "code",
   "execution_count": null,
   "metadata": {},
   "outputs": [],
   "source": [
    "# df_test = encode(df_test)\n",
    "# df_test = time_diff(df_test)\n"
   ]
  },
  {
   "cell_type": "code",
   "execution_count": null,
   "metadata": {},
   "outputs": [],
   "source": [
    "X = []\n",
    "Y = []\n",
    "# transform into windows\n",
    "df_test.groupby('case concept:name').apply(lambda x: sliding_window(4, x))\n",
    "y_pred = model.predict(X)\n",
    "\n",
    "error = cv[0]\n"
   ]
  },
  {
   "cell_type": "code",
   "execution_count": null,
   "metadata": {},
   "outputs": [
    {
     "name": "stdout",
     "output_type": "stream",
     "text": [
      "mse: inf\n",
      "r^2: -3.884551415953214e+16\n",
      "rmse: inf\n",
      "mae:inf\n"
     ]
    },
    {
     "name": "stderr",
     "output_type": "stream",
     "text": [
      "/tmp/ipykernel_39145/604088035.py:9: RuntimeWarning: overflow encountered in exp\n",
      "  print(f'mse: {np.exp(mse)}\\nr^2: {r2}\\nrmse: {np.exp(rmse)}\\nmae:{np.exp(mae)}')\n"
     ]
    }
   ],
   "source": [
    "from sklearn.metrics import mean_squared_error\n",
    "from sklearn.metrics import r2_score\n",
    "from sklearn.metrics import mean_absolute_error\n",
    "\n",
    "mse = np.mean([mean_squared_error(i[0], i[1]) for i in error])\n",
    "r2 = np.mean([r2_score(i[0], i[1]) for i in error])\n",
    "mae = np.mean([mean_absolute_error(i[0], i[1]) for i in error])\n",
    "rmse = np.mean([mean_squared_error(i[0], i[1], squared=False) for i in error])\n",
    "print(f'mse: {np.exp(mse)}\\nr^2: {r2}\\nrmse: {np.exp(rmse)}\\nmae:{np.exp(mae)}')\n",
    "# print(f'mse: {mse}\\nr^2: {r2}\\nrmse: {rmse}\\nmae:{mae}')\n"
   ]
  },
  {
   "cell_type": "code",
   "execution_count": null,
   "metadata": {},
   "outputs": [],
   "source": [
    "# cols = df_data.columns.tolist()\n",
    "# cols.remove('time_diff')\n",
    "# cols = cols + ['time_diff']\n",
    "# df_data = df_data[cols]\n",
    "\n",
    "# categorial = ['case LoanGoal']\n",
    "# numerical = ['case RequestedAmount']\n",
    "# df_data.drop(categorial, axis=1).drop(numerical, axis=1)\n"
   ]
  }
 ],
 "metadata": {
  "interpreter": {
   "hash": "916dbcbb3f70747c44a77c7bcd40155683ae19c65e1c03b4aa3499c5328201f1"
  },
  "kernelspec": {
   "display_name": "Python 3.8.10 64-bit",
   "language": "python",
   "name": "python3"
  },
  "language_info": {
   "codemirror_mode": {
    "name": "ipython",
    "version": 3
   },
   "file_extension": ".py",
   "mimetype": "text/x-python",
   "name": "python",
   "nbconvert_exporter": "python",
   "pygments_lexer": "ipython3",
   "version": "3.8.10"
  },
  "orig_nbformat": 4
 },
 "nbformat": 4,
 "nbformat_minor": 2
}
