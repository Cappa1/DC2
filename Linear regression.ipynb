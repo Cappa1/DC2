{
 "cells": [
  {
   "cell_type": "code",
   "execution_count": 1,
   "metadata": {},
   "outputs": [],
   "source": [
    "import matplotlib.pyplot as plt\n",
    "import numpy as np\n",
    "import seaborn as sns\n",
    "%run functions/preprocess.py\n",
    "%run functions/linear_regression.py\n",
    "\n",
    "np.set_printoptions(formatter={'float_kind': '{:f}'.format})\n",
    "pd.set_option('display.float_format', lambda x: '%.3f' % x)\n",
    "plt.style.use('seaborn')\n"
   ]
  },
  {
   "cell_type": "markdown",
   "metadata": {},
   "source": [
    "## Loading the data"
   ]
  },
  {
   "cell_type": "code",
   "execution_count": 2,
   "metadata": {},
   "outputs": [],
   "source": [
    "df_data = pd.read_pickle('processed2017.pkl')\n",
    "df_data = df_data.drop(['time of day', 'weekday', 'Unix', 'next_event', 'prev_event',\n",
    "                        'nextUnix', 'prevUnix', 'prevTime', 'event org:resource'], axis=1)\n",
    "\n",
    "\n",
    "# should actually be done after splitting\n",
    "df_data = encode(df_data)\n",
    "df_data = time_diff(df_data, outlier='keep')\n",
    "\n",
    "\n",
    "df_data.drop(['loangoal_Debt restructuring',\n",
    " 'eventname_W_Personal Loan collection',\n",
    " 'action_Deleted',\n",
    " 'action_Obtained',\n",
    " 'action_Released',\n",
    " 'eventname_O_Accepted',\n",
    " 'eventname_W_Assess potential fraud',\n",
    " 'origin_Workflow',\n",
    " 'hour',\n",
    " 'action_statechange',\n",
    " 'loangoal_Car',\n",
    " 'origin_Offer',\n",
    " 'lifecycle_complete',\n",
    " 'appl_type_New credit'], axis=1, inplace = True)\n"
   ]
  },
  {
   "cell_type": "code",
   "execution_count": 3,
   "metadata": {},
   "outputs": [],
   "source": [
    "def sliding_window(window_size, df):\n",
    "    \"\"\"transforms df_data into supervised form \n",
    "    with rolling window implementations\n",
    "\n",
    "    Args:\n",
    "        window_size (int): size of rolling window\n",
    "\n",
    "    Returns:\n",
    "        (X, Y): tuple of input and output arrays\n",
    "    \"\"\"\n",
    "\n",
    "    windows = list(df.rolling(window=window_size))\n",
    "    for i in windows[window_size-1:]:\n",
    "        # split into X and Y\n",
    "        i = i.drop('case concept:name', axis=1)\n",
    "        temp = i.to_numpy()\n",
    "        temp = [item for sublist in temp for item in sublist]\n",
    "        Y.append(temp.pop(-1))\n",
    "        X.append(temp)\n",
    "    return None\n"
   ]
  },
  {
   "cell_type": "code",
   "execution_count": 18,
   "metadata": {},
   "outputs": [],
   "source": [
    "from sklearn.model_selection import train_test_split\n",
    "np.random.seed(1587)\n",
    "# randomly sample traces from log\n",
    "df_data = df_data[df_data['case concept:name'].isin(np.random.choice(\n",
    "    df_data['case concept:name'].unique(), size=10000, replace=True))]\n",
    "\n",
    "df_test, df_train = train_test_split(df_data, test_size=0.9, shuffle=False)\n",
    "df_train, df_test = del_intersection(df_train, df_test)\n"
   ]
  },
  {
   "cell_type": "markdown",
   "metadata": {},
   "source": [
    "---"
   ]
  },
  {
   "cell_type": "markdown",
   "metadata": {},
   "source": [
    "## Training"
   ]
  },
  {
   "cell_type": "code",
   "execution_count": 19,
   "metadata": {},
   "outputs": [],
   "source": [
    "X = []\n",
    "Y = []\n",
    "\n",
    "# transform into windows\n",
    "df_train.groupby('case concept:name').apply(lambda x: sliding_window(3, x))\n",
    "# cross validation and training\n",
    "cv = cross_validate(np.array(X), np.array(Y))\n",
    "\n",
    "model = cv[1]\n"
   ]
  },
  {
   "cell_type": "code",
   "execution_count": 20,
   "metadata": {},
   "outputs": [
    {
     "name": "stdout",
     "output_type": "stream",
     "text": [
      "mse: 155.49435481815823\n",
      "r^2: 0.7276169695579467\n",
      "rmse: 9.451971274771813\n",
      "mae:4.7853972432795135\n"
     ]
    }
   ],
   "source": [
    "from sklearn.metrics import mean_squared_error\n",
    "from sklearn.metrics import r2_score\n",
    "from sklearn.metrics import mean_absolute_error\n",
    "\n",
    "error = cv[0]\n",
    "\n",
    "mse = np.mean([mean_squared_error(i[0], i[1]) for i in error])\n",
    "r2 = np.mean([r2_score(i[0], i[1]) for i in error])\n",
    "mae = np.mean([mean_absolute_error(i[0], i[1]) for i in error])\n",
    "rmse = np.mean([mean_squared_error(i[0], i[1], squared=False) for i in error])\n",
    "print(f'mse: {np.exp(mse)}\\nr^2: {r2}\\nrmse: {np.exp(rmse)}\\nmae:{np.exp(mae)}')\n"
   ]
  },
  {
   "cell_type": "markdown",
   "metadata": {},
   "source": [
    "---"
   ]
  },
  {
   "cell_type": "markdown",
   "metadata": {},
   "source": [
    "## Results"
   ]
  },
  {
   "cell_type": "code",
   "execution_count": 21,
   "metadata": {},
   "outputs": [],
   "source": [
    "# df_test = encode(df_test)\n",
    "# df_test = time_diff(df_test)\n"
   ]
  },
  {
   "cell_type": "code",
   "execution_count": 22,
   "metadata": {},
   "outputs": [
    {
     "data": {
      "text/html": [
       "<div>\n",
       "<style scoped>\n",
       "    .dataframe tbody tr th:only-of-type {\n",
       "        vertical-align: middle;\n",
       "    }\n",
       "\n",
       "    .dataframe tbody tr th {\n",
       "        vertical-align: top;\n",
       "    }\n",
       "\n",
       "    .dataframe thead th {\n",
       "        text-align: right;\n",
       "    }\n",
       "</style>\n",
       "<table border=\"1\" class=\"dataframe\">\n",
       "  <thead>\n",
       "    <tr style=\"text-align: right;\">\n",
       "      <th></th>\n",
       "    </tr>\n",
       "  </thead>\n",
       "  <tbody>\n",
       "  </tbody>\n",
       "</table>\n",
       "</div>"
      ],
      "text/plain": [
       "Empty DataFrame\n",
       "Columns: []\n",
       "Index: []"
      ]
     },
     "execution_count": 22,
     "metadata": {},
     "output_type": "execute_result"
    }
   ],
   "source": [
    "X = []\n",
    "Y = []\n",
    "# transform into windows\n",
    "df_test.groupby('case concept:name').apply(lambda x: sliding_window(3, x))\n"
   ]
  },
  {
   "cell_type": "code",
   "execution_count": 23,
   "metadata": {},
   "outputs": [
    {
     "name": "stdout",
     "output_type": "stream",
     "text": [
      "mse: 93.47714236290425\n",
      "r^2: 0.7387261559558628\n",
      "rmse: 8.41648061155261\n",
      "mae:4.450589529934739\n"
     ]
    }
   ],
   "source": [
    "y_pred = model.predict(X)\n",
    "mse = mean_squared_error(Y, y_pred)\n",
    "r2 = r2_score(Y, y_pred)\n",
    "mae = mean_absolute_error(Y, y_pred)\n",
    "rmse = mean_squared_error(Y, y_pred, squared=False)\n",
    "print(f'mse: {np.exp(mse)}\\nr^2: {r2}\\nrmse: {np.exp(rmse)}\\nmae:{np.exp(mae)}')\n"
   ]
  },
  {
   "cell_type": "code",
   "execution_count": 24,
   "metadata": {},
   "outputs": [
    {
     "data": {
      "image/png": "[encoded data removed]",
      "text/plain": [
       "<Figure size 720x504 with 1 Axes>"
      ]
     },
     "metadata": {},
     "output_type": "display_data"
    }
   ],
   "source": [
    "y_true = pd.DataFrame(Y)\n",
    "y_pred = pd.DataFrame(y_pred)\n",
    "df_error = pd.concat([y_true, y_pred], axis=1)\n",
    "df_error.columns = ['y_true', 'y_pred']\n",
    "df_error.reset_index(inplace=True)\n",
    "df_error['error'] = df_error['y_true'] - df_error['y_pred']\n",
    "\n",
    "fig, ax = plt.subplots(figsize=(10, 7))\n",
    "# df_error.plot.hist(x='index', y='error', figsize=(10,5), ax=ax, bins=10)\n",
    "sns.histplot(data=df_error, x='error', ax=ax, color='salmon')\n",
    "ax.set_title('Error distribution with log transform', size=30)\n",
    "ax.set_ylabel('count', fontsize=20)\n",
    "ax.set_xlabel('Error in e^seconds', fontsize=20)\n",
    "plt.yticks(fontsize=20)\n",
    "plt.xticks(fontsize=20);\n"
   ]
  },
  {
   "cell_type": "code",
   "execution_count": 25,
   "metadata": {},
   "outputs": [
    {
     "data": {
      "image/png": "[encoded data removed]",
      "text/plain": [
       "<Figure size 576x396 with 1 Axes>"
      ]
     },
     "metadata": {},
     "output_type": "display_data"
    }
   ],
   "source": [
    "import numpy as np\n",
    "import statsmodels.api as sm\n",
    "import pylab as py\n",
    "  \n",
    "# np.random generates different random numbers\n",
    "# whenever the code is executed\n",
    "# Note: When you execute the same code \n",
    "# the graph look different than shown below.\n",
    "  \n",
    "# Random data points generated\n",
    "data_points = np.random.normal(0, 1, 100)    \n",
    "  \n",
    "sm.qqplot(df_error['error'], line ='45')\n",
    "py.show()"
   ]
  },
  {
   "cell_type": "code",
   "execution_count": 12,
   "metadata": {},
   "outputs": [],
   "source": [
    "# cols = df_data.columns.tolist()\n",
    "# cols.remove('time_diff')\n",
    "# cols = cols + ['time_diff']\n",
    "# df_data = df_data[cols]\n",
    "\n",
    "# categorial = ['case LoanGoal']\n",
    "# numerical = ['case RequestedAmount']\n",
    "# df_data.drop(categorial, axis=1).drop(numerical, axis=1)\n"
   ]
  },
  {
   "cell_type": "code",
   "execution_count": 13,
   "metadata": {},
   "outputs": [],
   "source": [
    "# model.summary()\n"
   ]
  }
 ],
 "metadata": {
  "interpreter": {
   "hash": "916dbcbb3f70747c44a77c7bcd40155683ae19c65e1c03b4aa3499c5328201f1"
  },
  "kernelspec": {
   "display_name": "Python 3.8.10 64-bit",
   "language": "python",
   "name": "python3"
  },
  "language_info": {
   "codemirror_mode": {
    "name": "ipython",
    "version": 3
   },
   "file_extension": ".py",
   "mimetype": "text/x-python",
   "name": "python",
   "nbconvert_exporter": "python",
   "pygments_lexer": "ipython3",
   "version": "3.8.10"
  },
  "orig_nbformat": 4
 },
 "nbformat": 4,
 "nbformat_minor": 2
}
