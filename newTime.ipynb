{
 "cells": [
  {
   "cell_type": "code",
   "execution_count": 1,
   "id": "74baffd9",
   "metadata": {},
   "outputs": [],
   "source": [
    "import pandas as pd\n",
    "import matplotlib.pyplot as plt\n",
    "import seaborn as sns\n",
    "import numpy as np\n",
    "from sklearn.preprocessing import LabelEncoder\n",
    "from sklearn.model_selection import train_test_split\n",
    "from sklearn.metrics import accuracy_score\n",
    "import random\n",
    "from sklearn import tree\n",
    "from sklearn.cluster import KMeans\n",
    "import time \n",
    "import datetime\n",
    "from datetime import date"
   ]
  },
  {
   "cell_type": "code",
   "execution_count": 2,
   "id": "5fecee4e",
   "metadata": {},
   "outputs": [
    {
     "name": "stdout",
     "output_type": "stream",
     "text": [
      "Wall time: 1min 20s\n"
     ]
    }
   ],
   "source": [
    "%%time\n",
    "pd.set_option('display.float_format', lambda x: '%.3f' % x)\n",
    "\n",
    "df_train = pd.read_csv('BPI_Challenge_2012-training.csv')\n",
    "df_test = pd.read_csv('BPI_Challenge_2012-test.csv')\n",
    "\n",
    "\n",
    "unixTransform = lambda x: time.mktime(x.timetuple())\n",
    "secondsTransform = lambda x: x.total_seconds()\n",
    "\n",
    "\n",
    "df_train[\"event time:timestamp\"] = pd.to_datetime(df_train[\"event time:timestamp\"], dayfirst=True)\n",
    "\n",
    "#df_train[\"UNIX\"] = df_train[\"event time:timestamp\"].apply(unixTransform)"
   ]
  },
  {
   "cell_type": "code",
   "execution_count": 3,
   "id": "f958ed35",
   "metadata": {},
   "outputs": [],
   "source": [
    "# Only keep COMPLETE events - Jarl\n",
    "df_complete = df_train[df_train[\"event lifecycle:transition\"] == \"COMPLETE\"]"
   ]
  },
  {
   "cell_type": "code",
   "execution_count": 4,
   "id": "6be02206",
   "metadata": {},
   "outputs": [],
   "source": [
    "def EventTime(data):\n",
    "    \n",
    "    for i in list(data[\"case concept:name\"].unique()):\n",
    "        data.loc[data[\"case concept:name\"] == i, \"nextTIME\"] = data.loc[data[\"case concept:name\"] == i, \"event time:timestamp\"].shift(-1)\n",
    "    return data"
   ]
  },
  {
   "cell_type": "code",
   "execution_count": 5,
   "id": "fabdb727",
   "metadata": {
    "scrolled": false
   },
   "outputs": [
    {
     "name": "stderr",
     "output_type": "stream",
     "text": [
      "C:\\Users\\rodri\\anaconda3\\lib\\site-packages\\pandas\\core\\indexing.py:1681: SettingWithCopyWarning: \n",
      "A value is trying to be set on a copy of a slice from a DataFrame.\n",
      "Try using .loc[row_indexer,col_indexer] = value instead\n",
      "\n",
      "See the caveats in the documentation: https://pandas.pydata.org/pandas-docs/stable/user_guide/indexing.html#returning-a-view-versus-a-copy\n",
      "  self.obj[key] = empty_value\n",
      "C:\\Users\\rodri\\anaconda3\\lib\\site-packages\\pandas\\core\\indexing.py:1773: SettingWithCopyWarning: \n",
      "A value is trying to be set on a copy of a slice from a DataFrame.\n",
      "Try using .loc[row_indexer,col_indexer] = value instead\n",
      "\n",
      "See the caveats in the documentation: https://pandas.pydata.org/pandas-docs/stable/user_guide/indexing.html#returning-a-view-versus-a-copy\n",
      "  self._setitem_single_column(ilocs[0], value, pi)\n"
     ]
    },
    {
     "name": "stdout",
     "output_type": "stream",
     "text": [
      "Wall time: 59.2 s\n"
     ]
    }
   ],
   "source": [
    "%%time\n",
    "df_next = EventTime(df_complete)"
   ]
  },
  {
   "cell_type": "code",
   "execution_count": 6,
   "id": "18fa18a4",
   "metadata": {
    "scrolled": true
   },
   "outputs": [
    {
     "name": "stderr",
     "output_type": "stream",
     "text": [
      "<ipython-input-6-5975738714a4>:1: SettingWithCopyWarning: \n",
      "A value is trying to be set on a copy of a slice from a DataFrame.\n",
      "Try using .loc[row_indexer,col_indexer] = value instead\n",
      "\n",
      "See the caveats in the documentation: https://pandas.pydata.org/pandas-docs/stable/user_guide/indexing.html#returning-a-view-versus-a-copy\n",
      "  df_next[\"Completion Time\"] = np.nan\n",
      "<ipython-input-6-5975738714a4>:2: SettingWithCopyWarning: \n",
      "A value is trying to be set on a copy of a slice from a DataFrame.\n",
      "Try using .loc[row_indexer,col_indexer] = value instead\n",
      "\n",
      "See the caveats in the documentation: https://pandas.pydata.org/pandas-docs/stable/user_guide/indexing.html#returning-a-view-versus-a-copy\n",
      "  df_next[\"Completion Time\"] = (df_next[\"nextTIME\"] - df_next[\"event time:timestamp\"]).apply(secondsTransform)\n"
     ]
    }
   ],
   "source": [
    "df_next[\"Completion Time\"] = np.nan\n",
    "df_next[\"Completion Time\"] = (df_next[\"nextTIME\"] - df_next[\"event time:timestamp\"]).apply(secondsTransform)"
   ]
  },
  {
   "cell_type": "code",
   "execution_count": 7,
   "id": "fa329c3a",
   "metadata": {
    "scrolled": false
   },
   "outputs": [
    {
     "data": {
      "text/plain": [
       "eventID                           0\n",
       "case concept:name                 0\n",
       "case REG_DATE                     0\n",
       "case AMOUNT_REQ                   0\n",
       "event concept:name                0\n",
       "event lifecycle:transition        0\n",
       "event time:timestamp              0\n",
       "nextTIME                      10469\n",
       "Completion Time               10469\n",
       "dtype: int64"
      ]
     },
     "execution_count": 7,
     "metadata": {},
     "output_type": "execute_result"
    }
   ],
   "source": [
    "df_next.isnull().sum()"
   ]
  },
  {
   "cell_type": "code",
   "execution_count": 8,
   "id": "1392c7cd",
   "metadata": {},
   "outputs": [
    {
     "name": "stderr",
     "output_type": "stream",
     "text": [
      "<ipython-input-8-87de431324ec>:1: SettingWithCopyWarning: \n",
      "A value is trying to be set on a copy of a slice from a DataFrame.\n",
      "Try using .loc[row_indexer,col_indexer] = value instead\n",
      "\n",
      "See the caveats in the documentation: https://pandas.pydata.org/pandas-docs/stable/user_guide/indexing.html#returning-a-view-versus-a-copy\n",
      "  df_next[\"Time Average\"] = 0\n"
     ]
    }
   ],
   "source": [
    "df_next[\"Time Average\"] = 0"
   ]
  },
  {
   "cell_type": "code",
   "execution_count": 9,
   "id": "4b18b9c6",
   "metadata": {},
   "outputs": [
    {
     "name": "stderr",
     "output_type": "stream",
     "text": [
      "C:\\Users\\rodri\\anaconda3\\lib\\site-packages\\pandas\\core\\indexing.py:1817: SettingWithCopyWarning: \n",
      "A value is trying to be set on a copy of a slice from a DataFrame.\n",
      "Try using .loc[row_indexer,col_indexer] = value instead\n",
      "\n",
      "See the caveats in the documentation: https://pandas.pydata.org/pandas-docs/stable/user_guide/indexing.html#returning-a-view-versus-a-copy\n",
      "  self._setitem_single_column(loc, value, pi)\n"
     ]
    }
   ],
   "source": [
    "for name, group in df_next[[\"event concept:name\", \"Completion Time\"]].groupby([\"event concept:name\"]):\n",
    "    mean = group[\"Completion Time\"].mean()\n",
    "    df_next.loc[df_next[\"event concept:name\"] == name, \"Time Average\"] = mean\n",
    "    \n",
    "    \n",
    "    #df_next[df_next[\"event concept:name\"] == name][\"Time Average\"] = mean\n",
    "    "
   ]
  },
  {
   "cell_type": "code",
   "execution_count": 10,
   "id": "b7f5eecf",
   "metadata": {
    "scrolled": true
   },
   "outputs": [
    {
     "data": {
      "text/html": [
       "<div>\n",
       "<style scoped>\n",
       "    .dataframe tbody tr th:only-of-type {\n",
       "        vertical-align: middle;\n",
       "    }\n",
       "\n",
       "    .dataframe tbody tr th {\n",
       "        vertical-align: top;\n",
       "    }\n",
       "\n",
       "    .dataframe thead th {\n",
       "        text-align: right;\n",
       "    }\n",
       "</style>\n",
       "<table border=\"1\" class=\"dataframe\">\n",
       "  <thead>\n",
       "    <tr style=\"text-align: right;\">\n",
       "      <th></th>\n",
       "      <th>Completion Time</th>\n",
       "    </tr>\n",
       "    <tr>\n",
       "      <th>event concept:name</th>\n",
       "      <th></th>\n",
       "    </tr>\n",
       "  </thead>\n",
       "  <tbody>\n",
       "    <tr>\n",
       "      <th>A_ACCEPTED</th>\n",
       "      <td>224.205</td>\n",
       "    </tr>\n",
       "    <tr>\n",
       "      <th>A_ACTIVATED</th>\n",
       "      <td>3.145</td>\n",
       "    </tr>\n",
       "    <tr>\n",
       "      <th>A_APPROVED</th>\n",
       "      <td>51.336</td>\n",
       "    </tr>\n",
       "    <tr>\n",
       "      <th>A_CANCELLED</th>\n",
       "      <td>181.347</td>\n",
       "    </tr>\n",
       "    <tr>\n",
       "      <th>A_DECLINED</th>\n",
       "      <td>3.443</td>\n",
       "    </tr>\n",
       "    <tr>\n",
       "      <th>A_FINALIZED</th>\n",
       "      <td>2.314</td>\n",
       "    </tr>\n",
       "    <tr>\n",
       "      <th>A_PARTLYSUBMITTED</th>\n",
       "      <td>8060.300</td>\n",
       "    </tr>\n",
       "    <tr>\n",
       "      <th>A_PREACCEPTED</th>\n",
       "      <td>15291.844</td>\n",
       "    </tr>\n",
       "    <tr>\n",
       "      <th>A_REGISTERED</th>\n",
       "      <td>2.527</td>\n",
       "    </tr>\n",
       "    <tr>\n",
       "      <th>A_SUBMITTED</th>\n",
       "      <td>0.583</td>\n",
       "    </tr>\n",
       "    <tr>\n",
       "      <th>O_ACCEPTED</th>\n",
       "      <td>0.832</td>\n",
       "    </tr>\n",
       "    <tr>\n",
       "      <th>O_CANCELLED</th>\n",
       "      <td>1.361</td>\n",
       "    </tr>\n",
       "    <tr>\n",
       "      <th>O_CREATED</th>\n",
       "      <td>0.060</td>\n",
       "    </tr>\n",
       "    <tr>\n",
       "      <th>O_DECLINED</th>\n",
       "      <td>2.137</td>\n",
       "    </tr>\n",
       "    <tr>\n",
       "      <th>O_SELECTED</th>\n",
       "      <td>1.957</td>\n",
       "    </tr>\n",
       "    <tr>\n",
       "      <th>O_SENT</th>\n",
       "      <td>7.829</td>\n",
       "    </tr>\n",
       "    <tr>\n",
       "      <th>O_SENT_BACK</th>\n",
       "      <td>1.933</td>\n",
       "    </tr>\n",
       "    <tr>\n",
       "      <th>W_Afhandelen leads</th>\n",
       "      <td>10668.071</td>\n",
       "    </tr>\n",
       "    <tr>\n",
       "      <th>W_Beoordelen fraude</th>\n",
       "      <td>32487.781</td>\n",
       "    </tr>\n",
       "    <tr>\n",
       "      <th>W_Completeren aanvraag</th>\n",
       "      <td>144287.932</td>\n",
       "    </tr>\n",
       "    <tr>\n",
       "      <th>W_Nabellen incomplete dossiers</th>\n",
       "      <td>58262.990</td>\n",
       "    </tr>\n",
       "    <tr>\n",
       "      <th>W_Nabellen offertes</th>\n",
       "      <td>257392.663</td>\n",
       "    </tr>\n",
       "    <tr>\n",
       "      <th>W_Valideren aanvraag</th>\n",
       "      <td>25998.384</td>\n",
       "    </tr>\n",
       "  </tbody>\n",
       "</table>\n",
       "</div>"
      ],
      "text/plain": [
       "                                Completion Time\n",
       "event concept:name                             \n",
       "A_ACCEPTED                              224.205\n",
       "A_ACTIVATED                               3.145\n",
       "A_APPROVED                               51.336\n",
       "A_CANCELLED                             181.347\n",
       "A_DECLINED                                3.443\n",
       "A_FINALIZED                               2.314\n",
       "A_PARTLYSUBMITTED                      8060.300\n",
       "A_PREACCEPTED                         15291.844\n",
       "A_REGISTERED                              2.527\n",
       "A_SUBMITTED                               0.583\n",
       "O_ACCEPTED                                0.832\n",
       "O_CANCELLED                               1.361\n",
       "O_CREATED                                 0.060\n",
       "O_DECLINED                                2.137\n",
       "O_SELECTED                                1.957\n",
       "O_SENT                                    7.829\n",
       "O_SENT_BACK                               1.933\n",
       "W_Afhandelen leads                    10668.071\n",
       "W_Beoordelen fraude                   32487.781\n",
       "W_Completeren aanvraag               144287.932\n",
       "W_Nabellen incomplete dossiers        58262.990\n",
       "W_Nabellen offertes                  257392.663\n",
       "W_Valideren aanvraag                  25998.384"
      ]
     },
     "execution_count": 10,
     "metadata": {},
     "output_type": "execute_result"
    }
   ],
   "source": [
    "df_next.groupby([\"event concept:name\"])[[\"Completion Time\"]].mean()"
   ]
  }
 ],
 "metadata": {
  "kernelspec": {
   "display_name": "Python 3",
   "language": "python",
   "name": "python3"
  },
  "language_info": {
   "codemirror_mode": {
    "name": "ipython",
    "version": 3
   },
   "file_extension": ".py",
   "mimetype": "text/x-python",
   "name": "python",
   "nbconvert_exporter": "python",
   "pygments_lexer": "ipython3",
   "version": "3.8.5"
  }
 },
 "nbformat": 4,
 "nbformat_minor": 5
}
