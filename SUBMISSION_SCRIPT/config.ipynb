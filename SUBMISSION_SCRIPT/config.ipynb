{
 "cells": [
  {
   "cell_type": "markdown",
   "metadata": {},
   "source": [
    "## Assign the variables that are used throughout the script"
   ]
  },
  {
   "cell_type": "code",
   "execution_count": null,
   "metadata": {},
   "outputs": [],
   "source": [
    "# Path where the data is stored\n",
    "# DATASET IS 2017\n",
    "PATH = \"< ENTER PATH WERE DATA IS STORED>\"\n",
    "TRAIN = f\"{PATH}      THE CSV THAT WAS SPLIT OFF AS TRAINING USING THE JAVA TOOL\"\n",
    "TEST = f\"{PATH}    THE CSV THAT WAS SPLIT OFF AS TEST USING THE JAVA TOOLv\"\n",
    "# Demo is true for faster run time with shortened dataset\n",
    "DEMO = False"
   ]
  },
  {
   "cell_type": "code",
   "execution_count": null,
   "metadata": {},
   "outputs": [],
   "source": []
  }
 ],
 "metadata": {
  "interpreter": {
   "hash": "47c473ffaad557a40d6f692199c8550b37e2966a5f36ac429a864ed95aaad2b0"
  },
  "kernelspec": {
   "display_name": "Python 3.9.11 ('base')",
   "language": "python",
   "name": "python3"
  },
  "language_info": {
   "codemirror_mode": {
    "name": "ipython",
    "version": 3
   },
   "file_extension": ".py",
   "mimetype": "text/x-python",
   "name": "python",
   "nbconvert_exporter": "python",
   "pygments_lexer": "ipython3",
   "version": "3.9.11"
  },
  "orig_nbformat": 4
 },
 "nbformat": 4,
 "nbformat_minor": 2
}
