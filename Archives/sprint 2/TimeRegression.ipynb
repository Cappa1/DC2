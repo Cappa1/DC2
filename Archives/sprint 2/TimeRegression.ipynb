{
 "cells": [
  {
   "cell_type": "code",
   "execution_count": 1,
   "id": "58ebe6fc",
   "metadata": {},
   "outputs": [],
   "source": [
    "import pandas as pd\n",
    "import matplotlib.pyplot as plt\n",
    "import seaborn as sns\n",
    "import numpy as np\n",
    "from sklearn.preprocessing import LabelEncoder\n",
    "from sklearn.model_selection import train_test_split\n",
    "from sklearn.metrics import accuracy_score\n",
    "import random\n",
    "from sklearn import tree\n",
    "from sklearn.cluster import KMeans\n",
    "import time \n",
    "import datetime\n",
    "from datetime import date"
   ]
  },
  {
   "cell_type": "code",
   "execution_count": 2,
   "id": "e553c5a4",
   "metadata": {},
   "outputs": [
    {
     "name": "stdout",
     "output_type": "stream",
     "text": [
      "Wall time: 25.3 s\n"
     ]
    }
   ],
   "source": [
    "%%time\n",
    "pd.set_option('display.float_format', lambda x: '%.3f' % x)\n",
    "\n",
    "df_train = pd.read_csv('BPI_Challenge_2012-training.csv')\n",
    "df_test = pd.read_csv('BPI_Challenge_2012-test.csv')\n",
    "\n",
    "df_data = pd.concat([df_train, df_test])\n",
    "\n",
    "unixTransform = lambda x: time.mktime(x.timetuple())\n",
    "secondsTransform = lambda x: x.total_seconds()\n",
    "\n",
    "df_data[\"event time:timestamp\"] = pd.to_datetime(df_data[\"event time:timestamp\"], dayfirst=True)"
   ]
  },
  {
   "cell_type": "code",
   "execution_count": 3,
   "id": "18754ce3",
   "metadata": {},
   "outputs": [],
   "source": [
    "df_data.sort_values(by=['event time:timestamp'], inplace=True)"
   ]
  },
  {
   "cell_type": "code",
   "execution_count": 4,
   "id": "5f7fbb5c",
   "metadata": {},
   "outputs": [],
   "source": [
    "def EventTime(data):\n",
    "    \n",
    "    for i in list(data[\"case concept:name\"].unique()):\n",
    "        data.loc[data[\"case concept:name\"] == i, \"nextTIME\"] = data.loc[data[\"case concept:name\"] == i, \"event time:timestamp\"].shift(-1)\n",
    "    return data"
   ]
  },
  {
   "cell_type": "code",
   "execution_count": 5,
   "id": "e09b5443",
   "metadata": {},
   "outputs": [
    {
     "name": "stdout",
     "output_type": "stream",
     "text": [
      "Wall time: 27 s\n"
     ]
    }
   ],
   "source": [
    "%%time\n",
    "# Get unique activities and encode them\n",
    "Y = df_data['event concept:name'].unique()\n",
    "label_encoder = LabelEncoder()\n",
    "integer_encoded = label_encoder.fit_transform(Y)\n",
    "\n",
    "df_data = df_data.loc[df_data[\"event lifecycle:transition\"]==\"COMPLETE\"]\n",
    "\n",
    "df_encoded = df_data.loc[:, df_data.columns != 'event lifecycle:transition'].copy()\n",
    "\n",
    "df_encoded['event concept:name'] = label_encoder.transform(df_data['event concept:name'])\n",
    "\n",
    "df_encodedTime = EventTime(df_encoded)\n",
    "\n",
    "df_encodedTime[\"Completion Time\"] = np.nan\n",
    "df_encodedTime[\"Completion Time\"] = (df_encodedTime[\"nextTIME\"] - df_encodedTime[\"event time:timestamp\"]).apply(secondsTransform)\n",
    "df_encodedTime.dropna(inplace=True)\n",
    "\n",
    "df_encodedTime[\"Time Average\"] = 0\n",
    "\n",
    "for name, group in df_encodedTime[[\"event concept:name\", \"Completion Time\"]].groupby([\"event concept:name\"]):\n",
    "    mean = group[\"Completion Time\"].mean()\n",
    "    df_encodedTime.loc[df_encodedTime[\"event concept:name\"] == name, \"Time Average\"] = mean"
   ]
  },
  {
   "cell_type": "code",
   "execution_count": 6,
   "id": "e644fbb0",
   "metadata": {},
   "outputs": [
    {
     "data": {
      "text/plain": [
       "16.10311275481002"
      ]
     },
     "execution_count": 6,
     "metadata": {},
     "output_type": "execute_result"
    }
   ],
   "source": [
    "X = df_encodedTime[['event concept:name', \"case AMOUNT_REQ\", \"Time Average\"]]\n",
    "y = df_encodedTime['Completion Time']\n",
    "\n",
    "x_train, x_test, y_train, y_test = train_test_split(X, y, test_size=0.3, random_state=42, shuffle=False)\n",
    "\n",
    "from sklearn import linear_model\n",
    "regr = linear_model.LinearRegression()\n",
    "regr.fit(x_train, y_train)\n",
    "\n",
    "y_pred = regr.predict(x_test)\n",
    "# % of negative predicted values\n",
    "(len(y_pred[y_pred<0])/len(y_pred))*100"
   ]
  },
  {
   "cell_type": "code",
   "execution_count": 7,
   "id": "a08d9a84",
   "metadata": {},
   "outputs": [
    {
     "name": "stdout",
     "output_type": "stream",
     "text": [
      "Mean Absolute Error: 67653.72200249211\n",
      "Mean Squared Error: 22503656176.38821\n",
      "Root Mean Squared Error: 150012.18675957035\n"
     ]
    }
   ],
   "source": [
    "from sklearn import metrics\n",
    "print('Mean Absolute Error:', metrics.mean_absolute_error(y_test, y_pred))\n",
    "print('Mean Squared Error:', metrics.mean_squared_error(y_test, y_pred))\n",
    "print('Root Mean Squared Error:', np.sqrt(metrics.mean_squared_error(y_test, y_pred)))"
   ]
  }
 ],
 "metadata": {
  "kernelspec": {
   "display_name": "Python 3",
   "language": "python",
   "name": "python3"
  },
  "language_info": {
   "codemirror_mode": {
    "name": "ipython",
    "version": 3
   },
   "file_extension": ".py",
   "mimetype": "text/x-python",
   "name": "python",
   "nbconvert_exporter": "python",
   "pygments_lexer": "ipython3",
   "version": "3.8.5"
  }
 },
 "nbformat": 4,
 "nbformat_minor": 5
}
