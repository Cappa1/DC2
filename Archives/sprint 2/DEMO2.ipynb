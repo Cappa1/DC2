{
 "cells": [
  {
   "cell_type": "code",
   "execution_count": 112,
   "metadata": {},
   "outputs": [],
   "source": [
    "import numpy as np\n",
    "import pandas as pd\n",
    "import os\n",
    "import psutil\n",
    "\n",
    "np.random.seed(42)\n",
    "\n",
    "%matplotlib inline\n",
    "import matplotlib as mpl\n",
    "import matplotlib.pyplot as plt\n",
    "mpl.rc('axes', labelsize=14)\n",
    "mpl.rc('xtick', labelsize=12)\n",
    "mpl.rc('ytick', labelsize=12)\n",
    "plt.rcParams[\"figure.figsize\"] = [16, 11]\n",
    "plt.rcParams[\"figure.autolayout\"] = True"
   ]
  },
  {
   "cell_type": "markdown",
   "metadata": {},
   "source": [
    "# DEMO Sprint 2\n",
    "\n",
    "The following script will showcase the naive model and the first implementation of our own algorithms. For ease of use, it will run on only 10% of the dataset."
   ]
  },
  {
   "cell_type": "markdown",
   "metadata": {},
   "source": [
    "## Load data\n",
    "Here we load the data, and make sure that the entire data set is contained in one dataframe, for manual splitting. This manual splitting will later be done so that we can control the that all events used for training, will take place before the test set, avoiding the future data problem. The data will be sorted according to its time values."
   ]
  },
  {
   "cell_type": "code",
   "execution_count": 113,
   "metadata": {},
   "outputs": [],
   "source": [
    "# helper functions\n",
    "\n",
    "def data_split(df):\n",
    "    \"\"\"returns 10% of the data\"\"\"\n",
    "    return df[: int((len(df)/10))]\n",
    "\n",
    "\n",
    "def EventTime(data):\n",
    "    \n",
    "    for i in list(data[\"case concept:name\"].unique()):\n",
    "        data.loc[data[\"case concept:name\"] == i, \"nextTIME\"] = data.loc[data[\"case concept:name\"] == i, \n",
    "                                                                \"event time:timestamp\"].shift(-1)\n",
    "    return data\n",
    "\n",
    "\n",
    "def next_event(data, lst, case, nxt, name):\n",
    "    \"\"\"function to add the next event of a trace\"\"\"\n",
    "    for i in lst:\n",
    "        data.loc[data[case] == i, nxt] = data.loc[data[case] == i, name].shift(-1)\n",
    "    return data"
   ]
  },
  {
   "cell_type": "code",
   "execution_count": 114,
   "metadata": {},
   "outputs": [],
   "source": [
    "path = r\"D:/University/Year 2/Q3/DBL/Data/BPI Challenge 2012/\"\n",
    "df_train = pd.read_csv(f'{path}BPI_Challenge_2012-training.csv')\n",
    "df_test = pd.read_csv(f'{path}BPI_Challenge_2012-test.csv')\n",
    "\n",
    "\n",
    "df_data = pd.concat([df_train, df_test])"
   ]
  },
  {
   "cell_type": "code",
   "execution_count": 115,
   "metadata": {},
   "outputs": [],
   "source": [
    "# split the data to 10% of total data, to help with runtime for demo\n",
    "df_data = data_split(df_data)"
   ]
  },
  {
   "cell_type": "code",
   "execution_count": 116,
   "metadata": {},
   "outputs": [],
   "source": [
    "pd.set_option('display.float_format', lambda x: '%.3f' % x)\n",
    "unixTransform = lambda x: time.mktime(x.timetuple())\n",
    "secondsTransform = lambda x: x.total_seconds()\n",
    "\n",
    "df_data[\"timestamp\"] = df_data[\"event time:timestamp\"].copy()\n",
    "df_data[\"event time:timestamp\"] = pd.to_datetime(df_data[\"event time:timestamp\"], dayfirst=True)"
   ]
  },
  {
   "cell_type": "code",
   "execution_count": 117,
   "metadata": {},
   "outputs": [],
   "source": [
    "df_data.sort_values(by=['event time:timestamp'], inplace=True)\n",
    "df_data.columns = df_data.columns.str.strip()"
   ]
  },
  {
   "cell_type": "code",
   "execution_count": 118,
   "metadata": {},
   "outputs": [
    {
     "data": {
      "text/html": [
       "<div>\n",
       "<style scoped>\n",
       "    .dataframe tbody tr th:only-of-type {\n",
       "        vertical-align: middle;\n",
       "    }\n",
       "\n",
       "    .dataframe tbody tr th {\n",
       "        vertical-align: top;\n",
       "    }\n",
       "\n",
       "    .dataframe thead th {\n",
       "        text-align: right;\n",
       "    }\n",
       "</style>\n",
       "<table border=\"1\" class=\"dataframe\">\n",
       "  <thead>\n",
       "    <tr style=\"text-align: right;\">\n",
       "      <th></th>\n",
       "      <th>eventID</th>\n",
       "      <th>case concept:name</th>\n",
       "      <th>case REG_DATE</th>\n",
       "      <th>case AMOUNT_REQ</th>\n",
       "      <th>event concept:name</th>\n",
       "      <th>event lifecycle:transition</th>\n",
       "      <th>event time:timestamp</th>\n",
       "      <th>timestamp</th>\n",
       "    </tr>\n",
       "  </thead>\n",
       "  <tbody>\n",
       "    <tr>\n",
       "      <th>0</th>\n",
       "      <td>0</td>\n",
       "      <td>173688</td>\n",
       "      <td>2011-10-01T00:38:44.546+02:00</td>\n",
       "      <td>20000</td>\n",
       "      <td>A_SUBMITTED</td>\n",
       "      <td>COMPLETE</td>\n",
       "      <td>2011-10-01 00:38:44.546</td>\n",
       "      <td>01-10-2011 00:38:44.546</td>\n",
       "    </tr>\n",
       "    <tr>\n",
       "      <th>1</th>\n",
       "      <td>1</td>\n",
       "      <td>173688</td>\n",
       "      <td>2011-10-01T00:38:44.546+02:00</td>\n",
       "      <td>20000</td>\n",
       "      <td>A_PARTLYSUBMITTED</td>\n",
       "      <td>COMPLETE</td>\n",
       "      <td>2011-10-01 00:38:44.880</td>\n",
       "      <td>01-10-2011 00:38:44.880</td>\n",
       "    </tr>\n",
       "    <tr>\n",
       "      <th>2</th>\n",
       "      <td>2</td>\n",
       "      <td>173688</td>\n",
       "      <td>2011-10-01T00:38:44.546+02:00</td>\n",
       "      <td>20000</td>\n",
       "      <td>A_PREACCEPTED</td>\n",
       "      <td>COMPLETE</td>\n",
       "      <td>2011-10-01 00:39:37.906</td>\n",
       "      <td>01-10-2011 00:39:37.906</td>\n",
       "    </tr>\n",
       "    <tr>\n",
       "      <th>3</th>\n",
       "      <td>3</td>\n",
       "      <td>173688</td>\n",
       "      <td>2011-10-01T00:38:44.546+02:00</td>\n",
       "      <td>20000</td>\n",
       "      <td>W_Completeren aanvraag</td>\n",
       "      <td>SCHEDULE</td>\n",
       "      <td>2011-10-01 00:39:38.875</td>\n",
       "      <td>01-10-2011 00:39:38.875</td>\n",
       "    </tr>\n",
       "    <tr>\n",
       "      <th>4</th>\n",
       "      <td>4294967296</td>\n",
       "      <td>173691</td>\n",
       "      <td>2011-10-01T08:08:58.256+02:00</td>\n",
       "      <td>5000</td>\n",
       "      <td>A_SUBMITTED</td>\n",
       "      <td>COMPLETE</td>\n",
       "      <td>2011-10-01 08:08:58.256</td>\n",
       "      <td>01-10-2011 08:08:58.256</td>\n",
       "    </tr>\n",
       "  </tbody>\n",
       "</table>\n",
       "</div>"
      ],
      "text/plain": [
       "      eventID  case concept:name                  case REG_DATE  \\\n",
       "0           0             173688  2011-10-01T00:38:44.546+02:00   \n",
       "1           1             173688  2011-10-01T00:38:44.546+02:00   \n",
       "2           2             173688  2011-10-01T00:38:44.546+02:00   \n",
       "3           3             173688  2011-10-01T00:38:44.546+02:00   \n",
       "4  4294967296             173691  2011-10-01T08:08:58.256+02:00   \n",
       "\n",
       "   case AMOUNT_REQ      event concept:name event lifecycle:transition  \\\n",
       "0            20000             A_SUBMITTED                   COMPLETE   \n",
       "1            20000       A_PARTLYSUBMITTED                   COMPLETE   \n",
       "2            20000           A_PREACCEPTED                   COMPLETE   \n",
       "3            20000  W_Completeren aanvraag                   SCHEDULE   \n",
       "4             5000             A_SUBMITTED                   COMPLETE   \n",
       "\n",
       "     event time:timestamp                timestamp  \n",
       "0 2011-10-01 00:38:44.546  01-10-2011 00:38:44.546  \n",
       "1 2011-10-01 00:38:44.880  01-10-2011 00:38:44.880  \n",
       "2 2011-10-01 00:39:37.906  01-10-2011 00:39:37.906  \n",
       "3 2011-10-01 00:39:38.875  01-10-2011 00:39:38.875  \n",
       "4 2011-10-01 08:08:58.256  01-10-2011 08:08:58.256  "
      ]
     },
     "execution_count": 118,
     "metadata": {},
     "output_type": "execute_result"
    }
   ],
   "source": [
    "df_data.head()"
   ]
  },
  {
   "cell_type": "code",
   "execution_count": 119,
   "metadata": {},
   "outputs": [],
   "source": [
    "df_naive = df_data.copy()"
   ]
  },
  {
   "cell_type": "markdown",
   "metadata": {},
   "source": [
    "## Preprocessing and feature engineering"
   ]
  },
  {
   "cell_type": "code",
   "execution_count": 120,
   "metadata": {},
   "outputs": [],
   "source": [
    "# assign long column names to variables for easier use\n",
    "cases = \"case concept:name\"\n",
    "reg_date = \"case REG_DATE\"\n",
    "amount_req = \"case AMOUNT_REQ\"\n",
    "event_name = \"event concept:name\"\n",
    "lifecycle = \"event lifecycle:transition\"\n",
    "tmstmp = \"event time:timestamp\"\n",
    "nxt_event = \"next event\"\n",
    "dtime = \"delta time\""
   ]
  },
  {
   "cell_type": "code",
   "execution_count": 121,
   "metadata": {},
   "outputs": [
    {
     "name": "stdout",
     "output_type": "stream",
     "text": [
      "COMPLETE happens 16957\n",
      "SCHEDULE happens 2983\n",
      "START happens 6280\n"
     ]
    }
   ],
   "source": [
    "print(f'{df_data[lifecycle].unique()[0]} happens {len(df_data[df_data[lifecycle] == df_data[lifecycle].unique()[0]])}')\n",
    "print(f'{df_data[lifecycle].unique()[1]} happens {len(df_data[df_data[lifecycle] == df_data[lifecycle].unique()[1]])}')\n",
    "print(f'{df_data[lifecycle].unique()[2]} happens {len(df_data[df_data[lifecycle] == df_data[lifecycle].unique()[2]])}')"
   ]
  },
  {
   "cell_type": "code",
   "execution_count": 122,
   "metadata": {},
   "outputs": [],
   "source": [
    "df_complete = df_data[df_data[lifecycle] == df_data[lifecycle].unique()[0]].copy()"
   ]
  },
  {
   "cell_type": "code",
   "execution_count": 123,
   "metadata": {},
   "outputs": [],
   "source": [
    "# now drop unused columns\n",
    "df_complete.drop([\"eventID\", reg_date], axis=1, inplace=True)"
   ]
  },
  {
   "cell_type": "code",
   "execution_count": 124,
   "metadata": {},
   "outputs": [
    {
     "name": "stdout",
     "output_type": "stream",
     "text": [
      "The number of unique cases/traces in the dataset is 1802\n"
     ]
    }
   ],
   "source": [
    "print(f'The number of unique cases/traces in the dataset is {len(df_complete[cases].unique())}')"
   ]
  },
  {
   "cell_type": "code",
   "execution_count": 125,
   "metadata": {},
   "outputs": [],
   "source": [
    "lst_events = df_complete[cases].unique().tolist()"
   ]
  },
  {
   "cell_type": "code",
   "execution_count": 126,
   "metadata": {},
   "outputs": [],
   "source": [
    "# add next events per trace\n",
    "next_event(df_complete, lst_events, cases, nxt_event, event_name);"
   ]
  },
  {
   "cell_type": "code",
   "execution_count": 127,
   "metadata": {},
   "outputs": [],
   "source": [
    "# add time till next event per trace\n",
    "EventTime(df_complete);"
   ]
  },
  {
   "cell_type": "code",
   "execution_count": 128,
   "metadata": {},
   "outputs": [],
   "source": [
    "# for this sprint, drop all columns with nan values, as they influence results\n",
    "df_complete.dropna(inplace=True)"
   ]
  },
  {
   "cell_type": "code",
   "execution_count": 129,
   "metadata": {},
   "outputs": [
    {
     "data": {
      "text/html": [
       "<div>\n",
       "<style scoped>\n",
       "    .dataframe tbody tr th:only-of-type {\n",
       "        vertical-align: middle;\n",
       "    }\n",
       "\n",
       "    .dataframe tbody tr th {\n",
       "        vertical-align: top;\n",
       "    }\n",
       "\n",
       "    .dataframe thead th {\n",
       "        text-align: right;\n",
       "    }\n",
       "</style>\n",
       "<table border=\"1\" class=\"dataframe\">\n",
       "  <thead>\n",
       "    <tr style=\"text-align: right;\">\n",
       "      <th></th>\n",
       "      <th>case concept:name</th>\n",
       "      <th>case AMOUNT_REQ</th>\n",
       "      <th>event concept:name</th>\n",
       "      <th>event time:timestamp</th>\n",
       "      <th>timestamp</th>\n",
       "      <th>next event</th>\n",
       "      <th>nextTIME</th>\n",
       "    </tr>\n",
       "  </thead>\n",
       "  <tbody>\n",
       "    <tr>\n",
       "      <th>0</th>\n",
       "      <td>173688</td>\n",
       "      <td>20000</td>\n",
       "      <td>A_SUBMITTED</td>\n",
       "      <td>2011-10-01 00:38:44.546</td>\n",
       "      <td>01-10-2011 00:38:44.546</td>\n",
       "      <td>A_PARTLYSUBMITTED</td>\n",
       "      <td>2011-10-01 00:38:44.880</td>\n",
       "    </tr>\n",
       "    <tr>\n",
       "      <th>1</th>\n",
       "      <td>173688</td>\n",
       "      <td>20000</td>\n",
       "      <td>A_PARTLYSUBMITTED</td>\n",
       "      <td>2011-10-01 00:38:44.880</td>\n",
       "      <td>01-10-2011 00:38:44.880</td>\n",
       "      <td>A_PREACCEPTED</td>\n",
       "      <td>2011-10-01 00:39:37.906</td>\n",
       "    </tr>\n",
       "    <tr>\n",
       "      <th>2</th>\n",
       "      <td>173688</td>\n",
       "      <td>20000</td>\n",
       "      <td>A_PREACCEPTED</td>\n",
       "      <td>2011-10-01 00:39:37.906</td>\n",
       "      <td>01-10-2011 00:39:37.906</td>\n",
       "      <td>A_ACCEPTED</td>\n",
       "      <td>2011-10-01 11:42:43.308</td>\n",
       "    </tr>\n",
       "    <tr>\n",
       "      <th>4</th>\n",
       "      <td>173691</td>\n",
       "      <td>5000</td>\n",
       "      <td>A_SUBMITTED</td>\n",
       "      <td>2011-10-01 08:08:58.256</td>\n",
       "      <td>01-10-2011 08:08:58.256</td>\n",
       "      <td>A_PARTLYSUBMITTED</td>\n",
       "      <td>2011-10-01 08:09:02.195</td>\n",
       "    </tr>\n",
       "    <tr>\n",
       "      <th>5</th>\n",
       "      <td>173691</td>\n",
       "      <td>5000</td>\n",
       "      <td>A_PARTLYSUBMITTED</td>\n",
       "      <td>2011-10-01 08:09:02.195</td>\n",
       "      <td>01-10-2011 08:09:02.195</td>\n",
       "      <td>A_PREACCEPTED</td>\n",
       "      <td>2011-10-01 08:09:56.648</td>\n",
       "    </tr>\n",
       "  </tbody>\n",
       "</table>\n",
       "</div>"
      ],
      "text/plain": [
       "   case concept:name  case AMOUNT_REQ event concept:name  \\\n",
       "0             173688            20000        A_SUBMITTED   \n",
       "1             173688            20000  A_PARTLYSUBMITTED   \n",
       "2             173688            20000      A_PREACCEPTED   \n",
       "4             173691             5000        A_SUBMITTED   \n",
       "5             173691             5000  A_PARTLYSUBMITTED   \n",
       "\n",
       "     event time:timestamp                timestamp         next event  \\\n",
       "0 2011-10-01 00:38:44.546  01-10-2011 00:38:44.546  A_PARTLYSUBMITTED   \n",
       "1 2011-10-01 00:38:44.880  01-10-2011 00:38:44.880      A_PREACCEPTED   \n",
       "2 2011-10-01 00:39:37.906  01-10-2011 00:39:37.906         A_ACCEPTED   \n",
       "4 2011-10-01 08:08:58.256  01-10-2011 08:08:58.256  A_PARTLYSUBMITTED   \n",
       "5 2011-10-01 08:09:02.195  01-10-2011 08:09:02.195      A_PREACCEPTED   \n",
       "\n",
       "                 nextTIME  \n",
       "0 2011-10-01 00:38:44.880  \n",
       "1 2011-10-01 00:39:37.906  \n",
       "2 2011-10-01 11:42:43.308  \n",
       "4 2011-10-01 08:09:02.195  \n",
       "5 2011-10-01 08:09:56.648  "
      ]
     },
     "execution_count": 129,
     "metadata": {},
     "output_type": "execute_result"
    }
   ],
   "source": [
    "df_processed = df_complete.drop([lifecycle], axis=1).copy()\n",
    "df_processed.head()"
   ]
  },
  {
   "cell_type": "markdown",
   "metadata": {},
   "source": [
    "## Models\n",
    "\n",
    "The naive model will be evaluated first"
   ]
  },
  {
   "cell_type": "code",
   "execution_count": 130,
   "metadata": {},
   "outputs": [],
   "source": [
    "def simplePred(df,lst, cEvnt, cNw, cPrd):\n",
    "    '''loops through the list of events and adds them to the df'''\n",
    "    i = 0\n",
    "    while i < len(lst):\n",
    "        df.loc[df[cEvnt] == lst[i], cPrd] = df[df[cEvnt] == lst[i]][cNw].mode()[0]\n",
    "        i += 1\n",
    "    RAM = ('RAM memory % used:', psutil.virtual_memory()[2])\n",
    "    CPU = ('CPU % used:', psutil.cpu_percent())\n",
    "    return df, RAM, CPU\n",
    "\n",
    "def simpleAccuracy(df, cReal, cPrd):\n",
    "    '''computes a simple accuracy score'''\n",
    "    return len(df[df[cReal] == df[cPred]]) / len(df)"
   ]
  },
  {
   "cell_type": "code",
   "execution_count": 131,
   "metadata": {},
   "outputs": [],
   "source": [
    "cEvent = 'event concept:name'\n",
    "cNew = 'next event'\n",
    "cPred = 'predicted next event'\n",
    "\n",
    "df_naive[cNew] = df_naive[cEvent].shift(-1)\n",
    "df_naive[cPred] = np.nan\n",
    "lstEvents = df_naive[cEvent].unique().tolist()"
   ]
  },
  {
   "cell_type": "code",
   "execution_count": 132,
   "metadata": {},
   "outputs": [
    {
     "name": "stdout",
     "output_type": "stream",
     "text": [
      "Wall time: 105 ms\n"
     ]
    },
    {
     "data": {
      "text/plain": [
       "(             eventID  case concept:name                  case REG_DATE  \\\n",
       " 0                  0             173688  2011-10-01T00:38:44.546+02:00   \n",
       " 1                  1             173688  2011-10-01T00:38:44.546+02:00   \n",
       " 2                  2             173688  2011-10-01T00:38:44.546+02:00   \n",
       " 3                  3             173688  2011-10-01T00:38:44.546+02:00   \n",
       " 4         4294967296             173691  2011-10-01T08:08:58.256+02:00   \n",
       " ...              ...                ...                            ...   \n",
       " 26215  7486127996934             179188  2011-10-23T12:14:03.577+02:00   \n",
       " 26216  5355824218132             177609  2011-10-17T18:38:21.448+02:00   \n",
       " 26217  5355824218133             177609  2011-10-17T18:38:21.448+02:00   \n",
       " 26218  5355824218134             177609  2011-10-17T18:38:21.448+02:00   \n",
       " 26219  7580617277446             179254  2011-10-23T16:47:31.624+02:00   \n",
       " \n",
       "        case AMOUNT_REQ      event concept:name event lifecycle:transition  \\\n",
       " 0                20000             A_SUBMITTED                   COMPLETE   \n",
       " 1                20000       A_PARTLYSUBMITTED                   COMPLETE   \n",
       " 2                20000           A_PREACCEPTED                   COMPLETE   \n",
       " 3                20000  W_Completeren aanvraag                   SCHEDULE   \n",
       " 4                 5000             A_SUBMITTED                   COMPLETE   \n",
       " ...                ...                     ...                        ...   \n",
       " 26215            15000  W_Completeren aanvraag                      START   \n",
       " 26216            47000             O_SENT_BACK                   COMPLETE   \n",
       " 26217            47000    W_Valideren aanvraag                   SCHEDULE   \n",
       " 26218            47000     W_Nabellen offertes                   COMPLETE   \n",
       " 26219            10000              O_SELECTED                   COMPLETE   \n",
       " \n",
       "          event time:timestamp                timestamp  \\\n",
       " 0     2011-10-01 00:38:44.546  01-10-2011 00:38:44.546   \n",
       " 1     2011-10-01 00:38:44.880  01-10-2011 00:38:44.880   \n",
       " 2     2011-10-01 00:39:37.906  01-10-2011 00:39:37.906   \n",
       " 3     2011-10-01 00:39:38.875  01-10-2011 00:39:38.875   \n",
       " 4     2011-10-01 08:08:58.256  01-10-2011 08:08:58.256   \n",
       " ...                       ...                      ...   \n",
       " 26215 2011-10-24 11:06:15.224  24-10-2011 11:06:15.224   \n",
       " 26216 2011-10-24 11:06:37.730  24-10-2011 11:06:37.730   \n",
       " 26217 2011-10-24 11:06:38.945  24-10-2011 11:06:38.945   \n",
       " 26218 2011-10-24 11:06:40.112  24-10-2011 11:06:40.112   \n",
       " 26219 2011-10-24 11:06:41.490  24-10-2011 11:06:41.490   \n",
       " \n",
       "                    next event    predicted next event  \n",
       " 0           A_PARTLYSUBMITTED       A_PARTLYSUBMITTED  \n",
       " 1               A_PREACCEPTED           A_PREACCEPTED  \n",
       " 2      W_Completeren aanvraag  W_Completeren aanvraag  \n",
       " 3                 A_SUBMITTED  W_Completeren aanvraag  \n",
       " 4           A_PARTLYSUBMITTED       A_PARTLYSUBMITTED  \n",
       " ...                       ...                     ...  \n",
       " 26215             O_SENT_BACK  W_Completeren aanvraag  \n",
       " 26216    W_Valideren aanvraag    W_Valideren aanvraag  \n",
       " 26217     W_Nabellen offertes     W_Nabellen offertes  \n",
       " 26218              O_SELECTED     W_Nabellen offertes  \n",
       " 26219                     NaN             A_FINALIZED  \n",
       " \n",
       " [26220 rows x 10 columns],\n",
       " ('RAM memory % used:', 45.2),\n",
       " ('CPU % used:', 27.7))"
      ]
     },
     "execution_count": 132,
     "metadata": {},
     "output_type": "execute_result"
    }
   ],
   "source": [
    "%%time\n",
    "simplePred(df_naive, lstEvents, cEvent, cNew, cPred);"
   ]
  },
  {
   "cell_type": "code",
   "execution_count": 133,
   "metadata": {},
   "outputs": [
    {
     "data": {
      "text/plain": [
       "0.4820747520976354"
      ]
     },
     "execution_count": 133,
     "metadata": {},
     "output_type": "execute_result"
    }
   ],
   "source": [
    "simpleAccuracy(df_naive, cNew, cPred)"
   ]
  },
  {
   "cell_type": "code",
   "execution_count": 134,
   "metadata": {},
   "outputs": [],
   "source": [
    "def EventTime(data):\n",
    "    memory = {} # Stores active events, key=event, value=index of start\n",
    "    for i, j in data[[\"event concept:name\"]].iterrows():\n",
    "        \n",
    "        if j[0] not in memory.keys() and data.loc[i][\"event lifecycle:transition\"].lower() == \"start\":\n",
    "            memory[j[0]] = i\n",
    "        \n",
    "        elif j[0] in memory.keys():\n",
    "            time = pd.to_datetime(data.loc[i][\"event time:timestamp\"], dayfirst=True) - pd.to_datetime(data.loc[memory[j[0]]][\"event time:timestamp\"], dayfirst=True)           # print(time)\n",
    "            data.loc[i,\"Completion Time\"] = time.total_seconds()\n",
    "            del memory[j[0]] # Removes the completed event from active event dictionary(memory)\n",
    "    \n",
    "    return data # Returns a new dataframe with event completion time. Can be improved.\n",
    "\n",
    "def AverageTime(df_train):\n",
    "    \"\"\"\n",
    "    1. Computes the event completion time for events that don't have a \"start\" by taking the \n",
    "       difference between said event's completion time and the previous (i-1) event time. Still have \n",
    "       to determine how correct this is, as several events can run in parallel.\n",
    "    2. Sets new index on df and computes the remaining event times (for events that have a start and completion time)\n",
    "       by running the EventTime function case by case. Can be improved.\n",
    "    3. Returns average completion time per event.\n",
    "    \n",
    "    \"\"\"\n",
    "    df_train[\"Completion Time\"] = 0\n",
    "    df_train.replace(0,np.NaN, inplace=True)\n",
    "    for i in range(1, df_train['Completion Time'].shape[0]-1): # 1\n",
    "        if pd.isnull(df_train['Completion Time'][i]):\n",
    "            if df_train['event lifecycle:transition'][i].lower() == 'complete':\n",
    "                time = pd.to_datetime(df_train[\"event time:timestamp\"][i], dayfirst=True) - pd.to_datetime(df_train[\"event time:timestamp\"][i-1], dayfirst=True)          \n",
    "                df_train['Completion Time'][i] = time.total_seconds()\n",
    "    \n",
    "    df_train.set_index([\"case concept:name\", \"eventID\"], inplace=True) # 2\n",
    "    \n",
    "    for idx, new_df in df_train.groupby(level=0): # Adds event completion time, case by case.\n",
    "        df_train.loc[idx] = EventTime(new_df)\n",
    "        \n",
    "    Average_time = df_train.groupby(['event concept:name'])[['Completion Time']].mean() # 3\n",
    "    return Average_time\n",
    "\n",
    "#Average time in seconds\n",
    "def AddAverageTime(data):\n",
    "    data['Average time till next event'] = 0\n",
    "    avr_time = AverageTime(data)\n",
    "    avr_time.reset_index(inplace=True)\n",
    "    data.reset_index(inplace=True)\n",
    "    for i in range(0, data['Completion Time'].shape[0]):\n",
    "        abc = data['event concept:name'][i]\n",
    "        time = avr_time.loc[avr_time['event concept:name'] == abc, 'Completion Time']\n",
    "        time_list = list(time)\n",
    "        data['Average time till next event'][i] = time_list[0]\n",
    "    RAM = ('RAM memory % used:', psutil.virtual_memory()[2])\n",
    "    CPU = ('CPU % used:', psutil.cpu_percent())\n",
    "    return data, RAM, CPU"
   ]
  },
  {
   "cell_type": "code",
   "execution_count": 135,
   "metadata": {},
   "outputs": [
    {
     "name": "stderr",
     "output_type": "stream",
     "text": [
      "C:\\Users\\Jarl\\AppData\\Local\\Temp/ipykernel_16152/1945124935.py:31: SettingWithCopyWarning: \n",
      "A value is trying to be set on a copy of a slice from a DataFrame\n",
      "\n",
      "See the caveats in the documentation: https://pandas.pydata.org/pandas-docs/stable/user_guide/indexing.html#returning-a-view-versus-a-copy\n",
      "  df_train['Completion Time'][i] = time.total_seconds()\n",
      "C:\\Users\\Jarl\\AppData\\Local\\Temp/ipykernel_16152/1945124935.py:51: SettingWithCopyWarning: \n",
      "A value is trying to be set on a copy of a slice from a DataFrame\n",
      "\n",
      "See the caveats in the documentation: https://pandas.pydata.org/pandas-docs/stable/user_guide/indexing.html#returning-a-view-versus-a-copy\n",
      "  data['Average time till next event'][i] = time_list[0]\n"
     ]
    },
    {
     "name": "stdout",
     "output_type": "stream",
     "text": [
      "Wall time: 40 s\n"
     ]
    },
    {
     "data": {
      "text/plain": [
       "(       case concept:name           eventID                  case REG_DATE  \\\n",
       " 0                 173688               NaN  2011-10-01T00:38:44.546+02:00   \n",
       " 1                 173688             1.000  2011-10-01T00:38:44.546+02:00   \n",
       " 2                 173688             2.000  2011-10-01T00:38:44.546+02:00   \n",
       " 3                 173688             3.000  2011-10-01T00:38:44.546+02:00   \n",
       " 4                 173691    4294967296.000  2011-10-01T08:08:58.256+02:00   \n",
       " ...                  ...               ...                            ...   \n",
       " 26215             179188 7486127996934.000  2011-10-23T12:14:03.577+02:00   \n",
       " 26216             177609 5355824218132.000  2011-10-17T18:38:21.448+02:00   \n",
       " 26217             177609 5355824218133.000  2011-10-17T18:38:21.448+02:00   \n",
       " 26218             177609 5355824218134.000  2011-10-17T18:38:21.448+02:00   \n",
       " 26219             179254 7580617277446.000  2011-10-23T16:47:31.624+02:00   \n",
       " \n",
       "        case AMOUNT_REQ      event concept:name event lifecycle:transition  \\\n",
       " 0                20000             A_SUBMITTED                   COMPLETE   \n",
       " 1                20000       A_PARTLYSUBMITTED                   COMPLETE   \n",
       " 2                20000           A_PREACCEPTED                   COMPLETE   \n",
       " 3                20000  W_Completeren aanvraag                   SCHEDULE   \n",
       " 4                 5000             A_SUBMITTED                   COMPLETE   \n",
       " ...                ...                     ...                        ...   \n",
       " 26215            15000  W_Completeren aanvraag                      START   \n",
       " 26216            47000             O_SENT_BACK                   COMPLETE   \n",
       " 26217            47000    W_Valideren aanvraag                   SCHEDULE   \n",
       " 26218            47000     W_Nabellen offertes                   COMPLETE   \n",
       " 26219            10000              O_SELECTED                   COMPLETE   \n",
       " \n",
       "          event time:timestamp                timestamp  \\\n",
       " 0     2011-10-01 00:38:44.546  01-10-2011 00:38:44.546   \n",
       " 1     2011-10-01 00:38:44.880  01-10-2011 00:38:44.880   \n",
       " 2     2011-10-01 00:39:37.906  01-10-2011 00:39:37.906   \n",
       " 3     2011-10-01 00:39:38.875  01-10-2011 00:39:38.875   \n",
       " 4     2011-10-01 08:08:58.256  01-10-2011 08:08:58.256   \n",
       " ...                       ...                      ...   \n",
       " 26215 2011-10-24 11:06:15.224  24-10-2011 11:06:15.224   \n",
       " 26216 2011-10-24 11:06:37.730  24-10-2011 11:06:37.730   \n",
       " 26217 2011-10-24 11:06:38.945  24-10-2011 11:06:38.945   \n",
       " 26218 2011-10-24 11:06:40.112  24-10-2011 11:06:40.112   \n",
       " 26219 2011-10-24 11:06:41.490  24-10-2011 11:06:41.490   \n",
       " \n",
       "                    next event    predicted next event  \\\n",
       " 0           A_PARTLYSUBMITTED       A_PARTLYSUBMITTED   \n",
       " 1               A_PREACCEPTED           A_PREACCEPTED   \n",
       " 2      W_Completeren aanvraag  W_Completeren aanvraag   \n",
       " 3                 A_SUBMITTED  W_Completeren aanvraag   \n",
       " 4           A_PARTLYSUBMITTED       A_PARTLYSUBMITTED   \n",
       " ...                       ...                     ...   \n",
       " 26215             O_SENT_BACK  W_Completeren aanvraag   \n",
       " 26216    W_Valideren aanvraag    W_Valideren aanvraag   \n",
       " 26217     W_Nabellen offertes     W_Nabellen offertes   \n",
       " 26218              O_SELECTED     W_Nabellen offertes   \n",
       " 26219                     NaN             A_FINALIZED   \n",
       " \n",
       "        Average time till next event  Completion Time  \n",
       " 0                           620.332              NaN  \n",
       " 1                             0.508            0.334  \n",
       " 2                            37.034           53.026  \n",
       " 3                           435.469              NaN  \n",
       " 4                           620.332        26959.381  \n",
       " ...                             ...              ...  \n",
       " 26215                       435.469              NaN  \n",
       " 26216                        28.175           22.506  \n",
       " 26217                      1132.315              NaN  \n",
       " 26218                       641.464           45.230  \n",
       " 26219                        33.568              NaN  \n",
       " \n",
       " [26220 rows x 12 columns],\n",
       " ('RAM memory % used:', 44.8),\n",
       " ('CPU % used:', 39.1))"
      ]
     },
     "execution_count": 135,
     "metadata": {},
     "output_type": "execute_result"
    }
   ],
   "source": [
    "%%time\n",
    "AddAverageTime(df_naive)"
   ]
  },
  {
   "cell_type": "markdown",
   "metadata": {},
   "source": [
    "### the new models"
   ]
  },
  {
   "cell_type": "code",
   "execution_count": 136,
   "metadata": {},
   "outputs": [
    {
     "data": {
      "text/html": [
       "<div>\n",
       "<style scoped>\n",
       "    .dataframe tbody tr th:only-of-type {\n",
       "        vertical-align: middle;\n",
       "    }\n",
       "\n",
       "    .dataframe tbody tr th {\n",
       "        vertical-align: top;\n",
       "    }\n",
       "\n",
       "    .dataframe thead th {\n",
       "        text-align: right;\n",
       "    }\n",
       "</style>\n",
       "<table border=\"1\" class=\"dataframe\">\n",
       "  <thead>\n",
       "    <tr style=\"text-align: right;\">\n",
       "      <th></th>\n",
       "      <th>case concept:name</th>\n",
       "      <th>case AMOUNT_REQ</th>\n",
       "      <th>event concept:name</th>\n",
       "      <th>event time:timestamp</th>\n",
       "      <th>timestamp</th>\n",
       "      <th>next event</th>\n",
       "      <th>nextTIME</th>\n",
       "    </tr>\n",
       "  </thead>\n",
       "  <tbody>\n",
       "    <tr>\n",
       "      <th>0</th>\n",
       "      <td>173688</td>\n",
       "      <td>20000</td>\n",
       "      <td>A_SUBMITTED</td>\n",
       "      <td>2011-10-01 00:38:44.546</td>\n",
       "      <td>01-10-2011 00:38:44.546</td>\n",
       "      <td>A_PARTLYSUBMITTED</td>\n",
       "      <td>2011-10-01 00:38:44.880</td>\n",
       "    </tr>\n",
       "  </tbody>\n",
       "</table>\n",
       "</div>"
      ],
      "text/plain": [
       "   case concept:name  case AMOUNT_REQ event concept:name  \\\n",
       "0             173688            20000        A_SUBMITTED   \n",
       "\n",
       "     event time:timestamp                timestamp         next event  \\\n",
       "0 2011-10-01 00:38:44.546  01-10-2011 00:38:44.546  A_PARTLYSUBMITTED   \n",
       "\n",
       "                 nextTIME  \n",
       "0 2011-10-01 00:38:44.880  "
      ]
     },
     "execution_count": 136,
     "metadata": {},
     "output_type": "execute_result"
    }
   ],
   "source": [
    "df_processed.head(1)"
   ]
  },
  {
   "cell_type": "code",
   "execution_count": 137,
   "metadata": {},
   "outputs": [],
   "source": [
    "from sklearn.preprocessing import OrdinalEncoder\n",
    "from sklearn.preprocessing import LabelEncoder\n",
    "\n",
    "event_encoder = LabelEncoder()\n",
    "time_of_day_encoder = OrdinalEncoder()\n",
    "\n",
    "labels = df_processed[event_name].unique()\n",
    "event_encoder.fit(labels);"
   ]
  },
  {
   "cell_type": "code",
   "execution_count": 138,
   "metadata": {},
   "outputs": [],
   "source": [
    "df_processed['time of day'] = df_processed[\"timestamp\"].str.split(expand=True)[1]"
   ]
  },
  {
   "cell_type": "code",
   "execution_count": 140,
   "metadata": {},
   "outputs": [],
   "source": [
    "df_processed[[event_name, nxt_event]] = df_processed[[event_name, nxt_event]].apply(event_encoder.fit_transform)\n",
    "df_processed[\"time of day\"] = time_of_day_encoder.fit_transform(df_processed[[\"time of day\"]])"
   ]
  },
  {
   "cell_type": "code",
   "execution_count": 141,
   "metadata": {},
   "outputs": [
    {
     "data": {
      "text/html": [
       "<div>\n",
       "<style scoped>\n",
       "    .dataframe tbody tr th:only-of-type {\n",
       "        vertical-align: middle;\n",
       "    }\n",
       "\n",
       "    .dataframe tbody tr th {\n",
       "        vertical-align: top;\n",
       "    }\n",
       "\n",
       "    .dataframe thead th {\n",
       "        text-align: right;\n",
       "    }\n",
       "</style>\n",
       "<table border=\"1\" class=\"dataframe\">\n",
       "  <thead>\n",
       "    <tr style=\"text-align: right;\">\n",
       "      <th></th>\n",
       "      <th>case concept:name</th>\n",
       "      <th>case AMOUNT_REQ</th>\n",
       "      <th>event concept:name</th>\n",
       "      <th>event time:timestamp</th>\n",
       "      <th>timestamp</th>\n",
       "      <th>next event</th>\n",
       "      <th>nextTIME</th>\n",
       "      <th>time of day</th>\n",
       "    </tr>\n",
       "  </thead>\n",
       "  <tbody>\n",
       "    <tr>\n",
       "      <th>0</th>\n",
       "      <td>173688</td>\n",
       "      <td>20000</td>\n",
       "      <td>9</td>\n",
       "      <td>2011-10-01 00:38:44.546</td>\n",
       "      <td>01-10-2011 00:38:44.546</td>\n",
       "      <td>6</td>\n",
       "      <td>2011-10-01 00:38:44.880</td>\n",
       "      <td>29.000</td>\n",
       "    </tr>\n",
       "    <tr>\n",
       "      <th>1</th>\n",
       "      <td>173688</td>\n",
       "      <td>20000</td>\n",
       "      <td>6</td>\n",
       "      <td>2011-10-01 00:38:44.880</td>\n",
       "      <td>01-10-2011 00:38:44.880</td>\n",
       "      <td>7</td>\n",
       "      <td>2011-10-01 00:39:37.906</td>\n",
       "      <td>30.000</td>\n",
       "    </tr>\n",
       "    <tr>\n",
       "      <th>2</th>\n",
       "      <td>173688</td>\n",
       "      <td>20000</td>\n",
       "      <td>7</td>\n",
       "      <td>2011-10-01 00:39:37.906</td>\n",
       "      <td>01-10-2011 00:39:37.906</td>\n",
       "      <td>0</td>\n",
       "      <td>2011-10-01 11:42:43.308</td>\n",
       "      <td>31.000</td>\n",
       "    </tr>\n",
       "    <tr>\n",
       "      <th>4</th>\n",
       "      <td>173691</td>\n",
       "      <td>5000</td>\n",
       "      <td>9</td>\n",
       "      <td>2011-10-01 08:08:58.256</td>\n",
       "      <td>01-10-2011 08:08:58.256</td>\n",
       "      <td>6</td>\n",
       "      <td>2011-10-01 08:09:02.195</td>\n",
       "      <td>182.000</td>\n",
       "    </tr>\n",
       "    <tr>\n",
       "      <th>5</th>\n",
       "      <td>173691</td>\n",
       "      <td>5000</td>\n",
       "      <td>6</td>\n",
       "      <td>2011-10-01 08:09:02.195</td>\n",
       "      <td>01-10-2011 08:09:02.195</td>\n",
       "      <td>7</td>\n",
       "      <td>2011-10-01 08:09:56.648</td>\n",
       "      <td>183.000</td>\n",
       "    </tr>\n",
       "    <tr>\n",
       "      <th>...</th>\n",
       "      <td>...</td>\n",
       "      <td>...</td>\n",
       "      <td>...</td>\n",
       "      <td>...</td>\n",
       "      <td>...</td>\n",
       "      <td>...</td>\n",
       "      <td>...</td>\n",
       "      <td>...</td>\n",
       "    </tr>\n",
       "    <tr>\n",
       "      <th>26206</th>\n",
       "      <td>179363</td>\n",
       "      <td>5000</td>\n",
       "      <td>9</td>\n",
       "      <td>2011-10-24 11:04:21.364</td>\n",
       "      <td>24-10-2011 11:04:21.364</td>\n",
       "      <td>6</td>\n",
       "      <td>2011-10-24 11:04:22.933</td>\n",
       "      <td>3078.000</td>\n",
       "    </tr>\n",
       "    <tr>\n",
       "      <th>26207</th>\n",
       "      <td>179363</td>\n",
       "      <td>5000</td>\n",
       "      <td>6</td>\n",
       "      <td>2011-10-24 11:04:22.933</td>\n",
       "      <td>24-10-2011 11:04:22.933</td>\n",
       "      <td>7</td>\n",
       "      <td>2011-10-24 11:04:55.246</td>\n",
       "      <td>3080.000</td>\n",
       "    </tr>\n",
       "    <tr>\n",
       "      <th>26211</th>\n",
       "      <td>179366</td>\n",
       "      <td>14250</td>\n",
       "      <td>9</td>\n",
       "      <td>2011-10-24 11:05:10.947</td>\n",
       "      <td>24-10-2011 11:05:10.947</td>\n",
       "      <td>6</td>\n",
       "      <td>2011-10-24 11:05:11.369</td>\n",
       "      <td>3103.000</td>\n",
       "    </tr>\n",
       "    <tr>\n",
       "      <th>26212</th>\n",
       "      <td>179366</td>\n",
       "      <td>14250</td>\n",
       "      <td>6</td>\n",
       "      <td>2011-10-24 11:05:11.369</td>\n",
       "      <td>24-10-2011 11:05:11.369</td>\n",
       "      <td>4</td>\n",
       "      <td>2011-10-24 11:05:13.284</td>\n",
       "      <td>3104.000</td>\n",
       "    </tr>\n",
       "    <tr>\n",
       "      <th>26216</th>\n",
       "      <td>177609</td>\n",
       "      <td>47000</td>\n",
       "      <td>16</td>\n",
       "      <td>2011-10-24 11:06:37.730</td>\n",
       "      <td>24-10-2011 11:06:37.730</td>\n",
       "      <td>20</td>\n",
       "      <td>2011-10-24 11:06:40.112</td>\n",
       "      <td>3136.000</td>\n",
       "    </tr>\n",
       "  </tbody>\n",
       "</table>\n",
       "<p>15155 rows × 8 columns</p>\n",
       "</div>"
      ],
      "text/plain": [
       "       case concept:name  case AMOUNT_REQ  event concept:name  \\\n",
       "0                 173688            20000                   9   \n",
       "1                 173688            20000                   6   \n",
       "2                 173688            20000                   7   \n",
       "4                 173691             5000                   9   \n",
       "5                 173691             5000                   6   \n",
       "...                  ...              ...                 ...   \n",
       "26206             179363             5000                   9   \n",
       "26207             179363             5000                   6   \n",
       "26211             179366            14250                   9   \n",
       "26212             179366            14250                   6   \n",
       "26216             177609            47000                  16   \n",
       "\n",
       "         event time:timestamp                timestamp  next event  \\\n",
       "0     2011-10-01 00:38:44.546  01-10-2011 00:38:44.546           6   \n",
       "1     2011-10-01 00:38:44.880  01-10-2011 00:38:44.880           7   \n",
       "2     2011-10-01 00:39:37.906  01-10-2011 00:39:37.906           0   \n",
       "4     2011-10-01 08:08:58.256  01-10-2011 08:08:58.256           6   \n",
       "5     2011-10-01 08:09:02.195  01-10-2011 08:09:02.195           7   \n",
       "...                       ...                      ...         ...   \n",
       "26206 2011-10-24 11:04:21.364  24-10-2011 11:04:21.364           6   \n",
       "26207 2011-10-24 11:04:22.933  24-10-2011 11:04:22.933           7   \n",
       "26211 2011-10-24 11:05:10.947  24-10-2011 11:05:10.947           6   \n",
       "26212 2011-10-24 11:05:11.369  24-10-2011 11:05:11.369           4   \n",
       "26216 2011-10-24 11:06:37.730  24-10-2011 11:06:37.730          20   \n",
       "\n",
       "                     nextTIME  time of day  \n",
       "0     2011-10-01 00:38:44.880       29.000  \n",
       "1     2011-10-01 00:39:37.906       30.000  \n",
       "2     2011-10-01 11:42:43.308       31.000  \n",
       "4     2011-10-01 08:09:02.195      182.000  \n",
       "5     2011-10-01 08:09:56.648      183.000  \n",
       "...                       ...          ...  \n",
       "26206 2011-10-24 11:04:22.933     3078.000  \n",
       "26207 2011-10-24 11:04:55.246     3080.000  \n",
       "26211 2011-10-24 11:05:11.369     3103.000  \n",
       "26212 2011-10-24 11:05:13.284     3104.000  \n",
       "26216 2011-10-24 11:06:40.112     3136.000  \n",
       "\n",
       "[15155 rows x 8 columns]"
      ]
     },
     "execution_count": 141,
     "metadata": {},
     "output_type": "execute_result"
    }
   ],
   "source": [
    "df_processed"
   ]
  },
  {
   "cell_type": "code",
   "execution_count": 146,
   "metadata": {},
   "outputs": [],
   "source": [
    "tree_data = df_processed[[amount_req, event_name, nxt_event, \"time of day\"]]"
   ]
  },
  {
   "cell_type": "code",
   "execution_count": 153,
   "metadata": {},
   "outputs": [],
   "source": [
    "from sklearn.model_selection import train_test_split\n",
    "from sklearn.model_selection import TimeSeriesSplit\n",
    "from sklearn.tree import DecisionTreeClassifier\n",
    "from sklearn.metrics import mean_squared_error\n",
    "from sklearn.model_selection import GridSearchCV\n",
    "\n",
    "tscv = TimeSeriesSplit()\n",
    "\n",
    "X_train_tree, X_test_tree, y_train_tree, y_test_tree = train_test_split(tree_data[[amount_req, event_name, \"time of day\"]], \n",
    "                                tree_data[[nxt_event]], test_size=0.2, random_state=42, shuffle=False)\n"
   ]
  },
  {
   "cell_type": "code",
   "execution_count": 148,
   "metadata": {},
   "outputs": [],
   "source": [
    "tree_reg = DecisionTreeClassifier(random_state=42)\n",
    "tree_reg.fit(X_train_tree, y_train_tree);"
   ]
  },
  {
   "cell_type": "code",
   "execution_count": 150,
   "metadata": {},
   "outputs": [
    {
     "data": {
      "text/plain": [
       "0.0"
      ]
     },
     "execution_count": 150,
     "metadata": {},
     "output_type": "execute_result"
    }
   ],
   "source": [
    "# this is obviously false\n",
    "prediction_tree = tree_reg.predict(X_train_tree)\n",
    "tree_mse = mean_squared_error(y_train_tree, prediction_tree)\n",
    "tree_rmse = np.sqrt(tree_mse)\n",
    "tree_rmse"
   ]
  },
  {
   "cell_type": "code",
   "execution_count": 155,
   "metadata": {},
   "outputs": [],
   "source": [
    "params = {\"max_depth\" : list(range(2, 101))}\n",
    "grid_search_cv = GridSearchCV(DecisionTreeClassifier(random_state=42), params, cv=tscv)"
   ]
  },
  {
   "cell_type": "code",
   "execution_count": 157,
   "metadata": {},
   "outputs": [],
   "source": [
    "final_model = grid_search_cv.fit(X_train_tree, y_train_tree).best_estimator_"
   ]
  },
  {
   "cell_type": "code",
   "execution_count": 158,
   "metadata": {},
   "outputs": [
    {
     "name": "stdout",
     "output_type": "stream",
     "text": [
      "The best estimator is: DecisionTreeClassifier(max_depth=6, random_state=42)\n"
     ]
    }
   ],
   "source": [
    "print(f'The best estimator is: {final_model}')"
   ]
  },
  {
   "cell_type": "code",
   "execution_count": 159,
   "metadata": {},
   "outputs": [],
   "source": [
    "y_pred_tree = final_model.predict(X_test_tree)"
   ]
  },
  {
   "cell_type": "code",
   "execution_count": 160,
   "metadata": {},
   "outputs": [],
   "source": [
    "from sklearn.metrics import confusion_matrix\n",
    "\n",
    "conf_mx = confusion_matrix(y_test_tree, y_pred_tree)"
   ]
  },
  {
   "cell_type": "code",
   "execution_count": 161,
   "metadata": {},
   "outputs": [
    {
     "name": "stderr",
     "output_type": "stream",
     "text": [
      "C:\\Users\\Jarl\\Anaconda3\\lib\\site-packages\\IPython\\core\\pylabtools.py:151: UserWarning: This figure includes Axes that are not compatible with tight_layout, so results might be incorrect.\n",
      "  fig.canvas.print_figure(bytes_io, **kw)\n"
     ]
    },
    {
     "data": {
      "image/png": "[encoded data removed]",
      "text/plain": [
       "<Figure size 792x792 with 1 Axes>"
      ]
     },
     "metadata": {
      "needs_background": "light"
     },
     "output_type": "display_data"
    }
   ],
   "source": [
    "plt.matshow(conf_mx, cmap=plt.cm.gray)\n",
    "plt.title(\"Confusion matrix of DecisionTree predictions\", weight='bold', size = '16')\n",
    "\n",
    "plt.show()"
   ]
  },
  {
   "cell_type": "code",
   "execution_count": 162,
   "metadata": {},
   "outputs": [
    {
     "data": {
      "image/png": "[encoded data removed]",
      "text/plain": [
       "<Figure size 792x792 with 1 Axes>"
      ]
     },
     "metadata": {
      "needs_background": "light"
     },
     "output_type": "display_data"
    }
   ],
   "source": [
    "# we fill the diagonal with zeros to plot the errors\n",
    "\n",
    "sums = conf_mx.sum(axis=1, keepdims=True)\n",
    "norm_conf_mx = conf_mx / sums\n",
    "\n",
    "np.fill_diagonal(norm_conf_mx, 0)\n",
    "plt.matshow(norm_conf_mx, cmap=plt.cm.gray)\n",
    "plt.title(\"Errors of the DecisionTree predictions\", weight=\"bold\", size=16)\n",
    "plt.show()"
   ]
  },
  {
   "cell_type": "code",
   "execution_count": 164,
   "metadata": {},
   "outputs": [
    {
     "name": "stdout",
     "output_type": "stream",
     "text": [
      "The accuracy of the model is 0.6479709666776642.\n",
      "The precision of the model is 0.5912871179400107, using weighted average.\n",
      "The recall of the model is 0.6479709666776642, using weighted average.\n",
      "The f1-score of the model is 0.6053623399249618, using weighted average.\n"
     ]
    }
   ],
   "source": [
    "from sklearn.metrics import precision_score, recall_score, f1_score, accuracy_score\n",
    "\n",
    "prec_score = precision_score(y_test_tree, y_pred_tree, average=\"weighted\", zero_division=0)\n",
    "rec_score = recall_score(y_test_tree, y_pred_tree, average=\"weighted\", zero_division=0)\n",
    "F1_score = f1_score(y_test_tree, y_pred_tree, average=\"weighted\", zero_division=0)\n",
    "acc_score = accuracy_score(y_test_tree, y_pred_tree)\n",
    "\n",
    "print(f'The accuracy of the model is {acc_score}.')\n",
    "print(f'The precision of the model is {prec_score}, using weighted average.')\n",
    "print(f'The recall of the model is {rec_score}, using weighted average.')\n",
    "print(f'The f1-score of the model is {F1_score}, using weighted average.')"
   ]
  },
  {
   "cell_type": "code",
   "execution_count": 178,
   "metadata": {},
   "outputs": [
    {
     "data": {
      "text/html": [
       "<div>\n",
       "<style scoped>\n",
       "    .dataframe tbody tr th:only-of-type {\n",
       "        vertical-align: middle;\n",
       "    }\n",
       "\n",
       "    .dataframe tbody tr th {\n",
       "        vertical-align: top;\n",
       "    }\n",
       "\n",
       "    .dataframe thead th {\n",
       "        text-align: right;\n",
       "    }\n",
       "</style>\n",
       "<table border=\"1\" class=\"dataframe\">\n",
       "  <thead>\n",
       "    <tr style=\"text-align: right;\">\n",
       "      <th></th>\n",
       "      <th>case AMOUNT_REQ</th>\n",
       "      <th>event concept:name</th>\n",
       "      <th>time of day</th>\n",
       "      <th>predicted_next_event</th>\n",
       "    </tr>\n",
       "  </thead>\n",
       "  <tbody>\n",
       "    <tr>\n",
       "      <th>20348</th>\n",
       "      <td>5000</td>\n",
       "      <td>6</td>\n",
       "      <td>4611.000</td>\n",
       "      <td>A_DECLINED</td>\n",
       "    </tr>\n",
       "    <tr>\n",
       "      <th>20349</th>\n",
       "      <td>14000</td>\n",
       "      <td>9</td>\n",
       "      <td>4616.000</td>\n",
       "      <td>A_PARTLYSUBMITTED</td>\n",
       "    </tr>\n",
       "    <tr>\n",
       "      <th>20350</th>\n",
       "      <td>14000</td>\n",
       "      <td>6</td>\n",
       "      <td>4617.000</td>\n",
       "      <td>A_PREACCEPTED</td>\n",
       "    </tr>\n",
       "    <tr>\n",
       "      <th>20353</th>\n",
       "      <td>14000</td>\n",
       "      <td>7</td>\n",
       "      <td>4636.000</td>\n",
       "      <td>W_Completeren aanvraag</td>\n",
       "    </tr>\n",
       "    <tr>\n",
       "      <th>20356</th>\n",
       "      <td>15000</td>\n",
       "      <td>21</td>\n",
       "      <td>4653.000</td>\n",
       "      <td>W_Nabellen offertes</td>\n",
       "    </tr>\n",
       "  </tbody>\n",
       "</table>\n",
       "</div>"
      ],
      "text/plain": [
       "       case AMOUNT_REQ  event concept:name  time of day  \\\n",
       "20348             5000                   6     4611.000   \n",
       "20349            14000                   9     4616.000   \n",
       "20350            14000                   6     4617.000   \n",
       "20353            14000                   7     4636.000   \n",
       "20356            15000                  21     4653.000   \n",
       "\n",
       "         predicted_next_event  \n",
       "20348              A_DECLINED  \n",
       "20349       A_PARTLYSUBMITTED  \n",
       "20350           A_PREACCEPTED  \n",
       "20353  W_Completeren aanvraag  \n",
       "20356     W_Nabellen offertes  "
      ]
     },
     "execution_count": 178,
     "metadata": {},
     "output_type": "execute_result"
    }
   ],
   "source": [
    "dF_result = X_test_tree.copy()\n",
    "df_result['predicted_next_event'] = y_pred_tree\n",
    "\n",
    "# df_result['event concept:name'] = event_encoder.inverse_transform(df_result['event concept:name'])\n",
    "df_result['predicted_next_event'] = event_encoder.inverse_transform(df_result['predicted_next_event'])\n",
    "\n",
    "df_result.head()"
   ]
  },
  {
   "cell_type": "code",
   "execution_count": 172,
   "metadata": {},
   "outputs": [],
   "source": [
    "df_encodedTime = df_processed.copy()"
   ]
  },
  {
   "cell_type": "code",
   "execution_count": 173,
   "metadata": {},
   "outputs": [],
   "source": [
    "df_encodedTime[\"Completion Time\"] = np.nan\n",
    "df_encodedTime[\"Completion Time\"] = (df_encodedTime[\"nextTIME\"] - df_encodedTime[\"event time:timestamp\"]).apply(secondsTransform)\n",
    "df_encodedTime.dropna(inplace=True)\n",
    "\n",
    "df_encodedTime[\"Time Average\"] = 0\n",
    "\n",
    "for name, group in df_encodedTime[[\"event concept:name\", \"Completion Time\"]].groupby([\"event concept:name\"]):\n",
    "    mean = group[\"Completion Time\"].mean()\n",
    "    df_encodedTime.loc[df_encodedTime[\"event concept:name\"] == name, \"Time Average\"] = mean"
   ]
  },
  {
   "cell_type": "code",
   "execution_count": 174,
   "metadata": {},
   "outputs": [
    {
     "data": {
      "text/plain": [
       "40.6421816582362"
      ]
     },
     "execution_count": 174,
     "metadata": {},
     "output_type": "execute_result"
    }
   ],
   "source": [
    "X = df_encodedTime[['event concept:name', \"case AMOUNT_REQ\", \"Time Average\"]]\n",
    "y = df_encodedTime['Completion Time']\n",
    "\n",
    "x_train, x_test, y_train, y_test = train_test_split(X, y, test_size=0.3, random_state=42, shuffle=False)\n",
    "\n",
    "from sklearn import linear_model\n",
    "regr = linear_model.LinearRegression()\n",
    "regr.fit(x_train, y_train)\n",
    "\n",
    "y_pred = regr.predict(x_test)\n",
    "# % of negative predicted values\n",
    "(len(y_pred[y_pred<0])/len(y_pred))*100"
   ]
  },
  {
   "cell_type": "code",
   "execution_count": 175,
   "metadata": {},
   "outputs": [
    {
     "name": "stdout",
     "output_type": "stream",
     "text": [
      "Mean Absolute Error: 32747.905833780154\n",
      "Mean Squared Error: 5259962474.567384\n",
      "Root Mean Squared Error: 72525.59875359447\n"
     ]
    }
   ],
   "source": [
    "from sklearn import metrics\n",
    "print('Mean Absolute Error:', metrics.mean_absolute_error(y_test, y_pred))\n",
    "print('Mean Squared Error:', metrics.mean_squared_error(y_test, y_pred))\n",
    "print('Root Mean Squared Error:', np.sqrt(metrics.mean_squared_error(y_test, y_pred)))"
   ]
  }
 ],
 "metadata": {
  "interpreter": {
   "hash": "47c473ffaad557a40d6f692199c8550b37e2966a5f36ac429a864ed95aaad2b0"
  },
  "kernelspec": {
   "display_name": "Python 3.9.7 ('base')",
   "language": "python",
   "name": "python3"
  },
  "language_info": {
   "codemirror_mode": {
    "name": "ipython",
    "version": 3
   },
   "file_extension": ".py",
   "mimetype": "text/x-python",
   "name": "python",
   "nbconvert_exporter": "python",
   "pygments_lexer": "ipython3",
   "version": "3.9.7"
  },
  "orig_nbformat": 4
 },
 "nbformat": 4,
 "nbformat_minor": 2
}
