{
 "cells": [
  {
   "cell_type": "code",
   "execution_count": 1,
   "metadata": {},
   "outputs": [],
   "source": [
    "import pandas as pd\n",
    "import matplotlib.pyplot as plt\n",
    "import seaborn as sns\n",
    "import numpy as np\n",
    "from sklearn.model_selection import TimeSeriesSplit\n",
    "from sklearn.metrics import mean_squared_error\n",
    "from sklearn import linear_model\n",
    "from sklearn.metrics import r2_score\n",
    "from sklearn.metrics import mean_absolute_error\n",
    "\n",
    "import math\n",
    "\n",
    "np.set_printoptions(formatter={'float_kind':'{:f}'.format})\n",
    "pd.set_option('display.float_format', lambda x: '%.3f' % x)\n",
    "plt.style.use('seaborn')"
   ]
  },
  {
   "cell_type": "markdown",
   "metadata": {},
   "source": [
    "## Loading data and preprocessing"
   ]
  },
  {
   "cell_type": "code",
   "execution_count": 2,
   "metadata": {},
   "outputs": [],
   "source": [
    "path = r\"/home/dazai/Documents/Processmining/Data/\"\n",
    "df_train = pd.read_csv(f'{path}BPI_Challenge_2012-training.csv')\n",
    "df_test = pd.read_csv(f'{path}BPI_Challenge_2012-test.csv')\n",
    "\n",
    "\n",
    "df_data = pd.concat([df_train, df_test])\n",
    "df_data['event time:timestamp'] = pd.to_datetime(df_data['event time:timestamp'], dayfirst=True)\n",
    "df_data['case REG_DATE'] = pd.to_datetime(df_data['case REG_DATE'])\n",
    "\n",
    "df_data.sort_values(by=['event time:timestamp'], inplace=True)\n",
    "df_data.reset_index(inplace=True, drop=True)\n",
    "\n",
    "# remove whitespace at beginning and end of column name\n",
    "df_data.columns = df_data.columns.str.strip(' ')"
   ]
  },
  {
   "cell_type": "code",
   "execution_count": 3,
   "metadata": {},
   "outputs": [],
   "source": [
    "# df_data = pd.read_pickle('/home/dazai/Documents/Processmining/Data/pickle.pkl')\n"
   ]
  },
  {
   "cell_type": "code",
   "execution_count": 4,
   "metadata": {},
   "outputs": [],
   "source": [
    "np.random.seed(41)\n",
    "\n",
    "df_data = df_data[df_data['case concept:name'].isin(np.random.choice(df_data['case concept:name'].unique(), size=10000, replace=False))]"
   ]
  },
  {
   "cell_type": "code",
   "execution_count": 5,
   "metadata": {},
   "outputs": [],
   "source": [
    "# Remove timezone information\n",
    "def remove_timezone(dt):\n",
    "    return dt.replace(tzinfo=None)\n",
    "\n",
    "# Calculate time difference since case start\n",
    "df_data['case REG_DATE'] = df_data['case REG_DATE'].apply(remove_timezone);\n",
    "df_data['days_since_start'] = df_data['event time:timestamp'] - df_data['case REG_DATE'];\n",
    "df_data['days_since_start'] = df_data['days_since_start'].dt.days;\n",
    "df_data = df_data.iloc[:-1];"
   ]
  },
  {
   "cell_type": "code",
   "execution_count": 6,
   "metadata": {},
   "outputs": [],
   "source": [
    "from sklearn.model_selection import train_test_split\n",
    "\n",
    "df_data, df_test = train_test_split(df_data, test_size=0.2, shuffle=False)"
   ]
  },
  {
   "cell_type": "markdown",
   "metadata": {},
   "source": [
    "## Function definitions"
   ]
  },
  {
   "cell_type": "code",
   "execution_count": 7,
   "metadata": {},
   "outputs": [],
   "source": [
    "import statsmodels.api as sm\n",
    "\n",
    "\n",
    "\n",
    "def sliding_window(window_size, df):\n",
    "    \"\"\"transforms df_data into supervised form \n",
    "    with rolling window implementations\n",
    "\n",
    "    Args:\n",
    "        window_size (int): size of rolling window\n",
    "\n",
    "    Returns:\n",
    "        (X, Y): tuple of input and output arrays\n",
    "    \"\"\"\n",
    "\n",
    "    windows = list(df.rolling(window=window_size))\n",
    "    for i in windows[window_size-1:]:    \n",
    "        # split into X and Y\n",
    "        temp = i.to_numpy()\n",
    "        temp = [item for sublist in temp for item in sublist]\n",
    "        Y.append(temp.pop(-1))\n",
    "        X.append(temp[1:])\n",
    "    return None\n",
    "\n",
    "\n",
    "def cross_validate(X, Y):\n",
    "    \"\"\"Creates a timesseries split and calculates \n",
    "    cross validation error fitted on a given estimator\n",
    "\n",
    "    Args:\n",
    "        X (array): input array \n",
    "        Y (array): output array\n",
    "\n",
    "    Returns:\n",
    "        output, model (tuple): list of true y and predicted + model\n",
    "    \"\"\"\n",
    "    output = []\n",
    "    ts = TimeSeriesSplit(gap=175, max_train_size=None, n_splits=5, test_size=None)\n",
    "\n",
    "    for train_index, test_index in ts.split(X):\n",
    "        X_train, X_test = X[train_index], X[test_index]\n",
    "        y_train, y_test = Y[train_index], Y[test_index]\n",
    "        \n",
    "        model = linear_model.LinearRegression().fit(X_train, y_train)\n",
    "        y_pred = model.predict(X_test)\n",
    "        output.append((y_test, y_pred))\n",
    "        \n",
    "    return output, model\n",
    "\n",
    "        \n",
    "    \n",
    "\n",
    " "
   ]
  },
  {
   "cell_type": "markdown",
   "metadata": {},
   "source": [
    "## Encoding"
   ]
  },
  {
   "cell_type": "code",
   "execution_count": 8,
   "metadata": {},
   "outputs": [],
   "source": [
    "from sklearn.preprocessing import MinMaxScaler\n",
    "\n",
    "def encode(df):\n",
    "    scaler = MinMaxScaler()\n",
    "    scaler.fit(df[['case AMOUNT_REQ']])\n",
    "    df['case AMOUNT_REQ'] = scaler.transform(df[['case AMOUNT_REQ']])\n",
    "\n",
    "    # Get dummy variables and encode lifecycle\n",
    "    df_dummies_lifecycle = pd.get_dummies(df['event lifecycle:transition'], prefix='Lifecycle', drop_first=True)\n",
    "    df = df.loc[:, df.columns != 'event lifecycle:transition'].copy().join(df_dummies_lifecycle)\n",
    "\n",
    "\n",
    "    # dummy variables encoded\n",
    "    df_dummies_name = pd.get_dummies(df['event concept:name'], prefix='Event Name', drop_first=True)\n",
    "    df.drop('event concept:name', axis=1, inplace=True)\n",
    "    df = df.join(df_dummies_name)\n",
    "    return df"
   ]
  },
  {
   "cell_type": "markdown",
   "metadata": {},
   "source": [
    "## Feature engineering (I think?)"
   ]
  },
  {
   "cell_type": "code",
   "execution_count": 9,
   "metadata": {},
   "outputs": [],
   "source": [
    "def preprocess(df, log, outliers):\n",
    "    df = df.copy()\n",
    "    # Calculate time difference between current and next row\n",
    "    df['time_diff'] = df['event time:timestamp'].shift(-1);\n",
    "    df['time_diff'] = df['time_diff'] - df['event time:timestamp'] \n",
    "    df['time_diff'] = df['time_diff'].dt.total_seconds();\n",
    "    # df['time_diff'] = df['time_diff'].round();\n",
    "    df = df.iloc[:-1];\n",
    "    \n",
    "    df = df[df['time_diff']>=0]\n",
    "\n",
    "    if log == True:\n",
    "        df['time_diff'] = np.log(df['time_diff'].replace(0, np.nan))\n",
    "        df['time_diff'] = df['time_diff'].replace(np.nan, 0)\n",
    "    \n",
    "    \n",
    "    # Adding time features\n",
    "    df['day'] = df['event time:timestamp'].dt.day;\n",
    "    df['month'] = df['event time:timestamp'].dt.month;\n",
    "    df['hour'] = df['event time:timestamp'].dt.hour;\n",
    "    df['day_of_week'] = df['event time:timestamp'].dt.weekday;\n",
    "\n",
    "    # Cyclical encoding\n",
    "    df[\"hour\"] = 2 * math.pi * df[\"hour\"] / df[\"hour\"].max()\n",
    "    df[\"hour_cos\"] = np.cos(df[\"hour\"])\n",
    "    df[\"hour_sin\"] = np.sin(df[\"hour\"])\n",
    "    df[\"day_of_week\"] = 2 * math.pi * df[\"day_of_week\"] / df[\"day_of_week\"].max()\n",
    "    df[\"day_of_week_cos\"] = np.cos(df[\"day_of_week\"])\n",
    "    df[\"day_of_week_sin\"] = np.sin(df[\"day_of_week\"])\n",
    "\n",
    "    # drop unnecessary columns\n",
    "    df.drop(columns=['event time:timestamp', 'eventID', 'case REG_DATE',\n",
    "                        'day_of_week', 'hour'], inplace=True)\n",
    "\n",
    "    # put columns in right order\n",
    "    cols = df.columns.tolist()\n",
    "    cols.remove('time_diff')\n",
    "    cols = cols + ['time_diff']\n",
    "    df = df[cols]\n",
    "\n",
    "    if outliers == 'capped':\n",
    "        # Filter outliers\n",
    "        df.loc[df['time_diff']>600, 'time_diff'] = 601\n",
    "    elif outliers == 'removed':\n",
    "        df = df[df['time_diff']<=600]\n",
    "    elif outliers == 'keep':\n",
    "        pass\n",
    "    else:\n",
    "        print('ERROR')\n",
    "        \n",
    "        \n",
    "    return df\n",
    "    "
   ]
  },
  {
   "cell_type": "code",
   "execution_count": 10,
   "metadata": {},
   "outputs": [],
   "source": [
    "df_data = encode(df_data)\n",
    "df_data = df_data.groupby('case concept:name').apply(lambda x: preprocess(x, log=True, outliers='removed'))\n",
    "df_data.drop('case concept:name', axis=1, inplace = True)\n",
    "\n",
    "df_data = df_data[~df_data['hour_cos'].isna()]\n",
    "df_data = df_data[~df_data['day_of_week_cos'].isna()]"
   ]
  },
  {
   "cell_type": "code",
   "execution_count": 11,
   "metadata": {},
   "outputs": [],
   "source": [
    "X = []\n",
    "Y = []\n",
    "df_data.groupby('case concept:name').apply(lambda x: sliding_window(3, x))\n",
    "test = cross_validate(np.array(X), np.array(Y))\n",
    "model = test[1]"
   ]
  },
  {
   "cell_type": "code",
   "execution_count": 12,
   "metadata": {},
   "outputs": [
    {
     "name": "stdout",
     "output_type": "stream",
     "text": [
      "mse: 5.30985471795473\n",
      "r^2: 0.7515943499514596\n",
      "rmse: 2.3036132000303087\n",
      "mae:1.6404406368728626\n"
     ]
    }
   ],
   "source": [
    "test = test[0]\n",
    "mse = np.mean([mean_squared_error(i[0], i[1]) for i in test])\n",
    "r2 = np.mean([r2_score(i[0], i[1]) for i in test])\n",
    "mae = np.mean([mean_absolute_error(i[0], i[1]) for i in test])\n",
    "rmse = np.mean([mean_squared_error(i[0], i[1], squared=False) for i in test])\n",
    "# print(f'mse: {math.exp(mse)}\\nr^2: {r2}\\nrmse: {math.exp(rmse)}\\nmae:{math.exp(mae)}')\n",
    "print(f'mse: {mse}\\nr^2: {r2}\\nrmse: {rmse}\\nmae:{mae}')"
   ]
  },
  {
   "cell_type": "code",
   "execution_count": 13,
   "metadata": {},
   "outputs": [],
   "source": [
    "y_true = pd.DataFrame(test[-1][0])\n",
    "y_pred = pd.DataFrame(test[-1][1])\n",
    "df_error = pd.concat([y_true, y_pred], axis=1)\n",
    "df_error.columns = ['y_true', 'y_pred']\n",
    "df_error.reset_index(inplace=True)\n",
    "df_error['error'] = df_error['y_true'] - df_error['y_pred']"
   ]
  },
  {
   "cell_type": "code",
   "execution_count": 14,
   "metadata": {},
   "outputs": [
    {
     "data": {
      "image/png": "[encoded data removed]",
      "text/plain": [
       "<Figure size 720x504 with 1 Axes>"
      ]
     },
     "metadata": {},
     "output_type": "display_data"
    }
   ],
   "source": [
    "fig, ax = plt.subplots(figsize=(10,7))\n",
    "# df_error.plot.hist(x='index', y='error', figsize=(10,5), ax=ax, bins=10)\n",
    "sns.histplot(data=df_error, x='error', ax=ax, color='salmon')\n",
    "ax.set_title('Error distribution with log transform', size=30)\n",
    "ax.set_ylabel('count', fontsize=20)\n",
    "ax.set_xlabel('Error in e^seconds', fontsize=20)\n",
    "plt.yticks(fontsize=20);\n",
    "plt.xticks(fontsize=20);"
   ]
  },
  {
   "cell_type": "markdown",
   "metadata": {},
   "source": [
    "# Test set"
   ]
  },
  {
   "cell_type": "code",
   "execution_count": 13,
   "metadata": {},
   "outputs": [],
   "source": [
    "df_test = encode(df_test)\n",
    "\n",
    "df_test = df_test.groupby('case concept:name').apply(lambda x: preprocess(x, log=True, outliers='keep'))\n",
    "df_test.drop('case concept:name', axis=1, inplace = True)\n",
    "\n",
    "df_test = df_test[~df_test['hour_cos'].isna()]\n",
    "df_test = df_test[~df_test['day_of_week_cos'].isna()]"
   ]
  },
  {
   "cell_type": "code",
   "execution_count": 14,
   "metadata": {},
   "outputs": [],
   "source": [
    "X = []\n",
    "Y = []\n",
    "df_test.groupby('case concept:name').apply(lambda x: sliding_window(3, x))\n",
    "y_pred = model.predict(X)"
   ]
  },
  {
   "cell_type": "code",
   "execution_count": 15,
   "metadata": {},
   "outputs": [
    {
     "name": "stdout",
     "output_type": "stream",
     "text": [
      "mse: 243.4055022236621\n",
      "r^2: 0.741717353242444\n",
      "rmse: 10.423717972966951\n",
      "mae:5.305118359703051\n"
     ]
    }
   ],
   "source": [
    "mse = mean_squared_error(Y, y_pred)\n",
    "r2 = r2_score(Y, y_pred)\n",
    "mae = mean_absolute_error(Y,y_pred )\n",
    "rmse = mean_squared_error(Y, y_pred, squared=False)\n",
    "print(f'mse: {math.exp(mse)}\\nr^2: {r2}\\nrmse: {math.exp(rmse)}\\nmae:{math.exp(mae)}')\n",
    "\n",
    "\n"
   ]
  },
  {
   "cell_type": "markdown",
   "metadata": {},
   "source": [
    "---"
   ]
  },
  {
   "cell_type": "code",
   "execution_count": 18,
   "metadata": {},
   "outputs": [],
   "source": [
    "# X = []\n",
    "# Y = []\n",
    "# df_data = encode(df_data)\n",
    "# df_data = preprocess(df_data, log=True, outliers='capped')\n",
    "\n",
    "# # df_data.groupby('case concept:name').apply(lambda x: sliding_window(3, x))\n",
    "# sliding_window(3, df_data)\n",
    "# test = cross_validate(np.array(X), np.array(Y))\n",
    "# model = test[1]"
   ]
  },
  {
   "cell_type": "markdown",
   "metadata": {},
   "source": [
    "vif"
   ]
  },
  {
   "cell_type": "code",
   "execution_count": 19,
   "metadata": {},
   "outputs": [],
   "source": [
    "# from statsmodels.stats.outliers_influence import variance_inflation_factor\n",
    "  \n",
    "\n",
    "# # the independent variables set\n",
    "# X = df_data.drop(['time_diff','case concept:name'], axis=1)\n",
    "  \n",
    "# # VIF dataframe\n",
    "# vif_data = pd.DataFrame()\n",
    "# vif_data[\"feature\"] = X.columns\n",
    "  \n",
    "# # calculating VIF for each feature\n",
    "# vif_data[\"VIF\"] = [variance_inflation_factor(X.values, i)\n",
    "#                           for i in range(len(X.columns))]\n",
    "  \n",
    "# print(vif_data)"
   ]
  },
  {
   "cell_type": "code",
   "execution_count": 15,
   "metadata": {},
   "outputs": [],
   "source": [
    "# df_error.iloc[:200].plot(\n",
    "#     kind='scatter',\n",
    "#     x='index', \n",
    "#     y=['y_true', 'y_pred'],\n",
    "#     backend='plotly', \n",
    "#     width=1200,\n",
    "#     height=800   \n",
    "# )"
   ]
  },
  {
   "cell_type": "code",
   "execution_count": 21,
   "metadata": {},
   "outputs": [],
   "source": [
    "# df_error.plot(\n",
    "#     kind='scatter',\n",
    "#     x='index', \n",
    "#     y=['error'], \n",
    "#     backend='plotly', \n",
    "#     width=1200,\n",
    "#     height=800   \n",
    "# )"
   ]
  },
  {
   "cell_type": "code",
   "execution_count": 38,
   "metadata": {},
   "outputs": [
    {
     "data": {
      "image/png": "[encoded data removed]",
      "text/plain": [
       "<Figure size 1080x720 with 1 Axes>"
      ]
     },
     "metadata": {},
     "output_type": "display_data"
    }
   ],
   "source": [
    "# import scipy.stats as stats\n",
    "# fig, ax = plt.subplots(figsize=(15,10))\n",
    "# stats.probplot(df_error['error'], plot=ax);"
   ]
  },
  {
   "cell_type": "code",
   "execution_count": 23,
   "metadata": {},
   "outputs": [],
   "source": [
    "# fig, ax = plt.subplots(figsize=(20,15))\n",
    "# df_error.plot(kind='scatter', x='index', y='y_true', color='r', ax=ax)    \n",
    "# df_error.plot(kind='scatter', x='index', y='y_true', color='g', ax=ax)  \n",
    "# # ax.scatter(data=df_error, x=df_error.index, y='y_true', color='r');\n",
    "# # ax.scatter(data=df_error, x=df_error.index, y='y_pred', color='g');"
   ]
  },
  {
   "cell_type": "code",
   "execution_count": 24,
   "metadata": {},
   "outputs": [],
   "source": [
    "# df_error.plot(kind='scatter', x='index', y='y_true', color='r', ax=ax)    \n",
    "# df_error.plot(kind='scatter', x='index', y='y_true', color='g', ax=ax)    \n",
    "# # df_error.plot(kind='scatter', x=df_error['index'], y='y_pred', color='r')    "
   ]
  },
  {
   "cell_type": "code",
   "execution_count": 25,
   "metadata": {},
   "outputs": [],
   "source": [
    "# df_data.groupby('case concept:name').size().to_frame().describe()"
   ]
  }
 ],
 "metadata": {
  "interpreter": {
   "hash": "916dbcbb3f70747c44a77c7bcd40155683ae19c65e1c03b4aa3499c5328201f1"
  },
  "kernelspec": {
   "display_name": "Python 3.8.10 64-bit",
   "language": "python",
   "name": "python3"
  },
  "language_info": {
   "codemirror_mode": {
    "name": "ipython",
    "version": 3
   },
   "file_extension": ".py",
   "mimetype": "text/x-python",
   "name": "python",
   "nbconvert_exporter": "python",
   "pygments_lexer": "ipython3",
   "version": "3.8.10"
  },
  "orig_nbformat": 4
 },
 "nbformat": 4,
 "nbformat_minor": 2
}
