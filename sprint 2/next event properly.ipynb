{
 "cells": [
  {
   "cell_type": "code",
   "execution_count": 379,
   "id": "136771f3",
   "metadata": {},
   "outputs": [],
   "source": [
    "import numpy as np\n",
    "import pandas as pd\n",
    "import os\n",
    "\n",
    "np.random.seed(42)\n",
    "\n",
    "%matplotlib inline\n",
    "import matplotlib as mpl\n",
    "import matplotlib.pyplot as plt\n",
    "mpl.rc('axes', labelsize=14)\n",
    "mpl.rc('xtick', labelsize=12)\n",
    "mpl.rc('ytick', labelsize=12)\n",
    "plt.rcParams[\"figure.figsize\"] = [16, 11]\n",
    "plt.rcParams[\"figure.autolayout\"] = True"
   ]
  },
  {
   "cell_type": "markdown",
   "id": "b990d55e",
   "metadata": {},
   "source": [
    "## Load data\n",
    "Here we load the data, and make sure that the entire data set is contained in one dataframe, for manual splitting. This manual splitting will later be done so that we can control the that all events used for training, will take place before the test set, avoiding the future data problem. The data will be sorted according to its time values."
   ]
  },
  {
   "cell_type": "code",
   "execution_count": 297,
   "id": "11412088",
   "metadata": {},
   "outputs": [],
   "source": [
    "path = r\"D:/University/Year 2/Q3/DBL/Data/BPI Challenge 2012/\"\n",
    "df_train = pd.read_csv(f'{path}BPI_Challenge_2012-training.csv')\n",
    "df_test = pd.read_csv(f'{path}BPI_Challenge_2012-test.csv')\n",
    "\n",
    "\n",
    "df_data = pd.concat([df_train, df_test])"
   ]
  },
  {
   "cell_type": "markdown",
   "id": "f5c57f41",
   "metadata": {},
   "source": [
    "#### Data split for demo"
   ]
  },
  {
   "cell_type": "code",
   "execution_count": 298,
   "id": "be447624",
   "metadata": {},
   "outputs": [],
   "source": [
    "def data_split(df):\n",
    "    \"\"\"returns 10% of the data\"\"\"\n",
    "    return df[: int((len(df)/10))]"
   ]
  },
  {
   "cell_type": "code",
   "execution_count": 299,
   "id": "c4955f5a",
   "metadata": {},
   "outputs": [],
   "source": [
    "# df_data['event time:timestamp'] = pd.to_datetime(df_data['event time:timestamp'], dayfirst=True).dt.date\n",
    "df_data.sort_values(by=['event time:timestamp'])\n",
    "df_data.reset_index(inplace=True, drop=True)\n",
    "# df_data.drop(['case description', 'event org:resource'], axis=1, inplace=True)\n",
    "\n",
    "# remove whitespace at beginning and end of column name\n",
    "df_data.columns = df_data.columns.str.strip()"
   ]
  },
  {
   "cell_type": "code",
   "execution_count": 300,
   "id": "f589b8d9",
   "metadata": {},
   "outputs": [],
   "source": [
    "# df_data = data_split(df_data)"
   ]
  },
  {
   "cell_type": "code",
   "execution_count": null,
   "id": "a0987839",
   "metadata": {},
   "outputs": [],
   "source": []
  },
  {
   "cell_type": "markdown",
   "id": "1ee18b11",
   "metadata": {},
   "source": [
    "## Pre processing and feature engineering"
   ]
  },
  {
   "cell_type": "code",
   "execution_count": 301,
   "id": "5ff316d3",
   "metadata": {},
   "outputs": [],
   "source": [
    "# assign long column names to variables for easier use\n",
    "cases = \"case concept:name\"\n",
    "reg_date = \"case REG_DATE\"\n",
    "amount_req = \"case AMOUNT_REQ\"\n",
    "event_name = \"event concept:name\"\n",
    "lifecycle = \"event lifecycle:transition\"\n",
    "tmstmp = \"event time:timestamp\"\n",
    "nxt_event = \"next event\"\n",
    "dtime = \"delta time\""
   ]
  },
  {
   "cell_type": "code",
   "execution_count": 302,
   "id": "52baa0fc",
   "metadata": {},
   "outputs": [
    {
     "name": "stdout",
     "output_type": "stream",
     "text": [
      "COMPLETE happens 164506\n",
      "SCHEDULE happens 26318\n",
      "START happens 71376\n"
     ]
    }
   ],
   "source": [
    "print(f'{df_data[lifecycle].unique()[0]} happens {len(df_data[df_data[lifecycle] == df_data[lifecycle].unique()[0]])}')\n",
    "print(f'{df_data[lifecycle].unique()[1]} happens {len(df_data[df_data[lifecycle] == df_data[lifecycle].unique()[1]])}')\n",
    "print(f'{df_data[lifecycle].unique()[2]} happens {len(df_data[df_data[lifecycle] == df_data[lifecycle].unique()[2]])}')"
   ]
  },
  {
   "cell_type": "code",
   "execution_count": 303,
   "id": "b30414e2",
   "metadata": {},
   "outputs": [],
   "source": [
    "first_clean = df_data[df_data[lifecycle] == df_data[lifecycle].unique()[0]].copy()"
   ]
  },
  {
   "cell_type": "code",
   "execution_count": 304,
   "id": "e9ba0179",
   "metadata": {},
   "outputs": [
    {
     "data": {
      "text/plain": [
       "262200"
      ]
     },
     "execution_count": 304,
     "metadata": {},
     "output_type": "execute_result"
    }
   ],
   "source": [
    "len(df_data)"
   ]
  },
  {
   "cell_type": "code",
   "execution_count": 305,
   "id": "d9887907",
   "metadata": {},
   "outputs": [
    {
     "data": {
      "text/plain": [
       "262200"
      ]
     },
     "execution_count": 305,
     "metadata": {},
     "output_type": "execute_result"
    }
   ],
   "source": [
    "len(df_data['eventID'].unique())"
   ]
  },
  {
   "cell_type": "code",
   "execution_count": 306,
   "id": "2284e41f",
   "metadata": {},
   "outputs": [
    {
     "data": {
      "text/plain": [
       "array(['COMPLETE'], dtype=object)"
      ]
     },
     "execution_count": 306,
     "metadata": {},
     "output_type": "execute_result"
    }
   ],
   "source": [
    "first_clean[lifecycle].unique()"
   ]
  },
  {
   "cell_type": "code",
   "execution_count": 307,
   "id": "23114dd0",
   "metadata": {},
   "outputs": [
    {
     "name": "stdout",
     "output_type": "stream",
     "text": [
      "The number of unique cases/traces in the dataset is 13087\n"
     ]
    }
   ],
   "source": [
    "print(f'The number of unique cases/traces in the dataset is {len(first_clean[cases].unique())}')"
   ]
  },
  {
   "cell_type": "code",
   "execution_count": 308,
   "id": "b2b894c4",
   "metadata": {},
   "outputs": [],
   "source": [
    "lst_events = first_clean[cases].unique().tolist()"
   ]
  },
  {
   "cell_type": "code",
   "execution_count": 309,
   "id": "2185dff8",
   "metadata": {},
   "outputs": [],
   "source": [
    "first_clean[nxt_event] = np.nan"
   ]
  },
  {
   "cell_type": "code",
   "execution_count": 310,
   "id": "444eb712",
   "metadata": {},
   "outputs": [],
   "source": [
    "# first_clean[first_clean[cases] == 173688]"
   ]
  },
  {
   "cell_type": "code",
   "execution_count": 311,
   "id": "ec2c1fb3",
   "metadata": {},
   "outputs": [],
   "source": [
    "# test environment\n",
    "temp_data = first_clean[: 1000]\n",
    "test_lst = temp_data[cases].unique().tolist()"
   ]
  },
  {
   "cell_type": "code",
   "execution_count": 312,
   "id": "08e0b11d",
   "metadata": {},
   "outputs": [],
   "source": [
    "def next_event(data, lst, case, nxt, name):\n",
    "    \"\"\"function to add the next event of a trace\"\"\"\n",
    "    for i in lst:\n",
    "        data.loc[data[case] == i, nxt] = data.loc[data[case] == i, name].shift(-1)\n",
    "    return data"
   ]
  },
  {
   "cell_type": "code",
   "execution_count": 313,
   "id": "f24ad247",
   "metadata": {},
   "outputs": [
    {
     "data": {
      "text/html": [
       "<div>\n",
       "<style scoped>\n",
       "    .dataframe tbody tr th:only-of-type {\n",
       "        vertical-align: middle;\n",
       "    }\n",
       "\n",
       "    .dataframe tbody tr th {\n",
       "        vertical-align: top;\n",
       "    }\n",
       "\n",
       "    .dataframe thead th {\n",
       "        text-align: right;\n",
       "    }\n",
       "</style>\n",
       "<table border=\"1\" class=\"dataframe\">\n",
       "  <thead>\n",
       "    <tr style=\"text-align: right;\">\n",
       "      <th></th>\n",
       "      <th>eventID</th>\n",
       "      <th>case concept:name</th>\n",
       "      <th>case REG_DATE</th>\n",
       "      <th>case AMOUNT_REQ</th>\n",
       "      <th>event concept:name</th>\n",
       "      <th>event lifecycle:transition</th>\n",
       "      <th>event time:timestamp</th>\n",
       "      <th>next event</th>\n",
       "    </tr>\n",
       "  </thead>\n",
       "  <tbody>\n",
       "    <tr>\n",
       "      <th>0</th>\n",
       "      <td>0</td>\n",
       "      <td>173688</td>\n",
       "      <td>2011-10-01T00:38:44.546+02:00</td>\n",
       "      <td>20000</td>\n",
       "      <td>A_SUBMITTED</td>\n",
       "      <td>COMPLETE</td>\n",
       "      <td>01-10-2011 00:38:44.546</td>\n",
       "      <td>A_PARTLYSUBMITTED</td>\n",
       "    </tr>\n",
       "    <tr>\n",
       "      <th>1</th>\n",
       "      <td>1</td>\n",
       "      <td>173688</td>\n",
       "      <td>2011-10-01T00:38:44.546+02:00</td>\n",
       "      <td>20000</td>\n",
       "      <td>A_PARTLYSUBMITTED</td>\n",
       "      <td>COMPLETE</td>\n",
       "      <td>01-10-2011 00:38:44.880</td>\n",
       "      <td>A_PREACCEPTED</td>\n",
       "    </tr>\n",
       "    <tr>\n",
       "      <th>2</th>\n",
       "      <td>2</td>\n",
       "      <td>173688</td>\n",
       "      <td>2011-10-01T00:38:44.546+02:00</td>\n",
       "      <td>20000</td>\n",
       "      <td>A_PREACCEPTED</td>\n",
       "      <td>COMPLETE</td>\n",
       "      <td>01-10-2011 00:39:37.906</td>\n",
       "      <td>A_ACCEPTED</td>\n",
       "    </tr>\n",
       "    <tr>\n",
       "      <th>4</th>\n",
       "      <td>4294967296</td>\n",
       "      <td>173691</td>\n",
       "      <td>2011-10-01T08:08:58.256+02:00</td>\n",
       "      <td>5000</td>\n",
       "      <td>A_SUBMITTED</td>\n",
       "      <td>COMPLETE</td>\n",
       "      <td>01-10-2011 08:08:58.256</td>\n",
       "      <td>A_PARTLYSUBMITTED</td>\n",
       "    </tr>\n",
       "    <tr>\n",
       "      <th>5</th>\n",
       "      <td>4294967297</td>\n",
       "      <td>173691</td>\n",
       "      <td>2011-10-01T08:08:58.256+02:00</td>\n",
       "      <td>5000</td>\n",
       "      <td>A_PARTLYSUBMITTED</td>\n",
       "      <td>COMPLETE</td>\n",
       "      <td>01-10-2011 08:09:02.195</td>\n",
       "      <td>A_PREACCEPTED</td>\n",
       "    </tr>\n",
       "    <tr>\n",
       "      <th>...</th>\n",
       "      <td>...</td>\n",
       "      <td>...</td>\n",
       "      <td>...</td>\n",
       "      <td>...</td>\n",
       "      <td>...</td>\n",
       "      <td>...</td>\n",
       "      <td>...</td>\n",
       "      <td>...</td>\n",
       "    </tr>\n",
       "    <tr>\n",
       "      <th>262190</th>\n",
       "      <td>52342766436385</td>\n",
       "      <td>211624</td>\n",
       "      <td>2012-02-21T23:38:40.044+01:00</td>\n",
       "      <td>35000</td>\n",
       "      <td>W_Nabellen incomplete dossiers</td>\n",
       "      <td>COMPLETE</td>\n",
       "      <td>14-03-2012 15:56:07.999</td>\n",
       "      <td>W_Nabellen incomplete dossiers</td>\n",
       "    </tr>\n",
       "    <tr>\n",
       "      <th>262192</th>\n",
       "      <td>55465207660584</td>\n",
       "      <td>213855</td>\n",
       "      <td>2012-02-28T20:01:24.679+01:00</td>\n",
       "      <td>37500</td>\n",
       "      <td>W_Nabellen offertes</td>\n",
       "      <td>COMPLETE</td>\n",
       "      <td>14-03-2012 15:57:49.624</td>\n",
       "      <td>NaN</td>\n",
       "    </tr>\n",
       "    <tr>\n",
       "      <th>262194</th>\n",
       "      <td>53846004989989</td>\n",
       "      <td>212689</td>\n",
       "      <td>2012-02-25T11:24:12.200+01:00</td>\n",
       "      <td>2000</td>\n",
       "      <td>W_Nabellen incomplete dossiers</td>\n",
       "      <td>COMPLETE</td>\n",
       "      <td>14-03-2012 15:58:57.002</td>\n",
       "      <td>NaN</td>\n",
       "    </tr>\n",
       "    <tr>\n",
       "      <th>262196</th>\n",
       "      <td>54666343743524</td>\n",
       "      <td>213276</td>\n",
       "      <td>2012-02-27T14:12:41.868+01:00</td>\n",
       "      <td>15000</td>\n",
       "      <td>W_Nabellen incomplete dossiers</td>\n",
       "      <td>COMPLETE</td>\n",
       "      <td>14-03-2012 16:00:09.680</td>\n",
       "      <td>NaN</td>\n",
       "    </tr>\n",
       "    <tr>\n",
       "      <th>262199</th>\n",
       "      <td>52342766436387</td>\n",
       "      <td>211624</td>\n",
       "      <td>2012-02-21T23:38:40.044+01:00</td>\n",
       "      <td>35000</td>\n",
       "      <td>W_Nabellen incomplete dossiers</td>\n",
       "      <td>COMPLETE</td>\n",
       "      <td>14-03-2012 16:04:54.681</td>\n",
       "      <td>NaN</td>\n",
       "    </tr>\n",
       "  </tbody>\n",
       "</table>\n",
       "<p>164506 rows × 8 columns</p>\n",
       "</div>"
      ],
      "text/plain": [
       "               eventID  case concept:name                  case REG_DATE  \\\n",
       "0                    0             173688  2011-10-01T00:38:44.546+02:00   \n",
       "1                    1             173688  2011-10-01T00:38:44.546+02:00   \n",
       "2                    2             173688  2011-10-01T00:38:44.546+02:00   \n",
       "4           4294967296             173691  2011-10-01T08:08:58.256+02:00   \n",
       "5           4294967297             173691  2011-10-01T08:08:58.256+02:00   \n",
       "...                ...                ...                            ...   \n",
       "262190  52342766436385             211624  2012-02-21T23:38:40.044+01:00   \n",
       "262192  55465207660584             213855  2012-02-28T20:01:24.679+01:00   \n",
       "262194  53846004989989             212689  2012-02-25T11:24:12.200+01:00   \n",
       "262196  54666343743524             213276  2012-02-27T14:12:41.868+01:00   \n",
       "262199  52342766436387             211624  2012-02-21T23:38:40.044+01:00   \n",
       "\n",
       "        case AMOUNT_REQ              event concept:name  \\\n",
       "0                 20000                     A_SUBMITTED   \n",
       "1                 20000               A_PARTLYSUBMITTED   \n",
       "2                 20000                   A_PREACCEPTED   \n",
       "4                  5000                     A_SUBMITTED   \n",
       "5                  5000               A_PARTLYSUBMITTED   \n",
       "...                 ...                             ...   \n",
       "262190            35000  W_Nabellen incomplete dossiers   \n",
       "262192            37500             W_Nabellen offertes   \n",
       "262194             2000  W_Nabellen incomplete dossiers   \n",
       "262196            15000  W_Nabellen incomplete dossiers   \n",
       "262199            35000  W_Nabellen incomplete dossiers   \n",
       "\n",
       "       event lifecycle:transition     event time:timestamp  \\\n",
       "0                        COMPLETE  01-10-2011 00:38:44.546   \n",
       "1                        COMPLETE  01-10-2011 00:38:44.880   \n",
       "2                        COMPLETE  01-10-2011 00:39:37.906   \n",
       "4                        COMPLETE  01-10-2011 08:08:58.256   \n",
       "5                        COMPLETE  01-10-2011 08:09:02.195   \n",
       "...                           ...                      ...   \n",
       "262190                   COMPLETE  14-03-2012 15:56:07.999   \n",
       "262192                   COMPLETE  14-03-2012 15:57:49.624   \n",
       "262194                   COMPLETE  14-03-2012 15:58:57.002   \n",
       "262196                   COMPLETE  14-03-2012 16:00:09.680   \n",
       "262199                   COMPLETE  14-03-2012 16:04:54.681   \n",
       "\n",
       "                            next event  \n",
       "0                    A_PARTLYSUBMITTED  \n",
       "1                        A_PREACCEPTED  \n",
       "2                           A_ACCEPTED  \n",
       "4                    A_PARTLYSUBMITTED  \n",
       "5                        A_PREACCEPTED  \n",
       "...                                ...  \n",
       "262190  W_Nabellen incomplete dossiers  \n",
       "262192                             NaN  \n",
       "262194                             NaN  \n",
       "262196                             NaN  \n",
       "262199                             NaN  \n",
       "\n",
       "[164506 rows x 8 columns]"
      ]
     },
     "execution_count": 313,
     "metadata": {},
     "output_type": "execute_result"
    }
   ],
   "source": [
    "next_event(first_clean, lst_events, cases, nxt_event, event_name)"
   ]
  },
  {
   "cell_type": "code",
   "execution_count": 314,
   "id": "01c0c7af",
   "metadata": {
    "scrolled": true
   },
   "outputs": [],
   "source": [
    "# temp_data[\"delta\"] = np.nan\n",
    "# temp_data[\"time in seconds\"] = temp_data[reg_date]"
   ]
  },
  {
   "cell_type": "code",
   "execution_count": 315,
   "id": "7f207d6c",
   "metadata": {},
   "outputs": [],
   "source": [
    "# tmp = temp_data[temp_data[cases] == 173688].copy()"
   ]
  },
  {
   "cell_type": "code",
   "execution_count": 316,
   "id": "3f027042",
   "metadata": {},
   "outputs": [],
   "source": [
    "# tmp"
   ]
  },
  {
   "cell_type": "code",
   "execution_count": 317,
   "id": "54f7eb23",
   "metadata": {},
   "outputs": [],
   "source": [
    "# temp_data.loc[temp_data[cases] == 173688, nxt_event] = temp_data.loc[temp_data[cases] == 173688, event_name].shift(-1)"
   ]
  },
  {
   "cell_type": "code",
   "execution_count": 318,
   "id": "c50e3559",
   "metadata": {},
   "outputs": [],
   "source": [
    "# temp_data[temp_data[cases] == 173688]"
   ]
  },
  {
   "cell_type": "markdown",
   "id": "d0c2858a",
   "metadata": {},
   "source": [
    "Here we will split the data"
   ]
  },
  {
   "cell_type": "code",
   "execution_count": 319,
   "id": "1909fe64",
   "metadata": {},
   "outputs": [],
   "source": [
    "from sklearn.model_selection import train_test_split"
   ]
  },
  {
   "cell_type": "code",
   "execution_count": 320,
   "id": "e0f37735",
   "metadata": {},
   "outputs": [],
   "source": [
    "x = np.sort(np.random.randint(1,101,25))\n",
    "y = np.sort(np.random.randint(1,101,25))"
   ]
  },
  {
   "cell_type": "code",
   "execution_count": 321,
   "id": "c402bcde",
   "metadata": {},
   "outputs": [
    {
     "data": {
      "text/plain": [
       "(array([  2,   2,   3,  15,  21,  21,  22,  24,  30,  33,  38,  52,  53,\n",
       "         60,  61,  64,  72,  75,  75,  83,  87,  88,  88,  93, 100]),\n",
       " array([ 3,  7, 15, 21, 22, 39, 42, 47, 49, 51, 51, 55, 58, 59, 60, 62, 62,\n",
       "        62, 64, 73, 76, 80, 89, 91, 92]))"
      ]
     },
     "execution_count": 321,
     "metadata": {},
     "output_type": "execute_result"
    }
   ],
   "source": [
    "x, y"
   ]
  },
  {
   "cell_type": "code",
   "execution_count": 322,
   "id": "57a554dc",
   "metadata": {},
   "outputs": [],
   "source": [
    "# by specifying shuffle = False, it will split based the last bits as demonstrated here\n",
    "X_train_t, X_test_t, y_train_t, y_test_t = train_test_split(x, y, test_size=0.2, random_state=42, shuffle=False)"
   ]
  },
  {
   "cell_type": "code",
   "execution_count": 323,
   "id": "83a9ca46",
   "metadata": {},
   "outputs": [
    {
     "data": {
      "text/plain": [
       "(array([ 2,  2,  3, 15, 21, 21, 22, 24, 30, 33, 38, 52, 53, 60, 61, 64, 72,\n",
       "        75, 75, 83]),\n",
       " array([ 87,  88,  88,  93, 100]),\n",
       " array([ 3,  7, 15, 21, 22, 39, 42, 47, 49, 51, 51, 55, 58, 59, 60, 62, 62,\n",
       "        62, 64, 73]),\n",
       " array([76, 80, 89, 91, 92]))"
      ]
     },
     "execution_count": 323,
     "metadata": {},
     "output_type": "execute_result"
    }
   ],
   "source": [
    "X_train_t, X_test_t, y_train_t, y_test_t"
   ]
  },
  {
   "cell_type": "code",
   "execution_count": 324,
   "id": "9829746e",
   "metadata": {},
   "outputs": [
    {
     "data": {
      "text/html": [
       "<div>\n",
       "<style scoped>\n",
       "    .dataframe tbody tr th:only-of-type {\n",
       "        vertical-align: middle;\n",
       "    }\n",
       "\n",
       "    .dataframe tbody tr th {\n",
       "        vertical-align: top;\n",
       "    }\n",
       "\n",
       "    .dataframe thead th {\n",
       "        text-align: right;\n",
       "    }\n",
       "</style>\n",
       "<table border=\"1\" class=\"dataframe\">\n",
       "  <thead>\n",
       "    <tr style=\"text-align: right;\">\n",
       "      <th></th>\n",
       "      <th>eventID</th>\n",
       "      <th>case concept:name</th>\n",
       "      <th>case REG_DATE</th>\n",
       "      <th>case AMOUNT_REQ</th>\n",
       "      <th>event concept:name</th>\n",
       "      <th>event lifecycle:transition</th>\n",
       "      <th>event time:timestamp</th>\n",
       "      <th>next event</th>\n",
       "    </tr>\n",
       "  </thead>\n",
       "  <tbody>\n",
       "    <tr>\n",
       "      <th>0</th>\n",
       "      <td>0</td>\n",
       "      <td>173688</td>\n",
       "      <td>2011-10-01T00:38:44.546+02:00</td>\n",
       "      <td>20000</td>\n",
       "      <td>A_SUBMITTED</td>\n",
       "      <td>COMPLETE</td>\n",
       "      <td>01-10-2011 00:38:44.546</td>\n",
       "      <td>A_PARTLYSUBMITTED</td>\n",
       "    </tr>\n",
       "    <tr>\n",
       "      <th>1</th>\n",
       "      <td>1</td>\n",
       "      <td>173688</td>\n",
       "      <td>2011-10-01T00:38:44.546+02:00</td>\n",
       "      <td>20000</td>\n",
       "      <td>A_PARTLYSUBMITTED</td>\n",
       "      <td>COMPLETE</td>\n",
       "      <td>01-10-2011 00:38:44.880</td>\n",
       "      <td>A_PREACCEPTED</td>\n",
       "    </tr>\n",
       "    <tr>\n",
       "      <th>2</th>\n",
       "      <td>2</td>\n",
       "      <td>173688</td>\n",
       "      <td>2011-10-01T00:38:44.546+02:00</td>\n",
       "      <td>20000</td>\n",
       "      <td>A_PREACCEPTED</td>\n",
       "      <td>COMPLETE</td>\n",
       "      <td>01-10-2011 00:39:37.906</td>\n",
       "      <td>A_ACCEPTED</td>\n",
       "    </tr>\n",
       "    <tr>\n",
       "      <th>4</th>\n",
       "      <td>4294967296</td>\n",
       "      <td>173691</td>\n",
       "      <td>2011-10-01T08:08:58.256+02:00</td>\n",
       "      <td>5000</td>\n",
       "      <td>A_SUBMITTED</td>\n",
       "      <td>COMPLETE</td>\n",
       "      <td>01-10-2011 08:08:58.256</td>\n",
       "      <td>A_PARTLYSUBMITTED</td>\n",
       "    </tr>\n",
       "    <tr>\n",
       "      <th>5</th>\n",
       "      <td>4294967297</td>\n",
       "      <td>173691</td>\n",
       "      <td>2011-10-01T08:08:58.256+02:00</td>\n",
       "      <td>5000</td>\n",
       "      <td>A_PARTLYSUBMITTED</td>\n",
       "      <td>COMPLETE</td>\n",
       "      <td>01-10-2011 08:09:02.195</td>\n",
       "      <td>A_PREACCEPTED</td>\n",
       "    </tr>\n",
       "    <tr>\n",
       "      <th>...</th>\n",
       "      <td>...</td>\n",
       "      <td>...</td>\n",
       "      <td>...</td>\n",
       "      <td>...</td>\n",
       "      <td>...</td>\n",
       "      <td>...</td>\n",
       "      <td>...</td>\n",
       "      <td>...</td>\n",
       "    </tr>\n",
       "    <tr>\n",
       "      <th>262190</th>\n",
       "      <td>52342766436385</td>\n",
       "      <td>211624</td>\n",
       "      <td>2012-02-21T23:38:40.044+01:00</td>\n",
       "      <td>35000</td>\n",
       "      <td>W_Nabellen incomplete dossiers</td>\n",
       "      <td>COMPLETE</td>\n",
       "      <td>14-03-2012 15:56:07.999</td>\n",
       "      <td>W_Nabellen incomplete dossiers</td>\n",
       "    </tr>\n",
       "    <tr>\n",
       "      <th>262192</th>\n",
       "      <td>55465207660584</td>\n",
       "      <td>213855</td>\n",
       "      <td>2012-02-28T20:01:24.679+01:00</td>\n",
       "      <td>37500</td>\n",
       "      <td>W_Nabellen offertes</td>\n",
       "      <td>COMPLETE</td>\n",
       "      <td>14-03-2012 15:57:49.624</td>\n",
       "      <td>NaN</td>\n",
       "    </tr>\n",
       "    <tr>\n",
       "      <th>262194</th>\n",
       "      <td>53846004989989</td>\n",
       "      <td>212689</td>\n",
       "      <td>2012-02-25T11:24:12.200+01:00</td>\n",
       "      <td>2000</td>\n",
       "      <td>W_Nabellen incomplete dossiers</td>\n",
       "      <td>COMPLETE</td>\n",
       "      <td>14-03-2012 15:58:57.002</td>\n",
       "      <td>NaN</td>\n",
       "    </tr>\n",
       "    <tr>\n",
       "      <th>262196</th>\n",
       "      <td>54666343743524</td>\n",
       "      <td>213276</td>\n",
       "      <td>2012-02-27T14:12:41.868+01:00</td>\n",
       "      <td>15000</td>\n",
       "      <td>W_Nabellen incomplete dossiers</td>\n",
       "      <td>COMPLETE</td>\n",
       "      <td>14-03-2012 16:00:09.680</td>\n",
       "      <td>NaN</td>\n",
       "    </tr>\n",
       "    <tr>\n",
       "      <th>262199</th>\n",
       "      <td>52342766436387</td>\n",
       "      <td>211624</td>\n",
       "      <td>2012-02-21T23:38:40.044+01:00</td>\n",
       "      <td>35000</td>\n",
       "      <td>W_Nabellen incomplete dossiers</td>\n",
       "      <td>COMPLETE</td>\n",
       "      <td>14-03-2012 16:04:54.681</td>\n",
       "      <td>NaN</td>\n",
       "    </tr>\n",
       "  </tbody>\n",
       "</table>\n",
       "<p>164506 rows × 8 columns</p>\n",
       "</div>"
      ],
      "text/plain": [
       "               eventID  case concept:name                  case REG_DATE  \\\n",
       "0                    0             173688  2011-10-01T00:38:44.546+02:00   \n",
       "1                    1             173688  2011-10-01T00:38:44.546+02:00   \n",
       "2                    2             173688  2011-10-01T00:38:44.546+02:00   \n",
       "4           4294967296             173691  2011-10-01T08:08:58.256+02:00   \n",
       "5           4294967297             173691  2011-10-01T08:08:58.256+02:00   \n",
       "...                ...                ...                            ...   \n",
       "262190  52342766436385             211624  2012-02-21T23:38:40.044+01:00   \n",
       "262192  55465207660584             213855  2012-02-28T20:01:24.679+01:00   \n",
       "262194  53846004989989             212689  2012-02-25T11:24:12.200+01:00   \n",
       "262196  54666343743524             213276  2012-02-27T14:12:41.868+01:00   \n",
       "262199  52342766436387             211624  2012-02-21T23:38:40.044+01:00   \n",
       "\n",
       "        case AMOUNT_REQ              event concept:name  \\\n",
       "0                 20000                     A_SUBMITTED   \n",
       "1                 20000               A_PARTLYSUBMITTED   \n",
       "2                 20000                   A_PREACCEPTED   \n",
       "4                  5000                     A_SUBMITTED   \n",
       "5                  5000               A_PARTLYSUBMITTED   \n",
       "...                 ...                             ...   \n",
       "262190            35000  W_Nabellen incomplete dossiers   \n",
       "262192            37500             W_Nabellen offertes   \n",
       "262194             2000  W_Nabellen incomplete dossiers   \n",
       "262196            15000  W_Nabellen incomplete dossiers   \n",
       "262199            35000  W_Nabellen incomplete dossiers   \n",
       "\n",
       "       event lifecycle:transition     event time:timestamp  \\\n",
       "0                        COMPLETE  01-10-2011 00:38:44.546   \n",
       "1                        COMPLETE  01-10-2011 00:38:44.880   \n",
       "2                        COMPLETE  01-10-2011 00:39:37.906   \n",
       "4                        COMPLETE  01-10-2011 08:08:58.256   \n",
       "5                        COMPLETE  01-10-2011 08:09:02.195   \n",
       "...                           ...                      ...   \n",
       "262190                   COMPLETE  14-03-2012 15:56:07.999   \n",
       "262192                   COMPLETE  14-03-2012 15:57:49.624   \n",
       "262194                   COMPLETE  14-03-2012 15:58:57.002   \n",
       "262196                   COMPLETE  14-03-2012 16:00:09.680   \n",
       "262199                   COMPLETE  14-03-2012 16:04:54.681   \n",
       "\n",
       "                            next event  \n",
       "0                    A_PARTLYSUBMITTED  \n",
       "1                        A_PREACCEPTED  \n",
       "2                           A_ACCEPTED  \n",
       "4                    A_PARTLYSUBMITTED  \n",
       "5                        A_PREACCEPTED  \n",
       "...                                ...  \n",
       "262190  W_Nabellen incomplete dossiers  \n",
       "262192                             NaN  \n",
       "262194                             NaN  \n",
       "262196                             NaN  \n",
       "262199                             NaN  \n",
       "\n",
       "[164506 rows x 8 columns]"
      ]
     },
     "execution_count": 324,
     "metadata": {},
     "output_type": "execute_result"
    }
   ],
   "source": [
    "first_clean"
   ]
  },
  {
   "cell_type": "code",
   "execution_count": 325,
   "id": "88922740",
   "metadata": {},
   "outputs": [],
   "source": [
    "# Xs for the decision tree\n",
    "# event timestamp, but only the time of day -> transformed to time of day from column. make sure its numerical object, or encoded\n",
    "# event concept name, encode needed *onehot*\n",
    "# amount_req, check if its a numerical value\n"
   ]
  },
  {
   "cell_type": "code",
   "execution_count": 326,
   "id": "7cfb3011",
   "metadata": {},
   "outputs": [],
   "source": [
    "# pd.to_datetime(first_clean[tmstmp][:100], format=\"%H:%M:%S\")"
   ]
  },
  {
   "cell_type": "code",
   "execution_count": 327,
   "id": "3d2f3b91",
   "metadata": {},
   "outputs": [],
   "source": [
    "# test = first_clean[[tmstmp]][:100]\n",
    "# # x = test[0].split()[1]"
   ]
  },
  {
   "cell_type": "code",
   "execution_count": 328,
   "id": "fc5067a0",
   "metadata": {},
   "outputs": [],
   "source": [
    "# test[['time_str']] = test.str.split(expand=True)[1]"
   ]
  },
  {
   "cell_type": "code",
   "execution_count": 329,
   "id": "ea99bc69",
   "metadata": {},
   "outputs": [],
   "source": [
    "# extract time of day\n",
    "first_clean['time of day'] = first_clean[tmstmp].str.split(expand=True)[1]"
   ]
  },
  {
   "cell_type": "code",
   "execution_count": 330,
   "id": "f3496d81",
   "metadata": {},
   "outputs": [],
   "source": [
    "from sklearn.preprocessing import OneHotEncoder\n",
    "from sklearn.preprocessing import OrdinalEncoder\n",
    "from sklearn.preprocessing import LabelEncoder\n",
    "\n",
    "event_encoder = LabelEncoder()\n",
    "time_of_day_encoder = OrdinalEncoder()"
   ]
  },
  {
   "cell_type": "code",
   "execution_count": 331,
   "id": "169615f3",
   "metadata": {},
   "outputs": [],
   "source": [
    "labels = first_clean[event_name].unique()\n",
    "event_encoder.fit(labels)\n",
    "first_clean[\"time of day\"] = time_of_day_encoder.fit_transform(first_clean[[\"time of day\"]])"
   ]
  },
  {
   "cell_type": "code",
   "execution_count": 332,
   "id": "cc93dd98",
   "metadata": {},
   "outputs": [],
   "source": [
    "# event_encoder.classes_"
   ]
  },
  {
   "cell_type": "code",
   "execution_count": 333,
   "id": "dcdd628a",
   "metadata": {},
   "outputs": [],
   "source": [
    "# first_clean[event_name].unique()"
   ]
  },
  {
   "cell_type": "code",
   "execution_count": 334,
   "id": "9b1105f1",
   "metadata": {},
   "outputs": [],
   "source": [
    "first_clean[[event_name, nxt_event]] = first_clean[[event_name, nxt_event]].apply(event_encoder.fit_transform)"
   ]
  },
  {
   "cell_type": "code",
   "execution_count": 335,
   "id": "8b1f9b9b",
   "metadata": {},
   "outputs": [
    {
     "data": {
      "text/html": [
       "<div>\n",
       "<style scoped>\n",
       "    .dataframe tbody tr th:only-of-type {\n",
       "        vertical-align: middle;\n",
       "    }\n",
       "\n",
       "    .dataframe tbody tr th {\n",
       "        vertical-align: top;\n",
       "    }\n",
       "\n",
       "    .dataframe thead th {\n",
       "        text-align: right;\n",
       "    }\n",
       "</style>\n",
       "<table border=\"1\" class=\"dataframe\">\n",
       "  <thead>\n",
       "    <tr style=\"text-align: right;\">\n",
       "      <th></th>\n",
       "      <th>eventID</th>\n",
       "      <th>case concept:name</th>\n",
       "      <th>case REG_DATE</th>\n",
       "      <th>case AMOUNT_REQ</th>\n",
       "      <th>event concept:name</th>\n",
       "      <th>event lifecycle:transition</th>\n",
       "      <th>event time:timestamp</th>\n",
       "      <th>next event</th>\n",
       "      <th>time of day</th>\n",
       "    </tr>\n",
       "  </thead>\n",
       "  <tbody>\n",
       "    <tr>\n",
       "      <th>0</th>\n",
       "      <td>0</td>\n",
       "      <td>173688</td>\n",
       "      <td>2011-10-01T00:38:44.546+02:00</td>\n",
       "      <td>20000</td>\n",
       "      <td>9</td>\n",
       "      <td>COMPLETE</td>\n",
       "      <td>01-10-2011 00:38:44.546</td>\n",
       "      <td>6</td>\n",
       "      <td>332.0</td>\n",
       "    </tr>\n",
       "    <tr>\n",
       "      <th>1</th>\n",
       "      <td>1</td>\n",
       "      <td>173688</td>\n",
       "      <td>2011-10-01T00:38:44.546+02:00</td>\n",
       "      <td>20000</td>\n",
       "      <td>6</td>\n",
       "      <td>COMPLETE</td>\n",
       "      <td>01-10-2011 00:38:44.880</td>\n",
       "      <td>7</td>\n",
       "      <td>333.0</td>\n",
       "    </tr>\n",
       "    <tr>\n",
       "      <th>2</th>\n",
       "      <td>2</td>\n",
       "      <td>173688</td>\n",
       "      <td>2011-10-01T00:38:44.546+02:00</td>\n",
       "      <td>20000</td>\n",
       "      <td>7</td>\n",
       "      <td>COMPLETE</td>\n",
       "      <td>01-10-2011 00:39:37.906</td>\n",
       "      <td>0</td>\n",
       "      <td>337.0</td>\n",
       "    </tr>\n",
       "    <tr>\n",
       "      <th>4</th>\n",
       "      <td>4294967296</td>\n",
       "      <td>173691</td>\n",
       "      <td>2011-10-01T08:08:58.256+02:00</td>\n",
       "      <td>5000</td>\n",
       "      <td>9</td>\n",
       "      <td>COMPLETE</td>\n",
       "      <td>01-10-2011 08:08:58.256</td>\n",
       "      <td>6</td>\n",
       "      <td>2149.0</td>\n",
       "    </tr>\n",
       "    <tr>\n",
       "      <th>5</th>\n",
       "      <td>4294967297</td>\n",
       "      <td>173691</td>\n",
       "      <td>2011-10-01T08:08:58.256+02:00</td>\n",
       "      <td>5000</td>\n",
       "      <td>6</td>\n",
       "      <td>COMPLETE</td>\n",
       "      <td>01-10-2011 08:09:02.195</td>\n",
       "      <td>7</td>\n",
       "      <td>2150.0</td>\n",
       "    </tr>\n",
       "    <tr>\n",
       "      <th>6</th>\n",
       "      <td>4294967298</td>\n",
       "      <td>173691</td>\n",
       "      <td>2011-10-01T08:08:58.256+02:00</td>\n",
       "      <td>5000</td>\n",
       "      <td>7</td>\n",
       "      <td>COMPLETE</td>\n",
       "      <td>01-10-2011 08:09:56.648</td>\n",
       "      <td>18</td>\n",
       "      <td>2158.0</td>\n",
       "    </tr>\n",
       "    <tr>\n",
       "      <th>8</th>\n",
       "      <td>8589934592</td>\n",
       "      <td>173694</td>\n",
       "      <td>2011-10-01T08:10:30.287+02:00</td>\n",
       "      <td>7000</td>\n",
       "      <td>9</td>\n",
       "      <td>COMPLETE</td>\n",
       "      <td>01-10-2011 08:10:30.287</td>\n",
       "      <td>6</td>\n",
       "      <td>2169.0</td>\n",
       "    </tr>\n",
       "    <tr>\n",
       "      <th>9</th>\n",
       "      <td>8589934593</td>\n",
       "      <td>173694</td>\n",
       "      <td>2011-10-01T08:10:30.287+02:00</td>\n",
       "      <td>7000</td>\n",
       "      <td>6</td>\n",
       "      <td>COMPLETE</td>\n",
       "      <td>01-10-2011 08:10:30.591</td>\n",
       "      <td>7</td>\n",
       "      <td>2170.0</td>\n",
       "    </tr>\n",
       "    <tr>\n",
       "      <th>10</th>\n",
       "      <td>12884901888</td>\n",
       "      <td>173697</td>\n",
       "      <td>2011-10-01T08:11:08.865+02:00</td>\n",
       "      <td>15000</td>\n",
       "      <td>9</td>\n",
       "      <td>COMPLETE</td>\n",
       "      <td>01-10-2011 08:11:08.866</td>\n",
       "      <td>6</td>\n",
       "      <td>2188.0</td>\n",
       "    </tr>\n",
       "    <tr>\n",
       "      <th>11</th>\n",
       "      <td>12884901889</td>\n",
       "      <td>173697</td>\n",
       "      <td>2011-10-01T08:11:08.865+02:00</td>\n",
       "      <td>15000</td>\n",
       "      <td>6</td>\n",
       "      <td>COMPLETE</td>\n",
       "      <td>01-10-2011 08:11:09.035</td>\n",
       "      <td>4</td>\n",
       "      <td>2189.0</td>\n",
       "    </tr>\n",
       "  </tbody>\n",
       "</table>\n",
       "</div>"
      ],
      "text/plain": [
       "        eventID  case concept:name                  case REG_DATE  \\\n",
       "0             0             173688  2011-10-01T00:38:44.546+02:00   \n",
       "1             1             173688  2011-10-01T00:38:44.546+02:00   \n",
       "2             2             173688  2011-10-01T00:38:44.546+02:00   \n",
       "4    4294967296             173691  2011-10-01T08:08:58.256+02:00   \n",
       "5    4294967297             173691  2011-10-01T08:08:58.256+02:00   \n",
       "6    4294967298             173691  2011-10-01T08:08:58.256+02:00   \n",
       "8    8589934592             173694  2011-10-01T08:10:30.287+02:00   \n",
       "9    8589934593             173694  2011-10-01T08:10:30.287+02:00   \n",
       "10  12884901888             173697  2011-10-01T08:11:08.865+02:00   \n",
       "11  12884901889             173697  2011-10-01T08:11:08.865+02:00   \n",
       "\n",
       "    case AMOUNT_REQ  event concept:name event lifecycle:transition  \\\n",
       "0             20000                   9                   COMPLETE   \n",
       "1             20000                   6                   COMPLETE   \n",
       "2             20000                   7                   COMPLETE   \n",
       "4              5000                   9                   COMPLETE   \n",
       "5              5000                   6                   COMPLETE   \n",
       "6              5000                   7                   COMPLETE   \n",
       "8              7000                   9                   COMPLETE   \n",
       "9              7000                   6                   COMPLETE   \n",
       "10            15000                   9                   COMPLETE   \n",
       "11            15000                   6                   COMPLETE   \n",
       "\n",
       "       event time:timestamp  next event  time of day  \n",
       "0   01-10-2011 00:38:44.546           6        332.0  \n",
       "1   01-10-2011 00:38:44.880           7        333.0  \n",
       "2   01-10-2011 00:39:37.906           0        337.0  \n",
       "4   01-10-2011 08:08:58.256           6       2149.0  \n",
       "5   01-10-2011 08:09:02.195           7       2150.0  \n",
       "6   01-10-2011 08:09:56.648          18       2158.0  \n",
       "8   01-10-2011 08:10:30.287           6       2169.0  \n",
       "9   01-10-2011 08:10:30.591           7       2170.0  \n",
       "10  01-10-2011 08:11:08.866           6       2188.0  \n",
       "11  01-10-2011 08:11:09.035           4       2189.0  "
      ]
     },
     "execution_count": 335,
     "metadata": {},
     "output_type": "execute_result"
    }
   ],
   "source": [
    "first_clean.head(10)"
   ]
  },
  {
   "cell_type": "code",
   "execution_count": 336,
   "id": "f2a8e2cf",
   "metadata": {},
   "outputs": [],
   "source": [
    "# prep the tree data\n",
    "tree_data = first_clean.drop([\"eventID\", cases, reg_date, lifecycle, tmstmp], axis=1)"
   ]
  },
  {
   "cell_type": "code",
   "execution_count": 337,
   "id": "5be08109",
   "metadata": {},
   "outputs": [
    {
     "data": {
      "text/html": [
       "<div>\n",
       "<style scoped>\n",
       "    .dataframe tbody tr th:only-of-type {\n",
       "        vertical-align: middle;\n",
       "    }\n",
       "\n",
       "    .dataframe tbody tr th {\n",
       "        vertical-align: top;\n",
       "    }\n",
       "\n",
       "    .dataframe thead th {\n",
       "        text-align: right;\n",
       "    }\n",
       "</style>\n",
       "<table border=\"1\" class=\"dataframe\">\n",
       "  <thead>\n",
       "    <tr style=\"text-align: right;\">\n",
       "      <th></th>\n",
       "      <th>case AMOUNT_REQ</th>\n",
       "      <th>event concept:name</th>\n",
       "      <th>next event</th>\n",
       "      <th>time of day</th>\n",
       "    </tr>\n",
       "  </thead>\n",
       "  <tbody>\n",
       "    <tr>\n",
       "      <th>0</th>\n",
       "      <td>20000</td>\n",
       "      <td>9</td>\n",
       "      <td>6</td>\n",
       "      <td>332.0</td>\n",
       "    </tr>\n",
       "    <tr>\n",
       "      <th>1</th>\n",
       "      <td>20000</td>\n",
       "      <td>6</td>\n",
       "      <td>7</td>\n",
       "      <td>333.0</td>\n",
       "    </tr>\n",
       "    <tr>\n",
       "      <th>2</th>\n",
       "      <td>20000</td>\n",
       "      <td>7</td>\n",
       "      <td>0</td>\n",
       "      <td>337.0</td>\n",
       "    </tr>\n",
       "    <tr>\n",
       "      <th>4</th>\n",
       "      <td>5000</td>\n",
       "      <td>9</td>\n",
       "      <td>6</td>\n",
       "      <td>2149.0</td>\n",
       "    </tr>\n",
       "    <tr>\n",
       "      <th>5</th>\n",
       "      <td>5000</td>\n",
       "      <td>6</td>\n",
       "      <td>7</td>\n",
       "      <td>2150.0</td>\n",
       "    </tr>\n",
       "    <tr>\n",
       "      <th>...</th>\n",
       "      <td>...</td>\n",
       "      <td>...</td>\n",
       "      <td>...</td>\n",
       "      <td>...</td>\n",
       "    </tr>\n",
       "    <tr>\n",
       "      <th>262190</th>\n",
       "      <td>35000</td>\n",
       "      <td>20</td>\n",
       "      <td>19</td>\n",
       "      <td>92594.0</td>\n",
       "    </tr>\n",
       "    <tr>\n",
       "      <th>262192</th>\n",
       "      <td>37500</td>\n",
       "      <td>21</td>\n",
       "      <td>22</td>\n",
       "      <td>92955.0</td>\n",
       "    </tr>\n",
       "    <tr>\n",
       "      <th>262194</th>\n",
       "      <td>2000</td>\n",
       "      <td>20</td>\n",
       "      <td>22</td>\n",
       "      <td>93188.0</td>\n",
       "    </tr>\n",
       "    <tr>\n",
       "      <th>262196</th>\n",
       "      <td>15000</td>\n",
       "      <td>20</td>\n",
       "      <td>22</td>\n",
       "      <td>93475.0</td>\n",
       "    </tr>\n",
       "    <tr>\n",
       "      <th>262199</th>\n",
       "      <td>35000</td>\n",
       "      <td>20</td>\n",
       "      <td>22</td>\n",
       "      <td>94444.0</td>\n",
       "    </tr>\n",
       "  </tbody>\n",
       "</table>\n",
       "<p>164506 rows × 4 columns</p>\n",
       "</div>"
      ],
      "text/plain": [
       "        case AMOUNT_REQ  event concept:name  next event  time of day\n",
       "0                 20000                   9           6        332.0\n",
       "1                 20000                   6           7        333.0\n",
       "2                 20000                   7           0        337.0\n",
       "4                  5000                   9           6       2149.0\n",
       "5                  5000                   6           7       2150.0\n",
       "...                 ...                 ...         ...          ...\n",
       "262190            35000                  20          19      92594.0\n",
       "262192            37500                  21          22      92955.0\n",
       "262194             2000                  20          22      93188.0\n",
       "262196            15000                  20          22      93475.0\n",
       "262199            35000                  20          22      94444.0\n",
       "\n",
       "[164506 rows x 4 columns]"
      ]
     },
     "execution_count": 337,
     "metadata": {},
     "output_type": "execute_result"
    }
   ],
   "source": [
    "tree_data"
   ]
  },
  {
   "cell_type": "code",
   "execution_count": 338,
   "id": "7d6e7d67",
   "metadata": {},
   "outputs": [],
   "source": [
    "X_train, X_test, y_train, y_test = train_test_split(tree_data[[amount_req, event_name, \"time of day\"]], tree_data[[nxt_event]], test_size=0.2, random_state=42, shuffle=False)"
   ]
  },
  {
   "cell_type": "code",
   "execution_count": 339,
   "id": "a0a98dae",
   "metadata": {},
   "outputs": [
    {
     "data": {
      "text/html": [
       "<div>\n",
       "<style scoped>\n",
       "    .dataframe tbody tr th:only-of-type {\n",
       "        vertical-align: middle;\n",
       "    }\n",
       "\n",
       "    .dataframe tbody tr th {\n",
       "        vertical-align: top;\n",
       "    }\n",
       "\n",
       "    .dataframe thead th {\n",
       "        text-align: right;\n",
       "    }\n",
       "</style>\n",
       "<table border=\"1\" class=\"dataframe\">\n",
       "  <thead>\n",
       "    <tr style=\"text-align: right;\">\n",
       "      <th></th>\n",
       "      <th>next event</th>\n",
       "    </tr>\n",
       "  </thead>\n",
       "  <tbody>\n",
       "    <tr>\n",
       "      <th>0</th>\n",
       "      <td>6</td>\n",
       "    </tr>\n",
       "    <tr>\n",
       "      <th>1</th>\n",
       "      <td>7</td>\n",
       "    </tr>\n",
       "    <tr>\n",
       "      <th>2</th>\n",
       "      <td>0</td>\n",
       "    </tr>\n",
       "    <tr>\n",
       "      <th>4</th>\n",
       "      <td>6</td>\n",
       "    </tr>\n",
       "    <tr>\n",
       "      <th>5</th>\n",
       "      <td>7</td>\n",
       "    </tr>\n",
       "    <tr>\n",
       "      <th>...</th>\n",
       "      <td>...</td>\n",
       "    </tr>\n",
       "    <tr>\n",
       "      <th>209767</th>\n",
       "      <td>14</td>\n",
       "    </tr>\n",
       "    <tr>\n",
       "      <th>209768</th>\n",
       "      <td>20</td>\n",
       "    </tr>\n",
       "    <tr>\n",
       "      <th>209770</th>\n",
       "      <td>20</td>\n",
       "    </tr>\n",
       "    <tr>\n",
       "      <th>209772</th>\n",
       "      <td>20</td>\n",
       "    </tr>\n",
       "    <tr>\n",
       "      <th>209774</th>\n",
       "      <td>3</td>\n",
       "    </tr>\n",
       "  </tbody>\n",
       "</table>\n",
       "<p>131604 rows × 1 columns</p>\n",
       "</div>"
      ],
      "text/plain": [
       "        next event\n",
       "0                6\n",
       "1                7\n",
       "2                0\n",
       "4                6\n",
       "5                7\n",
       "...            ...\n",
       "209767          14\n",
       "209768          20\n",
       "209770          20\n",
       "209772          20\n",
       "209774           3\n",
       "\n",
       "[131604 rows x 1 columns]"
      ]
     },
     "execution_count": 339,
     "metadata": {},
     "output_type": "execute_result"
    }
   ],
   "source": [
    "y_train"
   ]
  },
  {
   "cell_type": "code",
   "execution_count": 340,
   "id": "6f36d28f",
   "metadata": {},
   "outputs": [],
   "source": [
    "from sklearn.tree import DecisionTreeClassifier\n",
    "\n",
    "tree_reg = DecisionTreeClassifier(random_state=42)\n",
    "tree_reg.fit(X_train, y_train);"
   ]
  },
  {
   "cell_type": "code",
   "execution_count": 341,
   "id": "ba19f162",
   "metadata": {},
   "outputs": [
    {
     "data": {
      "text/plain": [
       "0.0"
      ]
     },
     "execution_count": 341,
     "metadata": {},
     "output_type": "execute_result"
    }
   ],
   "source": [
    "# from sklearn.metrics import mean_absolute_error\n",
    "from sklearn.metrics import mean_squared_error\n",
    "\n",
    "# this is obviously false\n",
    "prediction_tree = tree_reg.predict(X_train)\n",
    "tree_mse = mean_squared_error(y_train, prediction_tree)\n",
    "tree_rmse = np.sqrt(tree_mse)\n",
    "tree_rmse"
   ]
  },
  {
   "cell_type": "code",
   "execution_count": 408,
   "id": "e2088967",
   "metadata": {},
   "outputs": [],
   "source": [
    "# from sklearn.model_selection import cross_val_score\n",
    "\n",
    "# scores = cross_val_score(tree_reg, X_train, y_train,\n",
    "#                          scoring=\"neg_mean_squared_error\", cv=10)\n",
    "# tree_rmse_scores = np.sqrt(-scores)"
   ]
  },
  {
   "cell_type": "code",
   "execution_count": 345,
   "id": "42ecbab1",
   "metadata": {},
   "outputs": [
    {
     "data": {
      "text/plain": [
       "(0.48433754006181107, 0.4824934654428302)"
      ]
     },
     "execution_count": 345,
     "metadata": {},
     "output_type": "execute_result"
    }
   ],
   "source": [
    "from sklearn.metrics import precision_score, recall_score\n",
    "\n",
    "precision_score(y_test, y_pred, average=\"weighted\"), recall_score(y_test, y_pred, average=\"weighted\")"
   ]
  },
  {
   "cell_type": "code",
   "execution_count": 346,
   "id": "1a77cb2f",
   "metadata": {},
   "outputs": [],
   "source": [
    "from sklearn.model_selection import TimeSeriesSplit\n",
    "\n",
    "tscv = TimeSeriesSplit()"
   ]
  },
  {
   "cell_type": "code",
   "execution_count": 347,
   "id": "6ee031ab",
   "metadata": {},
   "outputs": [],
   "source": [
    "from sklearn.model_selection import GridSearchCV\n",
    "\n",
    "params = {\"max_depth\" : list(range(2, 101))}\n",
    "grid_search_cv = GridSearchCV(DecisionTreeClassifier(random_state=42), params, cv=tscv)"
   ]
  },
  {
   "cell_type": "code",
   "execution_count": 348,
   "id": "eeb0e649",
   "metadata": {},
   "outputs": [],
   "source": [
    "final_model = grid_search_cv.fit(X_train, y_train).best_estimator_"
   ]
  },
  {
   "cell_type": "code",
   "execution_count": 355,
   "id": "b415f803",
   "metadata": {},
   "outputs": [
    {
     "name": "stdout",
     "output_type": "stream",
     "text": [
      "The best estimator is: DecisionTreeClassifier(max_depth=9, random_state=42)\n"
     ]
    }
   ],
   "source": [
    "print(f'The best estimator is: {final_model}')"
   ]
  },
  {
   "cell_type": "code",
   "execution_count": 349,
   "id": "2ddeca0a",
   "metadata": {},
   "outputs": [],
   "source": [
    "y_pred = final_model.predict(X_test)"
   ]
  },
  {
   "cell_type": "code",
   "execution_count": 356,
   "id": "e0b06ff7",
   "metadata": {},
   "outputs": [],
   "source": [
    "from sklearn.metrics import confusion_matrix\n",
    "\n",
    "conf_mx = confusion_matrix(y_test, y_pred)"
   ]
  },
  {
   "cell_type": "code",
   "execution_count": 382,
   "id": "8da5d86f",
   "metadata": {},
   "outputs": [
    {
     "data": {
      "image/png": "[encoded data removed]",
      "text/plain": [
       "<Figure size 792x792 with 1 Axes>"
      ]
     },
     "metadata": {
      "needs_background": "light"
     },
     "output_type": "display_data"
    }
   ],
   "source": [
    "plt.matshow(conf_mx, cmap=plt.cm.gray)\n",
    "plt.title(\"Confusion matrix of DecisionTree predictions\", weight='bold', size = '16')\n",
    "\n",
    "plt.show()"
   ]
  },
  {
   "cell_type": "code",
   "execution_count": 381,
   "id": "91922e1b",
   "metadata": {},
   "outputs": [
    {
     "name": "stderr",
     "output_type": "stream",
     "text": [
      "C:\\Users\\Jarl\\Anaconda3\\lib\\site-packages\\IPython\\core\\pylabtools.py:151: UserWarning: This figure includes Axes that are not compatible with tight_layout, so results might be incorrect.\n",
      "  fig.canvas.print_figure(bytes_io, **kw)\n"
     ]
    },
    {
     "data": {
      "image/png": "[encoded data removed]",
      "text/plain": [
       "<Figure size 792x792 with 1 Axes>"
      ]
     },
     "metadata": {
      "needs_background": "light"
     },
     "output_type": "display_data"
    }
   ],
   "source": [
    "# we fill the diagonal with zeros to plot the errors\n",
    "\n",
    "sums = conf_mx.sum(axis=1, keepdims=True)\n",
    "norm_conf_mx = conf_mx / sums\n",
    "\n",
    "np.fill_diagonal(norm_conf_mx, 0)\n",
    "plt.matshow(norm_conf_mx, cmap=plt.cm.gray)\n",
    "plt.title(\"Errors of the DecisionTree predictions\", weight=\"bold\", size=16)\n",
    "plt.show()"
   ]
  },
  {
   "cell_type": "code",
   "execution_count": 407,
   "id": "9365d676",
   "metadata": {},
   "outputs": [
    {
     "name": "stdout",
     "output_type": "stream",
     "text": [
      "The accuracy of the model is 0.588505258039025, using weighted average.\n",
      "The precision of the model is 0.5444393612446777, using weighted average.\n",
      "The recall of the model is 0.588505258039025, using weighted average.\n",
      "The f1-score of the model is 0.5545579196278956, using weighted average.\n"
     ]
    }
   ],
   "source": [
    "from sklearn.metrics import precision_score, recall_score, f1_score, accuracy_score\n",
    "\n",
    "prec_score = precision_score(y_test, y_pred, average=\"weighted\", zero_division=0)\n",
    "rec_score = recall_score(y_test, y_pred, average=\"weighted\", zero_division=0)\n",
    "F1_score = f1_score(y_test, y_pred, average=\"weighted\", zero_division=0)\n",
    "acc_score = accuracy_score(y_test, y_pred)\n",
    "\n",
    "print(f'The accuracy of the model is {acc_score}, using weighted average.')\n",
    "print(f'The precision of the model is {prec_score}, using weighted average.')\n",
    "print(f'The recall of the model is {rec_score}, using weighted average.')\n",
    "print(f'The f1-score of the model is {F1_score}, using weighted average.')"
   ]
  },
  {
   "cell_type": "code",
   "execution_count": 423,
   "id": "e5a77504",
   "metadata": {},
   "outputs": [],
   "source": [
    "df_result = X_test.copy()\n",
    "df_result['predicted_next_event'] = y_pred"
   ]
  },
  {
   "cell_type": "code",
   "execution_count": 425,
   "id": "b7acc915",
   "metadata": {},
   "outputs": [],
   "source": [
    "df_result['event concept:name'] = event_encoder.inverse_transform(df_result['event concept:name'])\n",
    "df_result['predicted_next_event'] = event_encoder.inverse_transform(df_result['predicted_next_event'])"
   ]
  },
  {
   "cell_type": "code",
   "execution_count": 426,
   "id": "8713cea6",
   "metadata": {},
   "outputs": [
    {
     "data": {
      "text/html": [
       "<div>\n",
       "<style scoped>\n",
       "    .dataframe tbody tr th:only-of-type {\n",
       "        vertical-align: middle;\n",
       "    }\n",
       "\n",
       "    .dataframe tbody tr th {\n",
       "        vertical-align: top;\n",
       "    }\n",
       "\n",
       "    .dataframe thead th {\n",
       "        text-align: right;\n",
       "    }\n",
       "</style>\n",
       "<table border=\"1\" class=\"dataframe\">\n",
       "  <thead>\n",
       "    <tr style=\"text-align: right;\">\n",
       "      <th></th>\n",
       "      <th>case AMOUNT_REQ</th>\n",
       "      <th>event concept:name</th>\n",
       "      <th>time of day</th>\n",
       "      <th>predicted_next_event</th>\n",
       "    </tr>\n",
       "  </thead>\n",
       "  <tbody>\n",
       "    <tr>\n",
       "      <th>209775</th>\n",
       "      <td>13000</td>\n",
       "      <td>A_CANCELLED</td>\n",
       "      <td>143869.0</td>\n",
       "      <td>O_CANCELLED</td>\n",
       "    </tr>\n",
       "    <tr>\n",
       "      <th>209776</th>\n",
       "      <td>13000</td>\n",
       "      <td>O_CREATED</td>\n",
       "      <td>143869.0</td>\n",
       "      <td>O_SELECTED</td>\n",
       "    </tr>\n",
       "    <tr>\n",
       "      <th>209777</th>\n",
       "      <td>13000</td>\n",
       "      <td>W_Valideren aanvraag</td>\n",
       "      <td>143882.0</td>\n",
       "      <td>W_Nabellen offertes</td>\n",
       "    </tr>\n",
       "    <tr>\n",
       "      <th>209778</th>\n",
       "      <td>6000</td>\n",
       "      <td>W_Nabellen offertes</td>\n",
       "      <td>144220.0</td>\n",
       "      <td>W_Nabellen incomplete dossiers</td>\n",
       "    </tr>\n",
       "    <tr>\n",
       "      <th>209779</th>\n",
       "      <td>4400</td>\n",
       "      <td>W_Nabellen incomplete dossiers</td>\n",
       "      <td>1323.0</td>\n",
       "      <td>W_Completeren aanvraag</td>\n",
       "    </tr>\n",
       "  </tbody>\n",
       "</table>\n",
       "</div>"
      ],
      "text/plain": [
       "        case AMOUNT_REQ              event concept:name  time of day  \\\n",
       "209775            13000                     A_CANCELLED     143869.0   \n",
       "209776            13000                       O_CREATED     143869.0   \n",
       "209777            13000            W_Valideren aanvraag     143882.0   \n",
       "209778             6000             W_Nabellen offertes     144220.0   \n",
       "209779             4400  W_Nabellen incomplete dossiers       1323.0   \n",
       "\n",
       "                  predicted_next_event  \n",
       "209775                     O_CANCELLED  \n",
       "209776                      O_SELECTED  \n",
       "209777             W_Nabellen offertes  \n",
       "209778  W_Nabellen incomplete dossiers  \n",
       "209779          W_Completeren aanvraag  "
      ]
     },
     "execution_count": 426,
     "metadata": {},
     "output_type": "execute_result"
    }
   ],
   "source": [
    "df_result.head()"
   ]
  }
 ],
 "metadata": {
  "kernelspec": {
   "display_name": "Python 3 (ipykernel)",
   "language": "python",
   "name": "python3"
  },
  "language_info": {
   "codemirror_mode": {
    "name": "ipython",
    "version": 3
   },
   "file_extension": ".py",
   "mimetype": "text/x-python",
   "name": "python",
   "nbconvert_exporter": "python",
   "pygments_lexer": "ipython3",
   "version": "3.9.7"
  },
  "varInspector": {
   "cols": {
    "lenName": 16,
    "lenType": 16,
    "lenVar": 40
   },
   "kernels_config": {
    "python": {
     "delete_cmd_postfix": "",
     "delete_cmd_prefix": "del ",
     "library": "var_list.py",
     "varRefreshCmd": "print(var_dic_list())"
    },
    "r": {
     "delete_cmd_postfix": ") ",
     "delete_cmd_prefix": "rm(",
     "library": "var_list.r",
     "varRefreshCmd": "cat(var_dic_list()) "
    }
   },
   "types_to_exclude": [
    "module",
    "function",
    "builtin_function_or_method",
    "instance",
    "_Feature"
   ],
   "window_display": false
  }
 },
 "nbformat": 4,
 "nbformat_minor": 5
}
