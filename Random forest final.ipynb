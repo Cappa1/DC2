{
 "cells": [
  {
   "cell_type": "code",
   "execution_count": 12,
   "id": "2c9f6769",
   "metadata": {},
   "outputs": [],
   "source": [
    "import pandas as pd\n",
    "import numpy as np\n",
    "import matplotlib.pyplot as plt\n",
    "import seaborn as sns\n",
    "import os\n",
    "import time\n",
    "import datetime\n",
    "import psutil\n",
    "np.random.seed(42)\n",
    "from sklearn.preprocessing import LabelEncoder\n",
    "import random\n",
    "from sklearn.metrics import precision_score, recall_score, f1_score, accuracy_score\n",
    "from sklearn.model_selection import RandomizedSearchCV\n",
    "from sklearn.ensemble import RandomForestClassifier\n",
    "from sklearn.model_selection import train_test_split"
   ]
  },
  {
   "cell_type": "code",
   "execution_count": 13,
   "id": "992894d4",
   "metadata": {},
   "outputs": [],
   "source": [
    "train = pd.read_csv('BPI Challenge 2017-training.csv')\n",
    "test = pd.read_csv('BPI Challenge 2017-test.csv')\n",
    "data = pd.concat([train, test])"
   ]
  },
  {
   "cell_type": "code",
   "execution_count": 14,
   "id": "18c97a12",
   "metadata": {},
   "outputs": [],
   "source": [
    "data['next_event'] = data.groupby('case concept:name')['event concept:name'].shift(-1)\n",
    "data[['next_event']] = data[['next_event']].fillna('LAST EVENT')\n",
    "data[\"prev_event\"] = data.groupby('case concept:name')['event concept:name'].shift(1)\n",
    "data[['prev_event']] = data[['prev_event']].fillna('FIRST EVENT')\n",
    "data[\"prev_lifecycle\"] = data.groupby('case concept:name')['event lifecycle:transition'].shift(1)\n",
    "data[['prev_lifecycle']] = data[['prev_lifecycle']].fillna('FIRST EVENT')"
   ]
  },
  {
   "cell_type": "code",
   "execution_count": 16,
   "id": "9b112d64",
   "metadata": {},
   "outputs": [],
   "source": [
    "def evaluate(model, test_features, test_labels):\n",
    "    y_pred = model.predict(test_features)\n",
    "    prec_score = precision_score(test_labels, y_pred, average=\"weighted\", zero_division=0)\n",
    "    rec_score = recall_score(test_labels, y_pred, average=\"weighted\", zero_division=0)\n",
    "    F1_score = f1_score(test_labels, y_pred, average=\"weighted\", zero_division=0)\n",
    "    acc_score = accuracy_score(test_labels, y_pred)\n",
    "\n",
    "    print(f'The accuracy of the model is {acc_score}.')\n",
    "    print(f'The precision of the model is {prec_score}, using weighted average.')\n",
    "    print(f'The recall of the model is {rec_score}, using weighted average.')\n",
    "    print(f'The f1-score of the model is {F1_score}, using weighted average.')\n",
    "    \n",
    "    return acc_score"
   ]
  },
  {
   "cell_type": "code",
   "execution_count": 17,
   "id": "8ad7ea33",
   "metadata": {},
   "outputs": [],
   "source": [
    "def split(data, X, y, smpl_size):\n",
    "    X_train, X_test, y_train, y_test = train_test_split(X,y, test_size=smpl_size, random_state=42, shuffle=False)\n",
    "    y_train = y_train.to_frame()\n",
    "    y_test = y_test.to_frame()\n",
    "    return X_train, X_test, y_train, y_test"
   ]
  },
  {
   "cell_type": "code",
   "execution_count": 18,
   "id": "9f53bea2",
   "metadata": {},
   "outputs": [],
   "source": [
    "def encode(data,X_train, X_test, y_train, y_test):\n",
    "    event_encoder = LabelEncoder()\n",
    "    labels_name = data[\"prev_event\"].unique()\n",
    "    event_encoder.fit(labels_name)\n",
    "    X_train[[\"event concept:name\",\"prev_event\"]] = X_train[[\"event concept:name\", \"prev_event\"]].apply(event_encoder.transform)\n",
    "    X_test[[\"event concept:name\", \"prev_event\"]] = X_test[[\"event concept:name\", \"prev_event\"]].apply(event_encoder.transform)\n",
    "\n",
    "\n",
    "    labels_lifecycle = data[\"prev_lifecycle\"].unique()\n",
    "    event_encoder.fit(labels_lifecycle)\n",
    "    X_train[[\"event lifecycle:transition\", 'prev_lifecycle']] = X_train[[\"event lifecycle:transition\", 'prev_lifecycle']].apply(event_encoder.transform)\n",
    "    X_test[[\"event lifecycle:transition\", 'prev_lifecycle']] = X_test[[\"event lifecycle:transition\", 'prev_lifecycle']].apply(event_encoder.transform)\n",
    "\n",
    "    return X_train, X_test, y_train, y_test"
   ]
  },
  {
   "cell_type": "code",
   "execution_count": 19,
   "id": "1046f26e",
   "metadata": {},
   "outputs": [],
   "source": [
    "X = data[[\"event concept:name\", \"prev_event\", \"event lifecycle:transition\", 'prev_lifecycle']]\n",
    "y = data[\"next_event\"]"
   ]
  },
  {
   "cell_type": "code",
   "execution_count": 22,
   "id": "fda7ca8c",
   "metadata": {},
   "outputs": [],
   "source": [
    "X_train, X_test, y_train, y_test = split(data, X, y, 0.3)\n",
    "X_train, X_test, y_train, y_test = encode(data, X_train, X_test, y_train, y_test)"
   ]
  },
  {
   "cell_type": "code",
   "execution_count": 21,
   "id": "e7139123",
   "metadata": {},
   "outputs": [
    {
     "name": "stderr",
     "output_type": "stream",
     "text": [
      "/opt/anaconda3/lib/python3.7/site-packages/ipykernel_launcher.py:2: DataConversionWarning: A column-vector y was passed when a 1d array was expected. Please change the shape of y to (n_samples,), for example using ravel().\n",
      "  \n"
     ]
    },
    {
     "name": "stdout",
     "output_type": "stream",
     "text": [
      "The accuracy of the model is 0.861353938799105.\n",
      "The precision of the model is 0.8464720336601855, using weighted average.\n",
      "The recall of the model is 0.861353938799105, using weighted average.\n",
      "The f1-score of the model is 0.8455375185534018, using weighted average.\n"
     ]
    }
   ],
   "source": [
    "base_model = RandomForestClassifier(n_estimators=10, max_depth = 160, bootstrap = True, criterion = 'entropy', random_state=42)\n",
    "base_model.fit(X_train, y_train)\n",
    "base_accuracy = evaluate(base_model, X_test, y_test)"
   ]
  }
 ],
 "metadata": {
  "kernelspec": {
   "display_name": "Python 3 (ipykernel)",
   "language": "python",
   "name": "python3"
  },
  "language_info": {
   "codemirror_mode": {
    "name": "ipython",
    "version": 3
   },
   "file_extension": ".py",
   "mimetype": "text/x-python",
   "name": "python",
   "nbconvert_exporter": "python",
   "pygments_lexer": "ipython3",
   "version": "3.7.11"
  }
 },
 "nbformat": 4,
 "nbformat_minor": 5
}
