{
 "cells": [
  {
   "cell_type": "markdown",
   "metadata": {},
   "source": [
    "## Preprocessing"
   ]
  },
  {
   "cell_type": "markdown",
   "metadata": {},
   "source": [
    "### Imports"
   ]
  },
  {
   "cell_type": "markdown",
   "metadata": {},
   "source": [
    "Here we import the data, and do the basic initial transformations like creating the unix time column"
   ]
  },
  {
   "cell_type": "code",
   "execution_count": 2,
   "metadata": {},
   "outputs": [],
   "source": [
    "import numpy as np\n",
    "import pandas as pd\n",
    "\n",
    "np.random.seed(42)\n",
    "\n",
    "import time\n",
    "# import datetime\n",
    "pd.set_option('display.float_format', lambda x: '%.3f' % x)"
   ]
  },
  {
   "cell_type": "code",
   "execution_count": 3,
   "metadata": {},
   "outputs": [],
   "source": [
    "# helper functions\n",
    "\n",
    "def data_split(df):\n",
    "    \"\"\"returns 10% of the data\"\"\"\n",
    "    return df[: int((len(df)/10))]\n",
    "\n",
    "\n",
    "def UnixTime(df, col=\"timestamp\", newcol=\"Unix\"):\n",
    "    \"\"\"Adds a new column to the dataframe containing the UNIX time of the timestamp\"\"\"\n",
    "    cop = df.copy()\n",
    "    cop[col] = pd.to_datetime(cop[col], dayfirst=True)\n",
    "    unixTransform = lambda x: time.mktime(x.timetuple())\n",
    "    df[newcol] = cop[col].apply(unixTransform)"
   ]
  },
  {
   "cell_type": "code",
   "execution_count": 4,
   "metadata": {},
   "outputs": [],
   "source": [
    "path = r\"D:/University/Year 2/Q3/DBL/Data/\"\n",
    "train = pd.read_csv(f'{path}BPI Challenge 2017/BPI_Challenge_2017-training.csv')\n",
    "test = pd.read_csv(f'{path}BPI Challenge 2017/BPI_Challenge_2017-test.csv')\n",
    "\n",
    "\n",
    "data = pd.concat([train, test])"
   ]
  },
  {
   "cell_type": "markdown",
   "metadata": {},
   "source": [
    "The column and Unix time cell are slow, might need optimization"
   ]
  },
  {
   "cell_type": "code",
   "execution_count": 5,
   "metadata": {},
   "outputs": [],
   "source": [
    "# strip whitespace of column names and add extra time columns\n",
    "data.columns = data.columns.str.strip()\n",
    "data[\"timestamp\"] = data[\"event time:timestamp\"].copy()\n",
    "data[\"event time:timestamp\"] = pd.to_datetime(data[\"event time:timestamp\"], dayfirst=True)\n",
    "data['time of day'] = data[\"timestamp\"].str.split(expand=True)[1]"
   ]
  },
  {
   "cell_type": "code",
   "execution_count": 6,
   "metadata": {},
   "outputs": [],
   "source": [
    "data[\"weekday\"] = data[\"event time:timestamp\"].dt.day_name()"
   ]
  },
  {
   "cell_type": "code",
   "execution_count": 7,
   "metadata": {},
   "outputs": [],
   "source": [
    "UnixTime(data)"
   ]
  },
  {
   "cell_type": "code",
   "execution_count": 8,
   "metadata": {},
   "outputs": [
    {
     "data": {
      "text/html": [
       "<div>\n",
       "<style scoped>\n",
       "    .dataframe tbody tr th:only-of-type {\n",
       "        vertical-align: middle;\n",
       "    }\n",
       "\n",
       "    .dataframe tbody tr th {\n",
       "        vertical-align: top;\n",
       "    }\n",
       "\n",
       "    .dataframe thead th {\n",
       "        text-align: right;\n",
       "    }\n",
       "</style>\n",
       "<table border=\"1\" class=\"dataframe\">\n",
       "  <thead>\n",
       "    <tr style=\"text-align: right;\">\n",
       "      <th></th>\n",
       "      <th>eventID</th>\n",
       "      <th>case LoanGoal</th>\n",
       "      <th>case ApplicationType</th>\n",
       "      <th>case concept:name</th>\n",
       "      <th>case RequestedAmount</th>\n",
       "      <th>event Action</th>\n",
       "      <th>event org:resource</th>\n",
       "      <th>event concept:name</th>\n",
       "      <th>event EventOrigin</th>\n",
       "      <th>event EventID</th>\n",
       "      <th>event lifecycle:transition</th>\n",
       "      <th>event time:timestamp</th>\n",
       "      <th>timestamp</th>\n",
       "      <th>time of day</th>\n",
       "      <th>weekday</th>\n",
       "      <th>Unix</th>\n",
       "    </tr>\n",
       "  </thead>\n",
       "  <tbody>\n",
       "    <tr>\n",
       "      <th>0</th>\n",
       "      <td>0</td>\n",
       "      <td>Existing loan takeover</td>\n",
       "      <td>New credit</td>\n",
       "      <td>Application_652823628</td>\n",
       "      <td>20000.000</td>\n",
       "      <td>Created</td>\n",
       "      <td>User_1</td>\n",
       "      <td>A_Create Application</td>\n",
       "      <td>Application</td>\n",
       "      <td>Application_652823628</td>\n",
       "      <td>complete</td>\n",
       "      <td>2016-01-01 10:51:15.304</td>\n",
       "      <td>01-01-2016 10:51:15.304</td>\n",
       "      <td>10:51:15.304</td>\n",
       "      <td>Friday</td>\n",
       "      <td>1451641875.000</td>\n",
       "    </tr>\n",
       "    <tr>\n",
       "      <th>1</th>\n",
       "      <td>1</td>\n",
       "      <td>Existing loan takeover</td>\n",
       "      <td>New credit</td>\n",
       "      <td>Application_652823628</td>\n",
       "      <td>20000.000</td>\n",
       "      <td>statechange</td>\n",
       "      <td>User_1</td>\n",
       "      <td>A_Submitted</td>\n",
       "      <td>Application</td>\n",
       "      <td>ApplState_1582051990</td>\n",
       "      <td>complete</td>\n",
       "      <td>2016-01-01 10:51:15.352</td>\n",
       "      <td>01-01-2016 10:51:15.352</td>\n",
       "      <td>10:51:15.352</td>\n",
       "      <td>Friday</td>\n",
       "      <td>1451641875.000</td>\n",
       "    </tr>\n",
       "    <tr>\n",
       "      <th>2</th>\n",
       "      <td>2</td>\n",
       "      <td>Existing loan takeover</td>\n",
       "      <td>New credit</td>\n",
       "      <td>Application_652823628</td>\n",
       "      <td>20000.000</td>\n",
       "      <td>Created</td>\n",
       "      <td>User_1</td>\n",
       "      <td>W_Handle leads</td>\n",
       "      <td>Workflow</td>\n",
       "      <td>Workitem_1298499574</td>\n",
       "      <td>schedule</td>\n",
       "      <td>2016-01-01 10:51:15.774</td>\n",
       "      <td>01-01-2016 10:51:15.774</td>\n",
       "      <td>10:51:15.774</td>\n",
       "      <td>Friday</td>\n",
       "      <td>1451641875.000</td>\n",
       "    </tr>\n",
       "    <tr>\n",
       "      <th>3</th>\n",
       "      <td>3</td>\n",
       "      <td>Existing loan takeover</td>\n",
       "      <td>New credit</td>\n",
       "      <td>Application_652823628</td>\n",
       "      <td>20000.000</td>\n",
       "      <td>Deleted</td>\n",
       "      <td>User_1</td>\n",
       "      <td>W_Handle leads</td>\n",
       "      <td>Workflow</td>\n",
       "      <td>Workitem_1673366067</td>\n",
       "      <td>withdraw</td>\n",
       "      <td>2016-01-01 10:52:36.392</td>\n",
       "      <td>01-01-2016 10:52:36.392</td>\n",
       "      <td>10:52:36.392</td>\n",
       "      <td>Friday</td>\n",
       "      <td>1451641956.000</td>\n",
       "    </tr>\n",
       "    <tr>\n",
       "      <th>4</th>\n",
       "      <td>4</td>\n",
       "      <td>Existing loan takeover</td>\n",
       "      <td>New credit</td>\n",
       "      <td>Application_652823628</td>\n",
       "      <td>20000.000</td>\n",
       "      <td>Created</td>\n",
       "      <td>User_1</td>\n",
       "      <td>W_Complete application</td>\n",
       "      <td>Workflow</td>\n",
       "      <td>Workitem_1493664571</td>\n",
       "      <td>schedule</td>\n",
       "      <td>2016-01-01 10:52:36.403</td>\n",
       "      <td>01-01-2016 10:52:36.403</td>\n",
       "      <td>10:52:36.403</td>\n",
       "      <td>Friday</td>\n",
       "      <td>1451641956.000</td>\n",
       "    </tr>\n",
       "  </tbody>\n",
       "</table>\n",
       "</div>"
      ],
      "text/plain": [
       "   eventID           case LoanGoal case ApplicationType  \\\n",
       "0        0  Existing loan takeover           New credit   \n",
       "1        1  Existing loan takeover           New credit   \n",
       "2        2  Existing loan takeover           New credit   \n",
       "3        3  Existing loan takeover           New credit   \n",
       "4        4  Existing loan takeover           New credit   \n",
       "\n",
       "       case concept:name  case RequestedAmount event Action  \\\n",
       "0  Application_652823628             20000.000      Created   \n",
       "1  Application_652823628             20000.000  statechange   \n",
       "2  Application_652823628             20000.000      Created   \n",
       "3  Application_652823628             20000.000      Deleted   \n",
       "4  Application_652823628             20000.000      Created   \n",
       "\n",
       "  event org:resource      event concept:name event EventOrigin  \\\n",
       "0             User_1    A_Create Application       Application   \n",
       "1             User_1             A_Submitted       Application   \n",
       "2             User_1          W_Handle leads          Workflow   \n",
       "3             User_1          W_Handle leads          Workflow   \n",
       "4             User_1  W_Complete application          Workflow   \n",
       "\n",
       "           event EventID event lifecycle:transition    event time:timestamp  \\\n",
       "0  Application_652823628                   complete 2016-01-01 10:51:15.304   \n",
       "1   ApplState_1582051990                   complete 2016-01-01 10:51:15.352   \n",
       "2    Workitem_1298499574                   schedule 2016-01-01 10:51:15.774   \n",
       "3    Workitem_1673366067                   withdraw 2016-01-01 10:52:36.392   \n",
       "4    Workitem_1493664571                   schedule 2016-01-01 10:52:36.403   \n",
       "\n",
       "                 timestamp   time of day weekday           Unix  \n",
       "0  01-01-2016 10:51:15.304  10:51:15.304  Friday 1451641875.000  \n",
       "1  01-01-2016 10:51:15.352  10:51:15.352  Friday 1451641875.000  \n",
       "2  01-01-2016 10:51:15.774  10:51:15.774  Friday 1451641875.000  \n",
       "3  01-01-2016 10:52:36.392  10:52:36.392  Friday 1451641956.000  \n",
       "4  01-01-2016 10:52:36.403  10:52:36.403  Friday 1451641956.000  "
      ]
     },
     "execution_count": 8,
     "metadata": {},
     "output_type": "execute_result"
    }
   ],
   "source": [
    "data.sort_values(by=['Unix'], inplace=True)\n",
    "data.head()"
   ]
  },
  {
   "cell_type": "code",
   "execution_count": 9,
   "metadata": {},
   "outputs": [],
   "source": [
    "# drop useless columns\n",
    "def dropper(df, lbls=[\"eventID\", \"event EventID\", \"timestamp\"]):\n",
    "    df.drop(labels=lbls, axis=1, inplace=True)\n",
    "\n",
    "dropper(data)"
   ]
  },
  {
   "cell_type": "code",
   "execution_count": 10,
   "metadata": {},
   "outputs": [],
   "source": [
    "data[\"Unix\"] = data[\"Unix\"].astype(int)"
   ]
  },
  {
   "cell_type": "markdown",
   "metadata": {},
   "source": [
    "### Event/time adder"
   ]
  },
  {
   "cell_type": "code",
   "execution_count": 12,
   "metadata": {},
   "outputs": [],
   "source": [
    "# event shifting\n",
    "data['next_event'] = data.groupby('case concept:name')['event concept:name'].shift(-1)\n",
    "data[\"prev_event\"] = data.groupby('case concept:name')['event concept:name'].shift(1)"
   ]
  },
  {
   "cell_type": "code",
   "execution_count": 13,
   "metadata": {},
   "outputs": [],
   "source": [
    "# time shifting\n",
    "data[\"nextUnix\"] = data.groupby('case concept:name')['Unix'].shift(-1)\n",
    "data[\"prevUnix\"] = data.groupby('case concept:name')['Unix'].shift(1)\n",
    "data[\"nextTime\"] = data.groupby('case concept:name')['event time:timestamp'].shift(-1)\n",
    "data[\"prevTime\"] = data.groupby('case concept:name')['event time:timestamp'].shift(1)"
   ]
  },
  {
   "cell_type": "code",
   "execution_count": 14,
   "metadata": {},
   "outputs": [
    {
     "data": {
      "text/plain": [
       "0.026207988741269617"
      ]
     },
     "execution_count": 14,
     "metadata": {},
     "output_type": "execute_result"
    }
   ],
   "source": [
    "len(data[data[\"prevTime\"].isna()])/len(data)"
   ]
  },
  {
   "cell_type": "code",
   "execution_count": 15,
   "metadata": {},
   "outputs": [
    {
     "data": {
      "text/plain": [
       "31509"
      ]
     },
     "execution_count": 15,
     "metadata": {},
     "output_type": "execute_result"
    }
   ],
   "source": [
    "len(data[data[\"prevTime\"].isna()])"
   ]
  },
  {
   "cell_type": "code",
   "execution_count": 16,
   "metadata": {},
   "outputs": [
    {
     "data": {
      "text/plain": [
       "1202267"
      ]
     },
     "execution_count": 16,
     "metadata": {},
     "output_type": "execute_result"
    }
   ],
   "source": [
    "len(data)"
   ]
  },
  {
   "cell_type": "code",
   "execution_count": 17,
   "metadata": {},
   "outputs": [],
   "source": [
    "import math\n",
    "\n",
    "# Adding time features\n",
    "data['day'] = data['event time:timestamp'].dt.day;\n",
    "data['month'] = data['event time:timestamp'].dt.month;\n",
    "data['hour'] = data['event time:timestamp'].dt.hour;\n",
    "data['day_of_week'] = data['event time:timestamp'].dt.weekday;\n",
    "\n",
    "# Cyclical encoding\n",
    "data[\"hour\"] = 2 * math.pi * data[\"hour\"] / data[\"hour\"].max()\n",
    "data[\"hour_cos\"] = np.cos(data[\"hour\"])\n",
    "data[\"hour_sin\"] = np.sin(data[\"hour\"])\n",
    "data[\"day_of_week\"] = 2 * math.pi * data[\"day_of_week\"] / data[\"day_of_week\"].max()\n",
    "data[\"day_of_week_cos\"] = np.cos(data[\"day_of_week\"])\n",
    "data[\"day_of_week_sin\"] = np.sin(data[\"day_of_week\"])"
   ]
  },
  {
   "cell_type": "code",
   "execution_count": 18,
   "metadata": {},
   "outputs": [
    {
     "data": {
      "text/plain": [
       "array([4.1887902 , 5.23598776, 6.28318531, 0.        , 1.04719755,\n",
       "       2.0943951 , 3.14159265])"
      ]
     },
     "execution_count": 18,
     "metadata": {},
     "output_type": "execute_result"
    }
   ],
   "source": [
    "data['day_of_week'].unique()"
   ]
  },
  {
   "cell_type": "code",
   "execution_count": 21,
   "metadata": {},
   "outputs": [],
   "source": [
    "data.to_pickle(f\"{path}Pickles/processed2017.pkl\")"
   ]
  },
  {
   "cell_type": "code",
   "execution_count": null,
   "metadata": {},
   "outputs": [],
   "source": []
  }
 ],
 "metadata": {
  "interpreter": {
   "hash": "47c473ffaad557a40d6f692199c8550b37e2966a5f36ac429a864ed95aaad2b0"
  },
  "kernelspec": {
   "display_name": "Python 3 (ipykernel)",
   "language": "python",
   "name": "python3"
  },
  "language_info": {
   "codemirror_mode": {
    "name": "ipython",
    "version": 3
   },
   "file_extension": ".py",
   "mimetype": "text/x-python",
   "name": "python",
   "nbconvert_exporter": "python",
   "pygments_lexer": "ipython3",
   "version": "3.9.7"
  },
  "varInspector": {
   "cols": {
    "lenName": 16,
    "lenType": 16,
    "lenVar": 40
   },
   "kernels_config": {
    "python": {
     "delete_cmd_postfix": "",
     "delete_cmd_prefix": "del ",
     "library": "var_list.py",
     "varRefreshCmd": "print(var_dic_list())"
    },
    "r": {
     "delete_cmd_postfix": ") ",
     "delete_cmd_prefix": "rm(",
     "library": "var_list.r",
     "varRefreshCmd": "cat(var_dic_list()) "
    }
   },
   "types_to_exclude": [
    "module",
    "function",
    "builtin_function_or_method",
    "instance",
    "_Feature"
   ],
   "window_display": false
  }
 },
 "nbformat": 4,
 "nbformat_minor": 2
}
