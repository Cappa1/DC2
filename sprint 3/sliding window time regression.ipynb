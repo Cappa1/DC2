{
 "cells": [
  {
   "cell_type": "code",
   "execution_count": 1,
   "metadata": {},
   "outputs": [],
   "source": [
    "import pandas as pd\n",
    "import matplotlib.pyplot as plt\n",
    "import seaborn as sns\n",
    "import numpy as np\n",
    "from sklearn.preprocessing import LabelEncoder\n",
    "from sklearn.model_selection import TimeSeriesSplit\n",
    "from sklearn.metrics import mean_squared_error\n",
    "from sklearn import linear_model\n",
    "import datetime\n",
    "\n",
    "np.set_printoptions(formatter={'float_kind':'{:f}'.format})\n",
    "\n",
    "plt.style.use('seaborn')"
   ]
  },
  {
   "cell_type": "code",
   "execution_count": 2,
   "metadata": {},
   "outputs": [],
   "source": [
    "# path = r\"/home/dazai/Documents/Processmining/Data/\"\n",
    "# df_train = pd.read_csv(f'{path}BPI_Challenge_2012-training.csv')\n",
    "# df_test = pd.read_csv(f'{path}BPI_Challenge_2012-test.csv')\n",
    "\n",
    "\n",
    "# df_data = pd.concat([df_train, df_test])\n",
    "# df_data['event time:timestamp'] = pd.to_datetime(df_data['event time:timestamp'], dayfirst=False)\n",
    "# df_data['case REG_DATE'] = pd.to_datetime(df_data['case REG_DATE'], dayfirst=True)\n",
    "\n",
    "# # df_data['event time:timestamp'] = df_data['event time:timestamp'].to_timestamp()\n",
    "# df_data.sort_values(by=['event time:timestamp'], inplace=True)\n",
    "# df_data.reset_index(inplace=True, drop=True)\n",
    "\n",
    "# # remove whitespace at beginning and end of column name\n",
    "# df_data.columns = df_data.columns.str.strip()\n",
    "\n",
    "# Everything above is put into a pickle\n",
    "df_data = pd.read_pickle('/home/dazai/Documents/Processmining/Data/pickle.pkl')\n"
   ]
  },
  {
   "cell_type": "code",
   "execution_count": 3,
   "metadata": {},
   "outputs": [],
   "source": [
    "\n",
    "def sliding_window(df_data, window_size, response_variable):\n",
    "    start = 0\n",
    "    X = []\n",
    "    Y = []\n",
    "\n",
    "    for i in range(len(df_data)):\n",
    "        if i >= window_size:\n",
    "            window = df_data.iloc[start:i+1]\n",
    "            temp = window.iloc[:window_size].to_numpy()\n",
    "            X.append([item for sublist in temp for item in sublist])\n",
    "            Y.append(window.iloc[-1][response_variable])\n",
    "            start +=1\n",
    "            \n",
    "    return np.array(X), np.array(Y)\n",
    "    \n",
    "# Remove timezone information\n",
    "def remove_timezone(dt):\n",
    "    return dt.replace(tzinfo=None)\n",
    " \n",
    "df_data['case REG_DATE'] = df_data['case REG_DATE'].apply(remove_timezone)"
   ]
  },
  {
   "cell_type": "markdown",
   "metadata": {},
   "source": [
    "# Time Regression"
   ]
  },
  {
   "cell_type": "code",
   "execution_count": 4,
   "metadata": {},
   "outputs": [],
   "source": [
    "from sklearn.preprocessing import MinMaxScaler\n",
    "scaler = MinMaxScaler()\n",
    "scaler.fit(df_data[['case AMOUNT_REQ']])\n",
    "df_data['case AMOUNT_REQ'] = scaler.transform(df_data[['case AMOUNT_REQ']])"
   ]
  },
  {
   "cell_type": "code",
   "execution_count": 5,
   "metadata": {},
   "outputs": [],
   "source": [
    "# Get unique activities and encode them\n",
    "Y = df_data['event concept:name'].unique()\n",
    "label_encoder = LabelEncoder()\n",
    "integer_encoded = label_encoder.fit_transform(Y)\n",
    "\n",
    "# Get dummy variables and encode lifecycle\n",
    "df_dummies_lifecycle = pd.get_dummies(df_data['event lifecycle:transition'], prefix='Lifecycle', drop_first=True)\n",
    "df_data = df_data.loc[:, df_data.columns != 'event lifecycle:transition'].copy().join(df_dummies_lifecycle)\n",
    "\n",
    "# Encode event concept name\n",
    "df_data['event concept:name'] = label_encoder.transform(df_data['event concept:name'])\n"
   ]
  },
  {
   "cell_type": "code",
   "execution_count": 6,
   "metadata": {},
   "outputs": [],
   "source": [
    "# Check if any time difference between case start and first event time is larger than 1 second\n",
    "for i in df_data['case concept:name'].unique():\n",
    "    start = df_data[df_data['case concept:name']==i].iloc[0]\n",
    "    if (start['event time:timestamp'] - start['case REG_DATE']) > datetime.timedelta(seconds=1):\n",
    "        display(start.to_frame())\n",
    "        \n",
    "        \n",
    "bad_traces = df_data[df_data['case REG_DATE'] > df_data['event time:timestamp']]['case concept:name'].unique()\n",
    "    \n",
    "df_data = df_data[~df_data['case concept:name'].isin(bad_traces)]\n",
    "    "
   ]
  },
  {
   "cell_type": "markdown",
   "metadata": {},
   "source": [
    "Example of a case containing events before the start of the trace"
   ]
  },
  {
   "cell_type": "code",
   "execution_count": 7,
   "metadata": {},
   "outputs": [],
   "source": [
    "# df_data[df_data['case REG_DATE'] > df_data['event time:timestamp']]['case concept:name']\n",
    "# df_data[df_data['case concept:name']==177531]"
   ]
  },
  {
   "cell_type": "code",
   "execution_count": 8,
   "metadata": {},
   "outputs": [],
   "source": [
    "# Calculate time difference between current and next row\n",
    "df_data['time_diff'] = df_data['event time:timestamp'].shift(-1);\n",
    "df_data['time_diff'] = df_data['time_diff'] - df_data['event time:timestamp'];\n",
    "df_data['time_diff'] = df_data['time_diff'].dt.total_seconds();\n",
    "df_data['time_diff'] = df_data['time_diff'].round();\n",
    "\n",
    "# Calculate time difference since case start\n",
    "df_data['case REG_DATE'] = df_data['case REG_DATE'].apply(remove_timezone);\n",
    "df_data['time_since_start'] = df_data['event time:timestamp'] - df_data['case REG_DATE'];\n",
    "df_data['time_since_start'] = df_data['time_since_start'].dt.days;\n",
    "df_data = df_data.iloc[:-1];\n",
    "\n",
    "# Adding time features\n",
    "df_data['day'] = df_data['event time:timestamp'].dt.day;\n",
    "df_data['month'] = df_data['event time:timestamp'].dt.month;\n",
    "df_data['hour'] = df_data['event time:timestamp'].dt.hour;"
   ]
  },
  {
   "cell_type": "markdown",
   "metadata": {},
   "source": [
    "Note: we can see that 98.3% of the events have their time between current and next event larger than 10 minutes in order to keep these stats we just assign 601 to everything. This happens in 23% of the traces."
   ]
  },
  {
   "cell_type": "code",
   "execution_count": 9,
   "metadata": {},
   "outputs": [
    {
     "name": "stdout",
     "output_type": "stream",
     "text": [
      "0.9830521561209127\n",
      "0.22706333973128598\n"
     ]
    }
   ],
   "source": [
    "print(len(df_data[df_data['time_diff']<600])/len(df_data))\n",
    "print(len(df_data[df_data['time_diff']>600]['case concept:name'].unique())/len(df_data['case concept:name'].unique()))\n",
    "df_data.loc[df_data['time_diff']>600, 'time_diff'] = 601\n"
   ]
  },
  {
   "cell_type": "code",
   "execution_count": 10,
   "metadata": {},
   "outputs": [],
   "source": [
    "scaler = MinMaxScaler()\n",
    "scaler.fit(df_data[['time_diff']])\n",
    "df_data['time_diff'] = scaler.transform(df_data[['time_diff']])\n",
    "\n",
    "df_data.drop(columns=['event time:timestamp', 'eventID', 'case concept:name', 'case REG_DATE'], inplace=True)\n"
   ]
  },
  {
   "cell_type": "code",
   "execution_count": 11,
   "metadata": {},
   "outputs": [],
   "source": [
    "X, Y = sliding_window(df_data, 3, 'time_diff')\n",
    "ts = TimeSeriesSplit(gap=0, max_train_size=None, n_splits=5, test_size=None)\n",
    "\n",
    "def cross_validate(X, Y):\n",
    "    for train_index, test_index in ts.split(X):\n",
    "        X_train, X_test = X[train_index], X[test_index]\n",
    "        y_train, y_test = Y[train_index], Y[test_index]\n",
    "        reg = linear_model.LinearRegression()\n",
    "        reg.fit(X_train, y_train)   \n",
    "\n",
    "        y_pred = reg.predict(X_test)\n",
    "        mse = mean_squared_error(y_test, y_pred)\n",
    "        print(scaler.inverse_transform(np.array(mse).reshape(1, -1)))"
   ]
  },
  {
   "cell_type": "markdown",
   "metadata": {},
   "source": [
    "Note: cross validation error measure is done on the capped time we did at the last note"
   ]
  },
  {
   "cell_type": "code",
   "execution_count": 12,
   "metadata": {},
   "outputs": [
    {
     "name": "stdout",
     "output_type": "stream",
     "text": [
      "[[17.541530]]\n",
      "[[13.008707]]\n",
      "[[13.256605]]\n",
      "[[11.605092]]\n",
      "[[19.596198]]\n"
     ]
    }
   ],
   "source": [
    "cross_validate(X, Y)"
   ]
  },
  {
   "cell_type": "code",
   "execution_count": 13,
   "metadata": {},
   "outputs": [],
   "source": [
    "# Cyclical encoding\n",
    "# df_data[\"x_norm\"] = 2 * math.pi * df_data[\"x\"] / df_data[\"x\"].max()\n",
    "\n",
    "# df_data[\"cos_x\"] = np.cos(df_data[\"x_norm\"])\n",
    "# df_data[\"sin_x\"] = np.sin(df_data[\"x_norm\"])"
   ]
  },
  {
   "cell_type": "markdown",
   "metadata": {},
   "source": [
    "# Event prediction"
   ]
  }
 ],
 "metadata": {
  "interpreter": {
   "hash": "916dbcbb3f70747c44a77c7bcd40155683ae19c65e1c03b4aa3499c5328201f1"
  },
  "kernelspec": {
   "display_name": "Python 3.8.10 64-bit",
   "language": "python",
   "name": "python3"
  },
  "language_info": {
   "codemirror_mode": {
    "name": "ipython",
    "version": 3
   },
   "file_extension": ".py",
   "mimetype": "text/x-python",
   "name": "python",
   "nbconvert_exporter": "python",
   "pygments_lexer": "ipython3",
   "version": "3.8.10"
  },
  "orig_nbformat": 4
 },
 "nbformat": 4,
 "nbformat_minor": 2
}
