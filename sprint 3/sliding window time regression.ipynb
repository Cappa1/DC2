{
 "cells": [
  {
   "cell_type": "code",
   "execution_count": 1,
   "metadata": {},
   "outputs": [],
   "source": [
    "import pandas as pd\n",
    "import matplotlib.pyplot as plt\n",
    "import seaborn as sns\n",
    "import numpy as np\n",
    "from sklearn.model_selection import TimeSeriesSplit\n",
    "from sklearn.metrics import mean_squared_error\n",
    "from sklearn import linear_model\n",
    "import datetime\n",
    "import math\n",
    "\n",
    "np.set_printoptions(formatter={'float_kind':'{:f}'.format})\n",
    "\n",
    "plt.style.use('seaborn')"
   ]
  },
  {
   "cell_type": "code",
   "execution_count": 2,
   "metadata": {},
   "outputs": [],
   "source": [
    "# path = r\"/home/dazai/Documents/Processmining/Data/\"\n",
    "# df_train = pd.read_csv(f'{path}BPI_Challenge_2012-training.csv')\n",
    "# df_test = pd.read_csv(f'{path}BPI_Challenge_2012-test.csv')\n",
    "\n",
    "\n",
    "# df_data = pd.concat([df_train, df_test])\n",
    "# df_data['event time:timestamp'] = pd.to_datetime(df_data['event time:timestamp'], dayfirst=False)\n",
    "# df_data['case REG_DATE'] = pd.to_datetime(df_data['case REG_DATE'], dayfirst=True)\n",
    "\n",
    "# # df_data['event time:timestamp'] = df_data['event time:timestamp'].to_timestamp()\n",
    "# df_data.sort_values(by=['event time:timestamp'], inplace=True)\n",
    "# df_data.reset_index(inplace=True, drop=True)\n",
    "\n",
    "# # remove whitespace at beginning and end of column name\n",
    "# df_data.columns = df_data.columns.str.strip()\n",
    "\n",
    "# Everything above is put into a pickle\n",
    "df_data = pd.read_pickle('/home/dazai/Documents/Processmining/Data/pickle.pkl')\n"
   ]
  },
  {
   "cell_type": "code",
   "execution_count": 3,
   "metadata": {},
   "outputs": [],
   "source": [
    "\n",
    "def sliding_window(df_data, window_size, response_variable): \n",
    "    \"\"\"Iterates over input data and creates batches \n",
    "    with variable lag based on response_variable\n",
    "\n",
    "    Args:\n",
    "        df_data (dataframe): input dataframe\n",
    "        window_size (int): amount of lags\n",
    "        response_variable (str): column we want to predict\n",
    "\n",
    "    Returns:\n",
    "        (X, Y) (tuple): tuple of arrays transformed using sliding window\n",
    "    \"\"\"\n",
    "    start = 0\n",
    "    X = []\n",
    "    Y = []\n",
    "\n",
    "    for i in range(len(df_data)):\n",
    "        if i >= window_size:\n",
    "            window = df_data.iloc[start:i+1]\n",
    "            temp = window.iloc[:window_size].to_numpy()\n",
    "            X.append([item for sublist in temp for item in sublist])\n",
    "            Y.append(window.iloc[-1][response_variable])\n",
    "            start +=1\n",
    "            \n",
    "    return np.array(X), np.array(Y)\n",
    "    \n",
    "# Remove timezone information\n",
    "def remove_timezone(dt):\n",
    "    return dt.replace(tzinfo=None)\n",
    " \n",
    "df_data['case REG_DATE'] = df_data['case REG_DATE'].apply(remove_timezone)"
   ]
  },
  {
   "cell_type": "markdown",
   "metadata": {},
   "source": [
    "## Encoding"
   ]
  },
  {
   "cell_type": "code",
   "execution_count": 4,
   "metadata": {},
   "outputs": [],
   "source": [
    "from sklearn.preprocessing import LabelEncoder\n",
    "from sklearn.preprocessing import MinMaxScaler\n",
    "\n",
    "scaler = MinMaxScaler()\n",
    "scaler.fit(df_data[['case AMOUNT_REQ']])\n",
    "df_data['case AMOUNT_REQ'] = scaler.transform(df_data[['case AMOUNT_REQ']])\n",
    "\n",
    "# Get unique activities and encode them\n",
    "Y = df_data['event concept:name'].unique()\n",
    "label_encoder = LabelEncoder()\n",
    "integer_encoded = label_encoder.fit_transform(Y)\n",
    "\n",
    "# Get dummy variables and encode lifecycle\n",
    "df_dummies_lifecycle = pd.get_dummies(df_data['event lifecycle:transition'], prefix='Lifecycle', drop_first=True)\n",
    "df_data = df_data.loc[:, df_data.columns != 'event lifecycle:transition'].copy().join(df_dummies_lifecycle)\n",
    "\n",
    "# Encode event concept name\n",
    "df_data['event concept:name'] = label_encoder.transform(df_data['event concept:name'])\n"
   ]
  },
  {
   "cell_type": "markdown",
   "metadata": {},
   "source": [
    "## Preprocessing"
   ]
  },
  {
   "cell_type": "markdown",
   "metadata": {},
   "source": [
    "Note: The following cell is not used for time regression as the error is much lower without filter"
   ]
  },
  {
   "cell_type": "code",
   "execution_count": 5,
   "metadata": {},
   "outputs": [],
   "source": [
    "def filter(df):\n",
    "    # Check if any time difference between case start and first event time is larger than 1 second\n",
    "    for i in df['case concept:name'].unique():\n",
    "        start = df[df['case concept:name']==i].iloc[0]\n",
    "        if (start['event time:timestamp'] - start['case REG_DATE']) > datetime.timedelta(seconds=1):\n",
    "            display(start.to_frame())\n",
    "            \n",
    "    bad_traces = df[df['case REG_DATE'] > df['event time:timestamp']]['case concept:name'].unique()\n",
    "    \n",
    "    return df[~df['case concept:name'].isin(bad_traces)]\n",
    "\n",
    "\n",
    "# Example of a trace with events starting before the starting time of the trace itself.\n",
    "# df_data[df_data['case REG_DATE'] > df_data['event time:timestamp']]['case concept:name']\n",
    "# df_data[df_data['case concept:name']==177531]\n",
    "    "
   ]
  },
  {
   "cell_type": "code",
   "execution_count": 6,
   "metadata": {},
   "outputs": [],
   "source": [
    "# Calculate time difference between current and next row\n",
    "df_data['time_diff'] = df_data['event time:timestamp'].shift(1);\n",
    "df_data['time_diff'] = df_data['event time:timestamp'] - df_data['time_diff']\n",
    "df_data['time_diff'] = df_data['time_diff'].dt.total_seconds();\n",
    "df_data['time_diff'] = df_data['time_diff'].round();\n",
    "df_data = df_data.iloc[1:];\n",
    "\n",
    "\n",
    "# Calculate time difference since case start\n",
    "df_data['case REG_DATE'] = df_data['case REG_DATE'].apply(remove_timezone);\n",
    "df_data['days_since_start'] = df_data['event time:timestamp'] - df_data['case REG_DATE'];\n",
    "df_data['days_since_start'] = df_data['days_since_start'].dt.days;\n",
    "df_data = df_data.iloc[:-1];\n",
    "\n",
    "# Adding time features\n",
    "df_data['day'] = df_data['event time:timestamp'].dt.day;\n",
    "df_data['month'] = df_data['event time:timestamp'].dt.month;\n",
    "df_data['hour'] = df_data['event time:timestamp'].dt.hour;\n",
    "df_data['day_of_week'] = df_data['event time:timestamp'].dt.weekday;\n"
   ]
  },
  {
   "cell_type": "markdown",
   "metadata": {},
   "source": [
    "Note: we can see that 99% of the events have their time between current and next event smaller than 10 minutes in order to keep these stats we just assign 601 to everything. This happens in 18% of the traces. Capping this before scaling the data greatly reduces the error on predictions"
   ]
  },
  {
   "cell_type": "code",
   "execution_count": 7,
   "metadata": {},
   "outputs": [
    {
     "name": "stdout",
     "output_type": "stream",
     "text": [
      "0.9904080122655398\n",
      "0.18132497898678077\n"
     ]
    }
   ],
   "source": [
    "print(len(df_data[df_data['time_diff']<600])/len(df_data))\n",
    "print(len(df_data[df_data['time_diff']>600]['case concept:name'].unique())/len(df_data['case concept:name'].unique()))\n",
    "df_data.loc[df_data['time_diff']>600, 'time_diff'] = 601\n"
   ]
  },
  {
   "cell_type": "markdown",
   "metadata": {},
   "source": [
    "## Evaluation\n",
    "Note: error measures are done on the capped time we did at the last note"
   ]
  },
  {
   "cell_type": "code",
   "execution_count": 8,
   "metadata": {},
   "outputs": [],
   "source": [
    "from sklearn.ensemble import RandomForestClassifier\n",
    "# from sklearn.ensemble import RandomForestRegressor\n",
    "from sklearn.metrics import accuracy_score\n",
    "\n",
    "\n",
    "def cross_validate(X, Y, estimator, tree_based):\n",
    "    \"\"\"Creates a timesseries split and calculates \n",
    "    cross validation error fitted on a given estimator\n",
    "\n",
    "    Args:\n",
    "        X (array): input array \n",
    "        Y (array): output array\n",
    "        estimator (sklearn_model): Tree based machine learning model\n",
    "\n",
    "    Returns:\n",
    "        accuracies (list): list of cross validation accuracies\n",
    "    \"\"\"\n",
    "    errors = []\n",
    "    ts = TimeSeriesSplit(gap=10, max_train_size=None, n_splits=5, test_size=None)\n",
    "    \n",
    "    for train_index, test_index in ts.split(X):\n",
    "        X_train, X_test = X[train_index], X[test_index]\n",
    "        y_train, y_test = Y[train_index], Y[test_index]\n",
    "        \n",
    "        clf = estimator\n",
    "        clf = clf.fit(X_train, y_train)\n",
    "        y_pred = clf.predict(X_test)\n",
    "        \n",
    "        # Tree based and linear regression have different evaluation metrics\n",
    "        if tree_based:\n",
    "            error = accuracy_score(y_test, y_pred)\n",
    "            errors.append(error)\n",
    "        else:\n",
    "            mse = mean_squared_error(y_test, y_pred)\n",
    "            errors.append(scaler.inverse_transform(np.array(mse).reshape(1, -1))[0][0])\n",
    "    return errors\n",
    "\n",
    "        "
   ]
  },
  {
   "cell_type": "markdown",
   "metadata": {},
   "source": [
    "## Tree based regression, Only run the cells under this header and restart if you want to use a different type of estimator"
   ]
  },
  {
   "cell_type": "code",
   "execution_count": 9,
   "metadata": {},
   "outputs": [
    {
     "name": "stdout",
     "output_type": "stream",
     "text": [
      "(1         (-0.601, 60.1]\n",
      "2         (-0.601, 60.1]\n",
      "3         (-0.601, 60.1]\n",
      "4         (540.9, 601.0]\n",
      "5         (-0.601, 60.1]\n",
      "               ...      \n",
      "262194    (-0.601, 60.1]\n",
      "262195    (120.2, 180.3]\n",
      "262196    (180.3, 240.4]\n",
      "262197    (120.2, 180.3]\n",
      "262198    (240.4, 300.5]\n",
      "Name: time_diff, Length: 262198, dtype: category\n",
      "Categories (10, interval[float64, right]): [(-0.601, 60.1] < (60.1, 120.2] < (120.2, 180.3] < (180.3, 240.4] ... (360.6, 420.7] < (420.7, 480.8] < (480.8, 540.9] < (540.9, 601.0]], array([-0.601000, 60.100000, 120.200000, 180.300000, 240.400000,\n",
      "       300.500000, 360.600000, 420.700000, 480.800000, 540.900000,\n",
      "       601.000000]))\n",
      "estimators:2 mean error:0.882450399322639\n",
      "estimators:3 mean error:0.8829721503924575\n",
      "estimators:4 mean error:0.8827661960227923\n",
      "estimators:5 mean error:0.8832650632737591\n",
      "estimators:6 mean error:0.8835900135014532\n",
      "estimators:7 mean error:0.8816082747888968\n"
     ]
    }
   ],
   "source": [
    "df_data.drop(columns=['event time:timestamp', 'eventID', 'case concept:name', 'case REG_DATE'], inplace=True)\n",
    "\n",
    "bins = 10\n",
    "\n",
    "label_encoder = LabelEncoder()\n",
    "# print confidence intervals and encode them\n",
    "print(pd.cut(df_data['time_diff'], bins=bins, retbins=True))\n",
    "df_data['time_diff'] = label_encoder.fit_transform(pd.cut(df_data['time_diff'], bins=bins, retbins=True)[0])\n",
    "\n",
    "\n",
    "X, Y = sliding_window(df_data, 3, 'time_diff')\n",
    "for i in range(2,10):\n",
    "    print(f'estimators:{i} mean error:{np.mean(cross_validate(X,Y, RandomForestClassifier(n_estimators=10), True))}')"
   ]
  },
  {
   "cell_type": "markdown",
   "metadata": {},
   "source": [
    "mean accuracy per amount of estimators <br><br>\n",
    "estimators:2 mean error:0.8830819927229456 <br>\n",
    "estimators:3 mean error:0.8833245612027735 <br>\n",
    "estimators:4 mean error:0.8821437561500263 <br>\n",
    "estimators:5 mean error:0.8826517769285338 <br>\n",
    "estimators:6 mean error:0.8829309595185244 <br>\n",
    "estimators:7 mean error:0.8822352914254331 <br>\n",
    "estimators:8 mean error:0.8826563536923041 <br>\n",
    "estimators:9 mean error:0.8829492665736058 <br>\n"
   ]
  },
  {
   "cell_type": "markdown",
   "metadata": {},
   "source": [
    "## Linear regression, Only run the cells under this header and restart if you want to use a different type of estimator"
   ]
  },
  {
   "cell_type": "code",
   "execution_count": null,
   "metadata": {},
   "outputs": [],
   "source": [
    "df_time = df_data.copy()\n",
    "\n",
    "# Cyclical encoding\n",
    "df_time[\"hour\"] = 2 * math.pi * df_time[\"hour\"] / df_time[\"hour\"].max()\n",
    "df_time[\"hour_cos\"] = np.cos(df_time[\"hour\"])\n",
    "df_time[\"hour_sin\"] = np.sin(df_time[\"hour\"])\n",
    "df_time.drop(columns='hour', inplace=True)\n",
    "\n",
    "df_time[\"day_of_week\"] = 2 * math.pi * df_time[\"day_of_week\"] / df_time[\"day_of_week\"].max()\n",
    "df_time[\"day_of_week_cos\"] = np.cos(df_time[\"day_of_week\"])\n",
    "df_time[\"day_of_week_sin\"] = np.sin(df_time[\"day_of_week\"])\n",
    "df_time.drop(columns='day_of_week', inplace=True)\n",
    "\n",
    "scaler = MinMaxScaler()\n",
    "scaler.fit(df_time[['time_diff']])\n",
    "df_time['time_diff'] = scaler.transform(df_time[['time_diff']])\n"
   ]
  },
  {
   "cell_type": "code",
   "execution_count": null,
   "metadata": {},
   "outputs": [],
   "source": [
    "df_time.drop(columns=['event time:timestamp', 'eventID', 'case concept:name', 'case REG_DATE'], inplace=True)\n",
    "\n",
    "X, Y = sliding_window(df_time, 3, 'time_diff')\n",
    "np.mean(cross_validate(X,Y, linear_model.LinearRegression(),False))"
   ]
  },
  {
   "cell_type": "markdown",
   "metadata": {},
   "source": [
    "# Event prediction\n",
    "The sliding window implementation is log based, for time prediction this seems to work well. However event prediction seem to be more reliant on information within traces."
   ]
  },
  {
   "cell_type": "code",
   "execution_count": null,
   "metadata": {},
   "outputs": [],
   "source": [
    "df_data.drop(columns=['day', 'month'])"
   ]
  },
  {
   "cell_type": "code",
   "execution_count": null,
   "metadata": {},
   "outputs": [],
   "source": [
    "from sklearn.metrics import accuracy_score\n",
    "from sklearn.ensemble import RandomForestClassifier\n",
    "\n",
    "from sklearn import tree\n",
    "\n",
    "def cross_validate(X, Y):\n",
    "    mses = []\n",
    "\n",
    "    for train_index, test_index in ts.split(X):\n",
    "        X_train, X_test = X[train_index], X[test_index]\n",
    "        y_train, y_test = Y[train_index], Y[test_index]\n",
    "        clf = RandomForestClassifier(n_estimators=10)\n",
    "        clf = clf.fit(X_train, y_train)\n",
    "\n",
    "        \n",
    "        y_pred = clf.predict(X_test)\n",
    "        accuracy = accuracy_score(y_test, y_pred)\n",
    "        mses.append(accuracy)\n",
    "    return mses"
   ]
  },
  {
   "cell_type": "code",
   "execution_count": null,
   "metadata": {},
   "outputs": [],
   "source": [
    "X, Y = sliding_window(df_data, 3, 'event concept:name')\n"
   ]
  },
  {
   "cell_type": "code",
   "execution_count": null,
   "metadata": {},
   "outputs": [],
   "source": [
    "np.mean(cross_validate(X, Y))\n"
   ]
  },
  {
   "cell_type": "code",
   "execution_count": null,
   "metadata": {},
   "outputs": [],
   "source": []
  }
 ],
 "metadata": {
  "interpreter": {
   "hash": "916dbcbb3f70747c44a77c7bcd40155683ae19c65e1c03b4aa3499c5328201f1"
  },
  "kernelspec": {
   "display_name": "Python 3.8.10 64-bit",
   "language": "python",
   "name": "python3"
  },
  "language_info": {
   "codemirror_mode": {
    "name": "ipython",
    "version": 3
   },
   "file_extension": ".py",
   "mimetype": "text/x-python",
   "name": "python",
   "nbconvert_exporter": "python",
   "pygments_lexer": "ipython3",
   "version": "3.8.10"
  },
  "orig_nbformat": 4
 },
 "nbformat": 4,
 "nbformat_minor": 2
}
