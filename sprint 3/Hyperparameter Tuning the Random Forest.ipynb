{
 "cells": [
  {
   "cell_type": "code",
   "execution_count": 1,
   "id": "ec2d3f2b",
   "metadata": {},
   "outputs": [],
   "source": [
    "import numpy as np\n",
    "import pandas as pd\n",
    "import os\n",
    "import psutil\n",
    "\n",
    "np.random.seed(42)\n",
    "\n",
    "%matplotlib inline\n",
    "import matplotlib as mpl\n",
    "import matplotlib.pyplot as plt\n",
    "mpl.rc('axes', labelsize=14)\n",
    "mpl.rc('xtick', labelsize=12)\n",
    "mpl.rc('ytick', labelsize=12)\n",
    "plt.rcParams[\"figure.figsize\"] = [16, 11]\n",
    "plt.rcParams[\"figure.autolayout\"] = True\n",
    "from sklearn.model_selection import train_test_split\n",
    "from sklearn.preprocessing import OrdinalEncoder\n",
    "from sklearn.preprocessing import LabelEncoder\n",
    "from sklearn.model_selection import train_test_split\n",
    "from sklearn.ensemble import RandomForestClassifier\n",
    "from sklearn.model_selection import GridSearchCV\n",
    "from sklearn.metrics import precision_score, recall_score, f1_score, accuracy_score\n",
    "from sklearn.model_selection import RandomizedSearchCV\n"
   ]
  },
  {
   "cell_type": "code",
   "execution_count": 2,
   "id": "c8b6d4f0",
   "metadata": {},
   "outputs": [],
   "source": [
    "def data_split(df):\n",
    "    \"\"\"returns 10% of the data\"\"\"\n",
    "    return df[: int((len(df)/10))]\n",
    "\n",
    "\n",
    "def EventTime(data):\n",
    "    \n",
    "    for i in list(data[\"case concept:name\"].unique()):\n",
    "        data.loc[data[\"case concept:name\"] == i, \"nextTIME\"] = data.loc[data[\"case concept:name\"] == i, \n",
    "                                                                \"event time:timestamp\"].shift(-1)\n",
    "    return data\n",
    "\n",
    "\n",
    "def next_event(data, lst, case, nxt, name):\n",
    "    \"\"\"function to add the next event of a trace\"\"\"\n",
    "    for i in lst:\n",
    "        data.loc[data[case] == i, nxt] = data.loc[data[case] == i, name].shift(-1)\n",
    "    return data\n",
    "\n",
    "def prev_event(data, lst, case, prv, name):\n",
    "    \"\"\"function to add the next event of a trace\"\"\"\n",
    "    for i in lst:\n",
    "        data.loc[data[case] == i, prv] = data.loc[data[case] == i, name].shift(1)\n",
    "    return data"
   ]
  },
  {
   "cell_type": "code",
   "execution_count": 3,
   "id": "1a7fb84e",
   "metadata": {},
   "outputs": [],
   "source": [
    "df_train = pd.read_csv('BPI_Challenge_2012-training.csv')\n",
    "df_test = pd.read_csv('BPI_Challenge_2012-test.csv')\n",
    "df_data = pd.concat([df_train, df_test])"
   ]
  },
  {
   "cell_type": "code",
   "execution_count": 4,
   "id": "dd61f941",
   "metadata": {},
   "outputs": [],
   "source": [
    "# split the data to 10% of total data, to help with runtime for demo\n",
    "df_data = data_split(df_data)\n",
    "\n",
    "pd.set_option('display.float_format', lambda x: '%.3f' % x)\n",
    "unixTransform = lambda x: time.mktime(x.timetuple())\n",
    "secondsTransform = lambda x: x.total_seconds()\n",
    "\n",
    "df_data[\"timestamp\"] = df_data[\"event time:timestamp\"].copy()\n",
    "df_data[\"event time:timestamp\"] = pd.to_datetime(df_data[\"event time:timestamp\"], dayfirst=True)\n",
    "\n",
    "df_data.sort_values(by=['event time:timestamp'], inplace=True)\n",
    "df_data.columns = df_data.columns.str.strip()"
   ]
  },
  {
   "cell_type": "code",
   "execution_count": 5,
   "id": "594bfe39",
   "metadata": {},
   "outputs": [],
   "source": [
    "# assign long column names to variables for easier use\n",
    "cases = \"case concept:name\"\n",
    "reg_date = \"case REG_DATE\"\n",
    "amount_req = \"case AMOUNT_REQ\"\n",
    "event_name = \"event concept:name\"\n",
    "lifecycle = \"event lifecycle:transition\"\n",
    "tmstmp = \"event time:timestamp\"\n",
    "nxt_event = \"next event\"\n",
    "prv_event = 'previous event'\n",
    "dtime = \"delta time\""
   ]
  },
  {
   "cell_type": "code",
   "execution_count": 6,
   "id": "37835831",
   "metadata": {},
   "outputs": [],
   "source": [
    "df_complete = df_data[df_data[lifecycle] == df_data[lifecycle].unique()[0]].copy()"
   ]
  },
  {
   "cell_type": "code",
   "execution_count": 7,
   "id": "a5e0d1af",
   "metadata": {},
   "outputs": [],
   "source": [
    "lst_events = df_complete[cases].unique().tolist()"
   ]
  },
  {
   "cell_type": "code",
   "execution_count": 8,
   "id": "d7ca6000",
   "metadata": {},
   "outputs": [],
   "source": [
    "# add next events per trace\n",
    "next_event(df_complete, lst_events, cases, nxt_event, event_name);"
   ]
  },
  {
   "cell_type": "code",
   "execution_count": 9,
   "id": "394dcba4",
   "metadata": {},
   "outputs": [],
   "source": [
    "# add time till next event per trace\n",
    "EventTime(df_complete);"
   ]
  },
  {
   "cell_type": "code",
   "execution_count": 10,
   "id": "7ff0059d",
   "metadata": {},
   "outputs": [],
   "source": [
    "prev_event(df_complete, lst_events, cases, prv_event, event_name);"
   ]
  },
  {
   "cell_type": "code",
   "execution_count": 11,
   "id": "ca1e3af4",
   "metadata": {},
   "outputs": [],
   "source": [
    "df_processed = df_complete.drop([lifecycle], axis=1).copy()\n"
   ]
  },
  {
   "cell_type": "code",
   "execution_count": 12,
   "id": "bf92495a",
   "metadata": {},
   "outputs": [],
   "source": [
    "event_encoder = LabelEncoder()\n",
    "time_of_day_encoder = OrdinalEncoder()\n",
    "\n",
    "labels = df_processed[event_name].unique()\n",
    "event_encoder.fit(labels);"
   ]
  },
  {
   "cell_type": "code",
   "execution_count": 13,
   "id": "85c2d766",
   "metadata": {},
   "outputs": [],
   "source": [
    "df_processed['time of day'] = df_processed[\"timestamp\"].str.split(expand=True)[1]"
   ]
  },
  {
   "cell_type": "code",
   "execution_count": 14,
   "id": "60b8afcb",
   "metadata": {},
   "outputs": [],
   "source": [
    "df_processed[[event_name, nxt_event, prv_event]] = df_processed[[event_name, nxt_event, prv_event]].apply(event_encoder.fit_transform)\n",
    "df_processed[\"time of day\"] = time_of_day_encoder.fit_transform(df_processed[[\"time of day\"]])"
   ]
  },
  {
   "cell_type": "code",
   "execution_count": 15,
   "id": "f38948c5",
   "metadata": {},
   "outputs": [],
   "source": [
    "X = df_processed[[amount_req, event_name, prv_event]]\n",
    "y = df_processed[nxt_event]"
   ]
  },
  {
   "cell_type": "code",
   "execution_count": 16,
   "id": "6920d049",
   "metadata": {},
   "outputs": [],
   "source": [
    "x_train, x_test, y_train, y_test = train_test_split(X, y, test_size=0.33, random_state=42, shuffle=False)"
   ]
  },
  {
   "cell_type": "markdown",
   "id": "6354145b",
   "metadata": {},
   "source": [
    "# Random Hyperparameter Grid"
   ]
  },
  {
   "cell_type": "markdown",
   "id": "6b901bf1",
   "metadata": {},
   "source": [
    "### https://towardsdatascience.com/hyperparameter-tuning-the-random-forest-in-python-using-scikit-learn-28d2aa77dd74"
   ]
  },
  {
   "cell_type": "code",
   "execution_count": 40,
   "id": "a89e7651",
   "metadata": {},
   "outputs": [],
   "source": [
    "n_estimators = [int(x) for x in np.linspace(start = 200, stop = 2000, num = 10)]\n",
    "# Number of features to consider at every split\n",
    "max_features = ['auto', 'sqrt']\n",
    "# Maximum number of levels in tree\n",
    "max_depth = [int(x) for x in np.linspace(10, 110, num = 11)]\n",
    "max_depth.append(None)\n",
    "# Minimum number of samples required to split a node\n",
    "min_samples_split = [2, 5, 10]\n",
    "# Minimum number of samples required at each leaf node\n",
    "min_samples_leaf = [1, 2, 4]\n",
    "# Method of selecting samples for training each tree\n",
    "bootstrap = [True, False]# Create the random grid\n",
    "random_grid = {'n_estimators': n_estimators,\n",
    "               'max_features': max_features,\n",
    "               'max_depth': max_depth,\n",
    "               'min_samples_split': min_samples_split,\n",
    "               'min_samples_leaf': min_samples_leaf,\n",
    "               'bootstrap': bootstrap}"
   ]
  },
  {
   "cell_type": "code",
   "execution_count": 41,
   "id": "31c72059",
   "metadata": {},
   "outputs": [
    {
     "name": "stdout",
     "output_type": "stream",
     "text": [
      "Fitting 3 folds for each of 100 candidates, totalling 300 fits\n"
     ]
    },
    {
     "data": {
      "text/plain": [
       "RandomizedSearchCV(cv=3, estimator=RandomForestClassifier(), n_iter=100,\n",
       "                   n_jobs=-1,\n",
       "                   param_distributions={'bootstrap': [True, False],\n",
       "                                        'max_depth': [10, 20, 30, 40, 50, 60,\n",
       "                                                      70, 80, 90, 100, 110,\n",
       "                                                      None],\n",
       "                                        'max_features': ['auto', 'sqrt'],\n",
       "                                        'min_samples_leaf': [1, 2, 4],\n",
       "                                        'min_samples_split': [2, 5, 10],\n",
       "                                        'n_estimators': [200, 400, 600, 800,\n",
       "                                                         1000, 1200, 1400, 1600,\n",
       "                                                         1800, 2000]},\n",
       "                   random_state=42, verbose=2)"
      ]
     },
     "execution_count": 41,
     "metadata": {},
     "output_type": "execute_result"
    }
   ],
   "source": [
    "# Use the random grid to search for best hyperparameters\n",
    "# First create the base model to tune\n",
    "rf = RandomForestClassifier()\n",
    "# Random search of parameters, using 3 fold cross validation, \n",
    "# search across 100 different combinations, and use all available cores\n",
    "rf_random = RandomizedSearchCV(estimator = rf, param_distributions = random_grid, n_iter = 100, cv = 3, verbose=2, random_state=42, n_jobs = -1)# Fit the random search model\n",
    "rf_random.fit(x_train, y_train)"
   ]
  },
  {
   "cell_type": "code",
   "execution_count": 42,
   "id": "22a16ecf",
   "metadata": {},
   "outputs": [
    {
     "data": {
      "text/plain": [
       "{'n_estimators': 1600,\n",
       " 'min_samples_split': 5,\n",
       " 'min_samples_leaf': 1,\n",
       " 'max_features': 'auto',\n",
       " 'max_depth': 10,\n",
       " 'bootstrap': True}"
      ]
     },
     "execution_count": 42,
     "metadata": {},
     "output_type": "execute_result"
    }
   ],
   "source": [
    "rf_random.best_params_"
   ]
  },
  {
   "cell_type": "code",
   "execution_count": 62,
   "id": "0dc1897d",
   "metadata": {},
   "outputs": [],
   "source": [
    "def evaluate(model, test_features, test_labels):\n",
    "    y_pred = model.predict(x_test)\n",
    "    prec_score = precision_score(y_test, y_pred, average=\"weighted\", zero_division=0)\n",
    "    rec_score = recall_score(y_test, y_pred, average=\"weighted\", zero_division=0)\n",
    "    F1_score = f1_score(y_test, y_pred, average=\"weighted\", zero_division=0)\n",
    "    acc_score = accuracy_score(y_test, y_pred)\n",
    "\n",
    "    print(f'The accuracy of the model is {acc_score}.')\n",
    "    print(f'The precision of the model is {prec_score}, using weighted average.')\n",
    "    print(f'The recall of the model is {rec_score}, using weighted average.')\n",
    "    print(f'The f1-score of the model is {F1_score}, using weighted average.')\n",
    "    \n",
    "    return acc_score"
   ]
  },
  {
   "cell_type": "code",
   "execution_count": 65,
   "id": "c4caf09b",
   "metadata": {},
   "outputs": [
    {
     "name": "stdout",
     "output_type": "stream",
     "text": [
      "The accuracy of the model is 0.6488563259471051.\n",
      "The precision of the model is 0.6554693616434675, using weighted average.\n",
      "The recall of the model is 0.6488563259471051, using weighted average.\n",
      "The f1-score of the model is 0.6209804992585465, using weighted average.\n"
     ]
    }
   ],
   "source": [
    "base_model = RandomForestClassifier(n_estimators = 10, random_state = 42)\n",
    "base_model.fit(x_train, y_train)\n",
    "base_accuracy = evaluate(base_model, x_train, y_train)"
   ]
  },
  {
   "cell_type": "code",
   "execution_count": 66,
   "id": "9000e904",
   "metadata": {},
   "outputs": [
    {
     "name": "stdout",
     "output_type": "stream",
     "text": [
      "The accuracy of the model is 0.6588634739099357.\n",
      "The precision of the model is 0.6662702949725373, using weighted average.\n",
      "The recall of the model is 0.6588634739099357, using weighted average.\n",
      "The f1-score of the model is 0.613446793399547, using weighted average.\n"
     ]
    }
   ],
   "source": [
    "best_random = rf_random.best_estimator_\n",
    "random_accuracy = evaluate(best_random, x_test, y_test)"
   ]
  },
  {
   "cell_type": "code",
   "execution_count": 69,
   "id": "97941206",
   "metadata": {},
   "outputs": [
    {
     "name": "stdout",
     "output_type": "stream",
     "text": [
      "Improvement of 1.54%.\n"
     ]
    }
   ],
   "source": [
    "print('Improvement of {:0.2f}%.'.format( 100 * (random_accuracy - base_accuracy) / base_accuracy))"
   ]
  },
  {
   "cell_type": "code",
   "execution_count": 67,
   "id": "a78738c9",
   "metadata": {},
   "outputs": [
    {
     "data": {
      "text/plain": [
       "array([0.0385619 , 0.45269283, 0.50874527])"
      ]
     },
     "execution_count": 67,
     "metadata": {},
     "output_type": "execute_result"
    }
   ],
   "source": [
    "best_random.feature_importances_"
   ]
  },
  {
   "cell_type": "markdown",
   "id": "4f4956ea",
   "metadata": {},
   "source": [
    "# Grid Search with Cross Validation\n"
   ]
  },
  {
   "cell_type": "code",
   "execution_count": 70,
   "id": "ca9b1176",
   "metadata": {},
   "outputs": [],
   "source": [
    "# Create the parameter grid based on the results of random search \n",
    "param_grid = {\n",
    "    'bootstrap': [True],\n",
    "    'max_depth': [80, 90, 100, 110],\n",
    "    'max_features': [2, 3],\n",
    "    'min_samples_leaf': [3, 4, 5],\n",
    "    'min_samples_split': [8, 10, 12],\n",
    "    'n_estimators': [100, 200, 300, 1000]\n",
    "}# Create a based model\n",
    "rf = RandomForestClassifier()# Instantiate the grid search model\n",
    "grid_search = GridSearchCV(estimator = rf, param_grid = param_grid, \n",
    "                          cv = 3, n_jobs = -1, verbose = 2)"
   ]
  },
  {
   "cell_type": "code",
   "execution_count": 71,
   "id": "31e670f2",
   "metadata": {},
   "outputs": [
    {
     "name": "stdout",
     "output_type": "stream",
     "text": [
      "Fitting 3 folds for each of 288 candidates, totalling 864 fits\n"
     ]
    },
    {
     "data": {
      "text/plain": [
       "{'bootstrap': True,\n",
       " 'max_depth': 110,\n",
       " 'max_features': 2,\n",
       " 'min_samples_leaf': 5,\n",
       " 'min_samples_split': 12,\n",
       " 'n_estimators': 1000}"
      ]
     },
     "execution_count": 71,
     "metadata": {},
     "output_type": "execute_result"
    }
   ],
   "source": [
    "# Fit the grid search to the data\n",
    "grid_search.fit(x_train, y_train)\n",
    "grid_search.best_params_"
   ]
  },
  {
   "cell_type": "code",
   "execution_count": 73,
   "id": "29591323",
   "metadata": {},
   "outputs": [
    {
     "name": "stdout",
     "output_type": "stream",
     "text": [
      "The accuracy of the model is 0.6738741958541815.\n",
      "The precision of the model is 0.6806150519292081, using weighted average.\n",
      "The recall of the model is 0.6738741958541815, using weighted average.\n",
      "The f1-score of the model is 0.6397103909058377, using weighted average.\n"
     ]
    }
   ],
   "source": [
    "best_grid = grid_search.best_estimator_\n",
    "grid_accuracy = evaluate(best_grid, x_test, y_test)"
   ]
  },
  {
   "cell_type": "code",
   "execution_count": 74,
   "id": "22c9c49c",
   "metadata": {},
   "outputs": [
    {
     "name": "stdout",
     "output_type": "stream",
     "text": [
      "Improvement of 3.86%.\n"
     ]
    }
   ],
   "source": [
    "print('Improvement of {:0.2f}%.'.format( 100 * (grid_accuracy - base_accuracy) / base_accuracy))"
   ]
  },
  {
   "cell_type": "code",
   "execution_count": 76,
   "id": "7316e28c",
   "metadata": {},
   "outputs": [
    {
     "data": {
      "text/plain": [
       "array([0.05971821, 0.4454768 , 0.49480499])"
      ]
     },
     "execution_count": 76,
     "metadata": {},
     "output_type": "execute_result"
    }
   ],
   "source": [
    "best_grid.feature_importances_"
   ]
  },
  {
   "cell_type": "markdown",
   "id": "db6b54ed",
   "metadata": {},
   "source": [
    "# Grid V2\n"
   ]
  },
  {
   "cell_type": "markdown",
   "id": "dd8914d8",
   "metadata": {},
   "source": [
    "### https://towardsdatascience.com/optimizing-hyperparameters-in-random-forest-classification-ec7741f9d3f6"
   ]
  },
  {
   "cell_type": "code",
   "execution_count": 17,
   "id": "338c3423",
   "metadata": {},
   "outputs": [],
   "source": [
    "# Create the parameter grid based on the results of random search \n",
    "param_grid = {\n",
    "    'bootstrap': [True],\n",
    "    'max_depth': [5, 8, 15, 25, 30],\n",
    "    'max_features': [2, 3],\n",
    "    'min_samples_leaf': [1, 2, 5, 10],\n",
    "    'min_samples_split': [2, 5, 10, 15, 100],\n",
    "    'n_estimators': [100, 300, 500, 800, 1200]\n",
    "}\n",
    "rf = RandomForestClassifier()# Instantiate the grid search model\n",
    "grid_search2 = GridSearchCV(estimator = rf, param_grid = param_grid, \n",
    "                          cv = 3, n_jobs = -1, verbose = 2)"
   ]
  },
  {
   "cell_type": "code",
   "execution_count": null,
   "id": "f1aa0519",
   "metadata": {},
   "outputs": [
    {
     "name": "stdout",
     "output_type": "stream",
     "text": [
      "Fitting 3 folds for each of 1000 candidates, totalling 3000 fits\n"
     ]
    }
   ],
   "source": [
    "# Fit the grid search to the data\n",
    "grid_search2.fit(x_train, y_train)\n",
    "grid_search2.best_params_"
   ]
  },
  {
   "cell_type": "code",
   "execution_count": null,
   "id": "443a6117",
   "metadata": {},
   "outputs": [],
   "source": [
    "best_grid2 = grid_search2.best_estimator_\n",
    "grid_accuracy2 = evaluate(best_grid, x_test, y_test)"
   ]
  },
  {
   "cell_type": "code",
   "execution_count": null,
   "id": "8f8e0007",
   "metadata": {},
   "outputs": [],
   "source": [
    "print('Improvement of {:0.2f}%.'.format( 100 * (grid_accuracy2 - base_accuracy) / base_accuracy))"
   ]
  },
  {
   "cell_type": "code",
   "execution_count": null,
   "id": "6c75264e",
   "metadata": {},
   "outputs": [],
   "source": [
    "best_grid2.feature_importances_"
   ]
  },
  {
   "cell_type": "markdown",
   "id": "23430d92",
   "metadata": {},
   "source": [
    "### As we can see from the results the improvement is really small, considering the time it needs to run, I think it is not worth our time. \n",
    "\"Hyperparameter tuning can be advantageous in creating a model that is better at classification. In the case of a random forest, it may not be necessary, as random forests are already very good at classification. \""
   ]
  }
 ],
 "metadata": {
  "kernelspec": {
   "display_name": "Python 3 (ipykernel)",
   "language": "python",
   "name": "python3"
  },
  "language_info": {
   "codemirror_mode": {
    "name": "ipython",
    "version": 3
   },
   "file_extension": ".py",
   "mimetype": "text/x-python",
   "name": "python",
   "nbconvert_exporter": "python",
   "pygments_lexer": "ipython3",
   "version": "3.7.11"
  }
 },
 "nbformat": 4,
 "nbformat_minor": 5
}
