{
 "cells": [
  {
   "cell_type": "code",
   "execution_count": 1,
   "metadata": {},
   "outputs": [],
   "source": [
    "import matplotlib.pyplot as plt\n",
    "import numpy as np\n",
    "import seaborn as sns\n",
    "%run functions/preprocess.py\n",
    "%run functions/linear_regression.py\n",
    "\n",
    "np.set_printoptions(formatter={'float_kind': '{:f}'.format})\n",
    "pd.set_option('display.float_format', lambda x: '%.3f' % x)\n",
    "plt.style.use('seaborn')\n"
   ]
  },
  {
   "cell_type": "markdown",
   "metadata": {},
   "source": [
    "## Loading the data"
   ]
  },
  {
   "cell_type": "code",
   "execution_count": 2,
   "metadata": {},
   "outputs": [],
   "source": [
    "cols = ['eventID', 'case concept:name', 'case RequestedAmount', 'day', 'hour_cos',\n",
    "        'hour_sin', 'day_of_week_cos', 'day_of_week_sin', 'event_no',\n",
    "        'event_of_day', 'eventname_A_Cancelled', 'eventname_A_Complete',\n",
    "        'eventname_A_Concept', 'eventname_A_Create Application',\n",
    "        'eventname_A_Denied', 'eventname_A_Incomplete', 'eventname_A_Pending', 'eventname_A_Validating',\n",
    "        'eventname_O_Cancelled', 'eventname_O_Create Offer',\n",
    "        'eventname_O_Created', 'eventname_O_Refused', 'eventname_O_Returned',\n",
    "        'eventname_O_Sent (mail and online)', 'eventname_O_Sent (online only)',\n",
    "        'eventname_W_Call after offers', 'eventname_W_Call incomplete files',\n",
    "        'eventname_W_Complete application', 'eventname_W_Handle leads',\n",
    "        'eventname_W_Shortened completion ', 'eventname_W_Validate application',\n",
    "        'lifecycle_resume', 'lifecycle_schedule', 'lifecycle_start',\n",
    "        'lifecycle_suspend', 'lifecycle_withdraw', 'time_diff']\n"
   ]
  },
  {
   "cell_type": "code",
   "execution_count": 3,
   "metadata": {},
   "outputs": [],
   "source": [
    "df_data = pd.read_pickle('processed2017.pkl')\n",
    "\n",
    "\n",
    "# encoding data\n",
    "df_data = encode(df_data)\n",
    "df_data = time_diff(df_data, outlier='keep')\n",
    "\n",
    "\n",
    "df_data = df_data[cols]\n"
   ]
  },
  {
   "cell_type": "code",
   "execution_count": 4,
   "metadata": {},
   "outputs": [],
   "source": [
    "def sliding_window(window_size, df, X, Y):\n",
    "    \"\"\"transforms df_data into supervised form \n",
    "    with rolling window implementations\n",
    "\n",
    "    Args:\n",
    "        window_size (int): size of rolling window\n",
    "\n",
    "    Returns:\n",
    "        (X, Y): tuple of input and output arrays\n",
    "    \"\"\"\n",
    "\n",
    "    windows = list(df.drop(['case concept:name','eventID'],\n",
    "                   axis=1).rolling(window=window_size))\n",
    "    for i in windows[window_size-1:]:\n",
    "        # split into X and Y\n",
    "        # i = i.drop('case concept:name', axis=1)\n",
    "        temp = i.to_numpy()\n",
    "        temp = [item for sublist in temp for item in sublist]\n",
    "        Y.append(temp.pop(-1))\n",
    "        X.append(temp)\n",
    "    return None\n",
    "\n",
    "\n",
    "def del_id(i):\n",
    "    del i[0]\n",
    "    del i[35]\n",
    "    del i[70]\n",
    "    return None\n"
   ]
  },
  {
   "cell_type": "code",
   "execution_count": 5,
   "metadata": {},
   "outputs": [],
   "source": [
    "from sklearn.model_selection import train_test_split\n",
    "np.random.seed(1587)\n",
    "df_train, df_test = train_test_split(df_data, test_size=0.3, shuffle=False)\n",
    "\n",
    "# randomly sample traces from log\n",
    "# df_train = df_train[df_train['case concept:name'].isin(np.random.choice(\n",
    "#     df_train['case concept:name'].unique(), size=2000, replace=True))]\n",
    "# if DEMO == True:\n",
    "#     cases = df_train['case concept:name'].unique()[11000:]\n",
    "#     df_train = df_train[df_train['case concept:name'].isin(cases)]\n",
    "df_train, df_test = del_intersection(df_train, df_test)\n"
   ]
  },
  {
   "cell_type": "code",
   "execution_count": 6,
   "metadata": {},
   "outputs": [
    {
     "data": {
      "text/plain": [
       "(20499, 8656)"
      ]
     },
     "execution_count": 6,
     "metadata": {},
     "output_type": "execute_result"
    }
   ],
   "source": [
    "len(df_train['case concept:name'].unique()), len(\n",
    "    df_test['case concept:name'].unique())\n"
   ]
  },
  {
   "cell_type": "code",
   "execution_count": 7,
   "metadata": {},
   "outputs": [],
   "source": [
    "# print(f'lag 3:{np.tile(df_data.columns[1:].to_numpy(),3)[[1, 11, 14, 18, 26, 31]]}\\n')\n",
    "# print(f'lag 2:{np.tile(df_data.columns[1:].to_numpy(),3)[[41, 47, 50, 54, 67, 68]]}\\n')\n",
    "# print(f'lag 1:{np.tile(df_data.columns[1:].to_numpy(),3)[[81]]}')\n"
   ]
  },
  {
   "cell_type": "markdown",
   "metadata": {},
   "source": [
    "---"
   ]
  },
  {
   "cell_type": "markdown",
   "metadata": {},
   "source": [
    "## Training"
   ]
  },
  {
   "cell_type": "code",
   "execution_count": 8,
   "metadata": {},
   "outputs": [
    {
     "data": {
      "text/html": [
       "<div>\n",
       "<style scoped>\n",
       "    .dataframe tbody tr th:only-of-type {\n",
       "        vertical-align: middle;\n",
       "    }\n",
       "\n",
       "    .dataframe tbody tr th {\n",
       "        vertical-align: top;\n",
       "    }\n",
       "\n",
       "    .dataframe thead th {\n",
       "        text-align: right;\n",
       "    }\n",
       "</style>\n",
       "<table border=\"1\" class=\"dataframe\">\n",
       "  <thead>\n",
       "    <tr style=\"text-align: right;\">\n",
       "      <th></th>\n",
       "    </tr>\n",
       "  </thead>\n",
       "  <tbody>\n",
       "  </tbody>\n",
       "</table>\n",
       "</div>"
      ],
      "text/plain": [
       "Empty DataFrame\n",
       "Columns: []\n",
       "Index: []"
      ]
     },
     "execution_count": 8,
     "metadata": {},
     "output_type": "execute_result"
    }
   ],
   "source": [
    "X = []\n",
    "Y = []\n",
    "# transform into windows\n",
    "df_train.groupby('case concept:name').apply(\n",
    "    lambda x: sliding_window(3, x, X, Y))\n",
    "# for i in X:\n",
    "#     del_id(i)\n"
   ]
  },
  {
   "cell_type": "code",
   "execution_count": 9,
   "metadata": {},
   "outputs": [],
   "source": [
    "X_train = pd.DataFrame(X)\n",
    "Y_train = pd.DataFrame(Y).rename(columns={0: 'y'})\n",
    "# del X, Y\n"
   ]
  },
  {
   "cell_type": "code",
   "execution_count": 10,
   "metadata": {},
   "outputs": [],
   "source": [
    "import statsmodels.api as sm\n",
    "drop = [1, 11, 14, 18, 26, 31, 41, 47, 50, 54, 67, 68, 81]\n",
    "X_train = X_train.drop(drop, axis=1)\n",
    "\n",
    "model = sm.OLS(Y_train, X_train).fit()\n",
    "del Y_train, X_train\n"
   ]
  },
  {
   "cell_type": "code",
   "execution_count": 11,
   "metadata": {},
   "outputs": [],
   "source": [
    "from sklearn.metrics import mean_squared_error\n",
    "from sklearn.metrics import r2_score\n",
    "from sklearn.metrics import mean_absolute_error\n",
    "\n",
    "\n",
    "# error = cv[0]\n",
    "\n",
    "# mse = np.mean([mean_squared_error(i[0], i[1]) for i in error])\n",
    "# r2 = np.mean([r2_score(i[0], i[1]) for i in error])\n",
    "# mae = np.mean([mean_absolute_error(i[0], i[1]) for i in error])\n",
    "# rmse = np.mean([mean_squared_error(i[0], i[1], squared=False) for i in error])\n",
    "# print(f'mse: {np.exp(mse)}\\nr^2: {r2}\\nrmse: {np.exp(rmse)}\\nmae:{np.exp(mae)}')\n"
   ]
  },
  {
   "cell_type": "markdown",
   "metadata": {},
   "source": [
    "---"
   ]
  },
  {
   "cell_type": "markdown",
   "metadata": {},
   "source": [
    "## Results"
   ]
  },
  {
   "cell_type": "code",
   "execution_count": 12,
   "metadata": {},
   "outputs": [
    {
     "data": {
      "text/html": [
       "<div>\n",
       "<style scoped>\n",
       "    .dataframe tbody tr th:only-of-type {\n",
       "        vertical-align: middle;\n",
       "    }\n",
       "\n",
       "    .dataframe tbody tr th {\n",
       "        vertical-align: top;\n",
       "    }\n",
       "\n",
       "    .dataframe thead th {\n",
       "        text-align: right;\n",
       "    }\n",
       "</style>\n",
       "<table border=\"1\" class=\"dataframe\">\n",
       "  <thead>\n",
       "    <tr style=\"text-align: right;\">\n",
       "      <th></th>\n",
       "    </tr>\n",
       "  </thead>\n",
       "  <tbody>\n",
       "  </tbody>\n",
       "</table>\n",
       "</div>"
      ],
      "text/plain": [
       "Empty DataFrame\n",
       "Columns: []\n",
       "Index: []"
      ]
     },
     "execution_count": 12,
     "metadata": {},
     "output_type": "execute_result"
    }
   ],
   "source": [
    "X = []\n",
    "Y = []\n",
    "\n",
    "# transform into windows\n",
    "df_test.groupby('case concept:name').apply(\n",
    "    lambda x: sliding_window(3, x, X, Y))\n",
    "# X = [np.delete(i, [0,36,72]) for i in X]\n",
    "# for i in X:\n",
    "#     del_id(i)\n"
   ]
  },
  {
   "cell_type": "code",
   "execution_count": 13,
   "metadata": {},
   "outputs": [],
   "source": [
    "# drop unsignificant features\n",
    "X_test = pd.DataFrame(X)\n",
    "X_test = X_test.drop(drop, axis=1)\n",
    "# predict on test set\n",
    "y_pred = model.predict(X_test).to_list()\n"
   ]
  },
  {
   "cell_type": "code",
   "execution_count": 14,
   "metadata": {},
   "outputs": [],
   "source": [
    "# match the order of predictions with the features\n",
    "error_test = df_test.drop(df_test.groupby(\n",
    "    ['case concept:name']).head(2).index, axis=0)\n",
    "order = [*error_test.groupby('case concept:name').groups.values()]\n",
    "order = [item for sublist in order for item in sublist]\n",
    "error_test.loc[order, 'predicted'] = y_pred\n",
    "df_test.loc[order, 'predicted'] = y_pred\n",
    "# del X\n"
   ]
  },
  {
   "cell_type": "code",
   "execution_count": 15,
   "metadata": {},
   "outputs": [
    {
     "name": "stdout",
     "output_type": "stream",
     "text": [
      "mse: 861.5897711832736\n",
      "r^2: 0.639614211608512\n",
      "rmse: 13.460577531402812\n",
      "mae:5.571917618468414\n"
     ]
    }
   ],
   "source": [
    "mse = mean_squared_error(error_test['time_diff'], error_test['predicted'])\n",
    "r2 = r2_score(error_test['time_diff'], error_test['predicted'])\n",
    "mae = mean_absolute_error(error_test['time_diff'], error_test['predicted'])\n",
    "rmse = mean_squared_error(\n",
    "    error_test['time_diff'], error_test['predicted'], squared=False)\n",
    "print(f'mse: {np.exp(mse)}\\nr^2: {r2}\\nrmse: {np.exp(rmse)}\\nmae:{np.exp(mae)}')\n",
    "# del X_test, Y, y_pred\n"
   ]
  },
  {
   "cell_type": "code",
   "execution_count": 16,
   "metadata": {},
   "outputs": [],
   "source": [
    "# df_test.to_pickle('complex_linear_predictions.pkl')\n"
   ]
  },
  {
   "cell_type": "code",
   "execution_count": 17,
   "metadata": {},
   "outputs": [],
   "source": [
    "# y_true = pd.DataFrame(Y)\n",
    "# y_pred = pd.DataFrame(y_pred)\n",
    "# df_error = pd.concat([y_true, y_pred], axis=1)\n",
    "# df_error.columns = ['y_true', 'y_pred']\n",
    "# df_error.reset_index(inplace=True)\n",
    "# df_error['error'] = df_error['y_true'] - df_error['y_pred']\n",
    "\n",
    "# fig, ax = plt.subplots(figsize=(10, 7))\n",
    "# # df_error.plot.hist(x='index', y='error', figsize=(10,5), ax=ax, bins=10)\n",
    "# sns.histplot(data=df_error, x='error', ax=ax, color='salmon')\n",
    "# ax.set_title('Error distribution with log transform', size=30)\n",
    "# ax.set_ylabel('count', fontsize=20)\n",
    "# ax.set_xlabel('Error in e^seconds', fontsize=20)\n",
    "# plt.yticks(fontsize=20)\n",
    "# plt.xticks(fontsize=20)\n"
   ]
  },
  {
   "cell_type": "code",
   "execution_count": 18,
   "metadata": {},
   "outputs": [],
   "source": [
    "# model.summary()\n"
   ]
  },
  {
   "cell_type": "code",
   "execution_count": 19,
   "metadata": {},
   "outputs": [],
   "source": [
    "# from statsmodels.stats.outliers_influence import variance_inflation_factor\n",
    "\n",
    "\n",
    "# # the independent variables set\n",
    "# X = df_train.drop(['time_diff', 'case concept:name'], axis=1)\n",
    "\n",
    "# # VIF dataframe\n",
    "# vif_data = pd.DataFrame()\n",
    "# vif_data[\"feature\"] = X.columns\n",
    "\n",
    "# # calculating VIF for each feature\n",
    "# vif_data[\"VIF\"] = [variance_inflation_factor(X.values, i)\n",
    "#                    for i in range(len(X.columns))]\n",
    "\n",
    "# print(vif_data)\n"
   ]
  }
 ],
 "metadata": {
  "interpreter": {
   "hash": "916dbcbb3f70747c44a77c7bcd40155683ae19c65e1c03b4aa3499c5328201f1"
  },
  "kernelspec": {
   "display_name": "Python 3.8.10 64-bit",
   "language": "python",
   "name": "python3"
  },
  "language_info": {
   "codemirror_mode": {
    "name": "ipython",
    "version": 3
   },
   "file_extension": ".py",
   "mimetype": "text/x-python",
   "name": "python",
   "nbconvert_exporter": "python",
   "pygments_lexer": "ipython3",
   "version": "3.8.10"
  },
  "orig_nbformat": 4
 },
 "nbformat": 4,
 "nbformat_minor": 2
}
