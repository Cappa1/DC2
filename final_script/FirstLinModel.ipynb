{
 "cells": [
  {
   "cell_type": "code",
   "execution_count": 1,
   "metadata": {},
   "outputs": [],
   "source": [
    "%run metrics.ipynb"
   ]
  },
  {
   "cell_type": "code",
   "execution_count": null,
   "metadata": {},
   "outputs": [],
   "source": [
    "import pandas as pd\n",
    "import numpy as np\n",
    "from sklearn.linear_model import LinearRegression"
   ]
  },
  {
   "cell_type": "code",
   "execution_count": null,
   "metadata": {},
   "outputs": [],
   "source": [
    "def SimpleModel(X_train, X_test, y_train, y_test):\n",
    "    \"\"\"\n",
    "    Decision tree classifier to predict events\n",
    "    param:  train and test sets split in x and y labels\n",
    "            these have to be already encoded!\n",
    "    return: print of metrics\n",
    "    \"\"\"\n",
    "    labels_x = [\"event concept:name\", \"case RequestedAmount\", \"avg_time\"]\n",
    "    labels_y = [\"completion_time\"]\n",
    "    X_lin, X_test_lin, y_lin, y_test_lin = feature_selection_lin(X_train, \n",
    "                            X_test, y_train, y_test, labels_x, labels_y)\n",
    "    y_pred = train_lin(X_lin, X_test_lin, y_lin)\n",
    "    time_metrics(y_test_lin, y_pred, model=\"Simple Linear Model\") \n",
    "\n",
    "\n",
    "def train_lin(X_train, X_test, y_train):\n",
    "    \"\"\"\n",
    "    Train the tree and pred outcomes\n",
    "    \"\"\"\n",
    "    lin_reg = LinearRegression()\n",
    "    lin_reg.fit(X_train, y_train)\n",
    "    y_pred = lin_reg.predict(X_test)\n",
    "    return y_pred\n",
    "\n",
    "def feature_selection_lin(X_train, X_test, y_train, y_test, labels_x, labels_y):\n",
    "    \"\"\"\n",
    "    Selects appropriate features to train the model\n",
    "    \"\"\"\n",
    "    X_lin, X_test_lin = X_train[labels_x], X_test[labels_x]\n",
    "    y_lin, y_test_lin = y_train[labels_y], y_test[labels_y]\n",
    "    return X_lin, X_test_lin, y_lin, y_test_lin\n",
    "    "
   ]
  }
 ],
 "metadata": {
  "interpreter": {
   "hash": "47c473ffaad557a40d6f692199c8550b37e2966a5f36ac429a864ed95aaad2b0"
  },
  "kernelspec": {
   "display_name": "Python 3.9.11 ('base')",
   "language": "python",
   "name": "python3"
  },
  "language_info": {
   "codemirror_mode": {
    "name": "ipython",
    "version": 3
   },
   "file_extension": ".py",
   "mimetype": "text/x-python",
   "name": "python",
   "nbconvert_exporter": "python",
   "pygments_lexer": "ipython3",
   "version": "3.9.11"
  },
  "orig_nbformat": 4
 },
 "nbformat": 4,
 "nbformat_minor": 2
}
