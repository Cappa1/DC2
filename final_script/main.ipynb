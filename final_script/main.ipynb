{
 "cells": [
  {
   "cell_type": "code",
   "execution_count": 3,
   "metadata": {},
   "outputs": [],
   "source": [
    "import warnings\n",
    "warnings.filterwarnings('ignore')\n",
    "# DEMO = False"
   ]
  },
  {
   "cell_type": "code",
   "execution_count": 4,
   "metadata": {},
   "outputs": [
    {
     "name": "stdout",
     "output_type": "stream",
     "text": [
      "CPU times: user 10.5 s, sys: 1.07 s, total: 11.6 s\n",
      "Wall time: 11.6 s\n"
     ]
    }
   ],
   "source": [
    "%run config.ipynb\n",
    "%run preprocessing.ipynb\n",
    "%run NaiveBaseline.ipynb\n",
    "%run DecisionTree.ipynb\n",
    "%run FirstLinModel.ipynb\n",
    "%run RandomForest.ipynb\n",
    "%run final_preprocess.ipynb"
   ]
  },
  {
   "cell_type": "code",
   "execution_count": 5,
   "metadata": {},
   "outputs": [],
   "source": [
    "import time\n",
    "import psutil\n",
    "import numpy as np\n",
    "import pandas as pd\n",
    "import warnings\n",
    "warnings.filterwarnings('ignore')\n",
    "\n",
    "np.random.seed(42)\n",
    "pd.set_option('display.float_format', lambda x: '%.3f' % x)"
   ]
  },
  {
   "cell_type": "code",
   "execution_count": 9,
   "metadata": {},
   "outputs": [],
   "source": [
    "def run_all(train=TRAIN, test=TEST):\n",
    "    \"\"\"\n",
    "    Executes the preprocessing and all models in the proper sequence\n",
    "    param: TRAIN and TEST paths\n",
    "    return: Print statements regarding running time and a csv containing the prediction results of the algorithms\n",
    "    \"\"\"\n",
    "\n",
    "    start_time = time.time()\n",
    "\n",
    "    # Start CPU load check\n",
    "    cpu_process = psutil.Process()\n",
    "    cpu_process.cpu_percent()\n",
    "\n",
    "    # Fetch data\n",
    "    print(\"Loading data..\")\n",
    "    data = get_data(train, test)\n",
    "    print(f\"Fetching the data took: {round(time.time() - start_time, 2)} seconds\")\n",
    "    print(\"\\n\")\n",
    "\n",
    "    # Preprocessing\n",
    "    prep_time = time.time()\n",
    "    print(\"Preprocessing initiated..\")\n",
    "    processed = preprocess(data)\n",
    "    print(f\"Preprocessing took: {round(time.time() - prep_time, 2)} seconds\")\n",
    "    print(\"\\n\")\n",
    "\n",
    "    # Naive Baseline:\n",
    "    naive_time = time.time()\n",
    "    time_time = time.time()\n",
    "    print(\"Naive Baseline Initiated..\")\n",
    "    df_naive = processed.copy()\n",
    "    print(\"Calculating time differences!\")\n",
    "    NaiveTime(df_naive)\n",
    "    print(f\"Time calculation done in: {round((time.time() - time_time), 2)} seconds\")\n",
    "    event_time = time.time()\n",
    "    print(\"Predicting next events..\")\n",
    "    NaiveEvent(df_naive)\n",
    "    print(f\"Event prediction done in: {round(time.time() - event_time, 2)} seconds\")\n",
    "    print(\"\\n\")\n",
    "    print(f\"The baseline model ran in {round(time.time() - naive_time, 2)} seconds\")\n",
    "    print(\"\\n\")\n",
    "\n",
    "    X_train, X_test, y_train, y_test = features_split(processed)\n",
    "    \n",
    "    # Initial Linear Model\n",
    "    lin_time = time.time()\n",
    "    print(\"Initial Linear Model Running!\")\n",
    "    X_train_lin, X_test_lin, y_train_lin, y_test_lin = X_train.copy(), X_test.copy(), y_train.copy(), y_test.copy()\n",
    "    SimpleModel(X_train_lin, X_test_lin, y_train_lin, y_test_lin)\n",
    "    print(f\"The inital linear model ran in: {round(time.time() - lin_time, 2)} seconds\")\n",
    "    print(\"\\n\")\n",
    "    del X_train_lin, X_test_lin, y_train_lin, y_test_lin\n",
    "\n",
    "    # Decision Tree\n",
    "    tree_time = time.time()\n",
    "    print(\"Decision Tree Initiated..\")\n",
    "    X_train_tree, X_test_tree, y_train_tree, y_test_tree = X_train.copy(), X_test.copy(), y_train.copy(), y_test.copy()\n",
    "\n",
    "    TreeModel(X_train_tree, X_test_tree, y_train_tree, y_test_tree)\n",
    "    print(f\"The decision tree was constructed in: {round(time.time() - tree_time, 2)} seconds\")\n",
    "    print(\"\\n\")\n",
    "    del X_train_tree, X_test_tree, y_train_tree, y_test_tree\n",
    "\n",
    "    # Linear Model\n",
    "    comp_time = time.time()\n",
    "    print(\"Complex Linear Model Running..\")\n",
    "    %run complexlinear.ipynb\n",
    "    \n",
    "    \n",
    "    print(f\"The complex linear model ran in: {round(time.time() - comp_time, 2)} seconds\")\n",
    "    print(\"\\n\")\n",
    "\n",
    "    # Random Forest\n",
    "    forest_time = time.time()\n",
    "    print(\"Random Forest growing..\")\n",
    "    X_forest, X_test_forest, y_forest, y_test_forest = X_train.copy(), X_test.copy(), y_train.copy(), y_test.copy()\n",
    "    ForestModel(X_forest, X_test_forest, y_forest, y_test_forest)\n",
    "    print(f\"The forest grew in: {round(time.time() - forest_time, 2)} seconds\")\n",
    "    print(\"\\n\")\n",
    "\n",
    "    memory_usage = psutil.Process().memory_info().rss / 1024 **2\n",
    "\n",
    "    # Show CPU + Memory\n",
    "    print(f\"Memory useage: {round(memory_usage)} MB\")\n",
    "    print(f\"CPU percentage: {cpu_process.cpu_percent()} %\")\n",
    "    print(f\"Run time of algorithm: {round(time.time() - start_time, 2)} seconds\")\n",
    "    \n",
    "\n",
    "\n",
    "\n",
    "    print(len(data))"
   ]
  },
  {
   "cell_type": "code",
   "execution_count": 10,
   "metadata": {},
   "outputs": [
    {
     "name": "stdout",
     "output_type": "stream",
     "text": [
      "Loading data..\n",
      "Fetching the data took: 2.27 seconds\n",
      "\n",
      "\n",
      "Preprocessing initiated..\n",
      "Preprocessing took: 6.57 seconds\n",
      "\n",
      "\n",
      "Naive Baseline Initiated..\n",
      "Calculating time differences!\n",
      "\n",
      "\n",
      "Error metrics for the Naive Time time model\n",
      "\n",
      "\n",
      "Mean Absolute Error: 6825.508592723689\n",
      "Mean Squared Error: 425813621.8758078\n",
      "Root Mean Squared Error: 20635.251921791696\n",
      "$R_2$ score: -0.12167788810271696\n",
      "\n",
      "\n",
      "Time calculation done in: 0.68 seconds\n",
      "Predicting next events..\n",
      "\n",
      "\n",
      "Error metrics for the Naive Event event model\n",
      "\n",
      "\n",
      "The accuracy of the model is 0.3806625317005291.\n",
      "The precision of the model is 0.32842011174088465, using weighted average.\n",
      "The recall of the model is 0.3806625317005291, using weighted average.\n",
      "The f1-score of the model is 0.3425175516236353, using weighted average.\n",
      "\n",
      "\n",
      "Event prediction done in: 5.35 seconds\n",
      "\n",
      "\n",
      "The baseline model ran in 6.03 seconds\n",
      "\n",
      "\n",
      "Initial Linear Model Running!\n",
      "\n",
      "\n",
      "Error metrics for the Simple Linear Model time model\n",
      "\n",
      "\n",
      "Mean Absolute Error: 10867.943756934708\n",
      "Mean Squared Error: 346560910.137062\n",
      "Root Mean Squared Error: 18616.146489997922\n",
      "$R_2$ score: 0.018754221333905252\n",
      "\n",
      "\n",
      "The inital linear model ran in: 0.19 seconds\n",
      "\n",
      "\n",
      "Decision Tree Initiated..\n",
      "\n",
      "\n",
      "Error metrics for the Decision Tree event model\n",
      "\n",
      "\n",
      "The accuracy of the model is 0.568710353388682.\n",
      "The precision of the model is 0.5236285465274655, using weighted average.\n",
      "The recall of the model is 0.568710353388682, using weighted average.\n",
      "The f1-score of the model is 0.5208919946888486, using weighted average.\n",
      "\n",
      "\n",
      "The decision tree was constructed in: 7.47 seconds\n",
      "\n",
      "\n",
      "Complex Linear Model Running..\n",
      "mse: 848.624652093766\n",
      "r^2: 0.6404235237639182\n",
      "rmse: 13.42136054837619\n",
      "mae:5.426020484061452\n"
     ]
    },
    {
     "data": {
      "image/png": "[encoded data removed]",
      "text/plain": [
       "<Figure size 720x504 with 1 Axes>"
      ]
     },
     "metadata": {},
     "output_type": "display_data"
    },
    {
     "name": "stdout",
     "output_type": "stream",
     "text": [
      "The complex linear model ran in: 293.41 seconds\n",
      "\n",
      "\n",
      "Random Forest growing..\n",
      "\n",
      "\n",
      "Error metrics for the Random Forest event model\n",
      "\n",
      "\n",
      "The accuracy of the model is 0.7209277164690742.\n",
      "The precision of the model is 0.7251827939670087, using weighted average.\n",
      "The recall of the model is 0.7209277164690742, using weighted average.\n",
      "The f1-score of the model is 0.7109401779028248, using weighted average.\n",
      "\n",
      "\n",
      "The forest grew in: 5.72 seconds\n",
      "\n",
      "\n",
      "Memory useage: 5442 MB\n",
      "CPU percentage: 109.1 %\n",
      "Run time of algorithm: 323.87 seconds\n",
      "1170758\n"
     ]
    }
   ],
   "source": [
    "run_all()"
   ]
  },
  {
   "cell_type": "code",
   "execution_count": 14,
   "metadata": {},
   "outputs": [],
   "source": [
    "# data = get_data(TRAIN, TEST)\n",
    "\n",
    "# processed = preprocess(data)"
   ]
  },
  {
   "cell_type": "code",
   "execution_count": 15,
   "metadata": {},
   "outputs": [],
   "source": [
    "# X_train, X_test, y_train, y_test = features_split(processed)"
   ]
  },
  {
   "cell_type": "code",
   "execution_count": 16,
   "metadata": {},
   "outputs": [],
   "source": [
    "# y_train"
   ]
  }
 ],
 "metadata": {
  "interpreter": {
   "hash": "47c473ffaad557a40d6f692199c8550b37e2966a5f36ac429a864ed95aaad2b0"
  },
  "kernelspec": {
   "display_name": "Python 3.9.11 ('base')",
   "language": "python",
   "name": "python3"
  },
  "language_info": {
   "codemirror_mode": {
    "name": "ipython",
    "version": 3
   },
   "file_extension": ".py",
   "mimetype": "text/x-python",
   "name": "python",
   "nbconvert_exporter": "python",
   "pygments_lexer": "ipython3",
   "version": "3.8.10"
  },
  "orig_nbformat": 4
 },
 "nbformat": 4,
 "nbformat_minor": 2
}
