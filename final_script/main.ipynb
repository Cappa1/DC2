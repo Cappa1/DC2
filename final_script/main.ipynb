{
 "cells": [
  {
   "cell_type": "code",
   "execution_count": 1,
   "metadata": {},
   "outputs": [],
   "source": [
    "import warnings\n",
    "warnings.filterwarnings('ignore')\n",
    "# DEMO = False"
   ]
  },
  {
   "cell_type": "code",
   "execution_count": 2,
   "metadata": {},
   "outputs": [],
   "source": [
    "%run config.ipynb\n",
    "%run preprocessing.ipynb\n",
    "%run NaiveBaseline.ipynb\n",
    "%run DecisionTree.ipynb\n",
    "%run FirstLinModel.ipynb\n",
    "%run RandomForest.ipynb\n",
    "%run final_preprocess.ipynb"
   ]
  },
  {
   "cell_type": "code",
   "execution_count": 3,
   "metadata": {},
   "outputs": [],
   "source": [
    "import time\n",
    "import psutil\n",
    "import numpy as np\n",
    "import pandas as pd\n",
    "import warnings\n",
    "warnings.filterwarnings('ignore')\n",
    "\n",
    "np.random.seed(42)\n",
    "pd.set_option('display.float_format', lambda x: '%.3f' % x)"
   ]
  },
  {
   "cell_type": "code",
   "execution_count": 4,
   "metadata": {},
   "outputs": [],
   "source": [
    "def run_all(train=TRAIN, test=TEST):\n",
    "    \"\"\"\n",
    "    Executes the preprocessing and all models in the proper sequence\n",
    "    param: TRAIN and TEST paths\n",
    "    return: Print statements regarding running time and a csv containing the prediction results of the algorithms\n",
    "    \"\"\"\n",
    "\n",
    "    start_time = time.time()\n",
    "\n",
    "    # Start CPU load check\n",
    "    cpu_process = psutil.Process()\n",
    "    cpu_process.cpu_percent()\n",
    "\n",
    "    # Fetch data\n",
    "    print(\"Loading data..\")\n",
    "    data = get_data(train, test)\n",
    "    print(f\"Fetching the data took: {round(time.time() - start_time, 2)} seconds\")\n",
    "    print(\"\\n\")\n",
    "\n",
    "    # Preprocessing\n",
    "    prep_time = time.time()\n",
    "    print(\"Preprocessing initiated..\")\n",
    "    processed = preprocess(data)\n",
    "    print(f\"Preprocessing took: {round(time.time() - prep_time, 2)} seconds\")\n",
    "    print(\"\\n\")\n",
    "\n",
    "    # Naive Baseline:\n",
    "    naive_time = time.time()\n",
    "    time_time = time.time()\n",
    "    print(\"Naive Baseline Initiated..\")\n",
    "    df_naive = processed.copy()\n",
    "    print(\"Calculating time differences!\")\n",
    "    NaiveTime(df_naive)\n",
    "    print(f\"Time calculation done in: {round((time.time() - time_time), 2)} seconds\")\n",
    "    event_time = time.time()\n",
    "    print(\"Predicting next events..\")\n",
    "    NaiveEvent(df_naive)\n",
    "    print(f\"Event prediction done in: {round(time.time() - event_time, 2)} seconds\")\n",
    "    print(\"\\n\")\n",
    "    print(f\"The baseline model ran in {round(time.time() - naive_time, 2)} seconds\")\n",
    "    print(\"\\n\")\n",
    "\n",
    "    X_train, X_test, y_train, y_test = features_split(processed)\n",
    "    \n",
    "    # Initial Linear Model\n",
    "    lin_time = time.time()\n",
    "    print(\"Initial Linear Model Running!\")\n",
    "    X_train_lin, X_test_lin, y_train_lin, y_test_lin = X_train.copy(), X_test.copy(), y_train.copy(), y_test.copy()\n",
    "    y_lin = SimpleModel(X_train_lin, X_test_lin, y_train_lin, y_test_lin)\n",
    "    print(f\"The inital linear model ran in: {round(time.time() - lin_time, 2)} seconds\")\n",
    "    print(\"\\n\")\n",
    "    del X_train_lin, X_test_lin, y_train_lin, y_test_lin\n",
    "\n",
    "    # Decision Tree\n",
    "    tree_time = time.time()\n",
    "    print(\"Decision Tree Initiated..\")\n",
    "    X_train_tree, X_test_tree, y_train_tree, y_test_tree = X_train.copy(), X_test.copy(), y_train.copy(), y_test.copy()\n",
    "\n",
    "    y_tree = TreeModel(X_train_tree, X_test_tree, y_train_tree, y_test_tree)\n",
    "    print(f\"The decision tree was constructed in: {round(time.time() - tree_time, 2)} seconds\")\n",
    "    print(\"\\n\")\n",
    "    del X_train_tree, X_test_tree, y_train_tree, y_test_tree\n",
    "\n",
    "    # Linear Model\n",
    "    comp_time = time.time()\n",
    "    print(\"Complex Linear Model Running..\")\n",
    "    # %run complexlinear.ipynb\n",
    "    \n",
    "    \n",
    "    print(f\"The complex linear model ran in: {round(time.time() - comp_time, 2)} seconds\")\n",
    "    print(\"\\n\")\n",
    "\n",
    "    # Random Forest\n",
    "    forest_time = time.time()\n",
    "    print(\"Random Forest growing..\")\n",
    "    X_forest, X_test_forest, y_forest, y_test_forest = X_train.copy(), X_test.copy(), y_train.copy(), y_test.copy()\n",
    "    y_frst = ForestModel(X_forest, X_test_forest, y_forest, y_test_forest)\n",
    "    print(f\"The forest grew in: {round(time.time() - forest_time, 2)} seconds\")\n",
    "    print(\"\\n\")\n",
    "\n",
    "    memory_usage = psutil.Process().memory_info().rss / 1024 **2\n",
    "\n",
    "    # Show CPU + Memory\n",
    "    print(f\"Memory useage: {round(memory_usage)} MB\")\n",
    "    print(f\"CPU percentage: {cpu_process.cpu_percent()} %\")\n",
    "    print(f\"Run time of algorithm: {round(time.time() - start_time, 2)} seconds\")\n",
    "    \n",
    "\n",
    "    return df_naive, y_tree, y_lin, y_frst\n",
    "\n",
    "    # print(len(data))"
   ]
  },
  {
   "cell_type": "code",
   "execution_count": 5,
   "metadata": {},
   "outputs": [
    {
     "name": "stdout",
     "output_type": "stream",
     "text": [
      "Loading data..\n",
      "Fetching the data took: 3.38 seconds\n",
      "\n",
      "\n",
      "Preprocessing initiated..\n",
      "Preprocessing took: 11.18 seconds\n",
      "\n",
      "\n",
      "Naive Baseline Initiated..\n",
      "Calculating time differences!\n",
      "\n",
      "\n",
      "Error metrics for the Naive Time time model\n",
      "\n",
      "\n",
      "Mean Absolute Error: 6825.508592723689\n",
      "Mean Squared Error: 425813621.8758078\n",
      "Root Mean Squared Error: 20635.251921791696\n",
      "$R_2$ score: -0.12167788810271696\n",
      "\n",
      "\n",
      "Time calculation done in: 1.35 seconds\n",
      "Predicting next events..\n",
      "\n",
      "\n",
      "Error metrics for the Naive Event event model\n",
      "\n",
      "\n",
      "The accuracy of the model is 0.3806625317005291.\n",
      "The precision of the model is 0.32842011174088465, using weighted average.\n",
      "The recall of the model is 0.3806625317005291, using weighted average.\n",
      "The f1-score of the model is 0.3425175516236353, using weighted average.\n",
      "\n",
      "\n",
      "Event prediction done in: 5.46 seconds\n",
      "\n",
      "\n",
      "The baseline model ran in 6.81 seconds\n",
      "\n",
      "\n",
      "Initial Linear Model Running!\n",
      "\n",
      "\n",
      "Error metrics for the Simple Linear Model time model\n",
      "\n",
      "\n",
      "Mean Absolute Error: 10867.943756934708\n",
      "Mean Squared Error: 346560910.137062\n",
      "Root Mean Squared Error: 18616.146489997922\n",
      "$R_2$ score: 0.018754221333905252\n",
      "\n",
      "\n",
      "The inital linear model ran in: 0.2 seconds\n",
      "\n",
      "\n",
      "Decision Tree Initiated..\n",
      "\n",
      "\n",
      "Error metrics for the Decision Tree event model\n",
      "\n",
      "\n",
      "The accuracy of the model is 0.568710353388682.\n",
      "The precision of the model is 0.5236285465274655, using weighted average.\n",
      "The recall of the model is 0.568710353388682, using weighted average.\n",
      "The f1-score of the model is 0.5208919946888486, using weighted average.\n",
      "\n",
      "\n",
      "The decision tree was constructed in: 8.99 seconds\n",
      "\n",
      "\n",
      "Complex Linear Model Running..\n",
      "The complex linear model ran in: 0.0 seconds\n",
      "\n",
      "\n",
      "Random Forest growing..\n",
      "\n",
      "\n",
      "Error metrics for the Random Forest event model\n",
      "\n",
      "\n",
      "The accuracy of the model is 0.7209277164690742.\n",
      "The precision of the model is 0.7251827939670087, using weighted average.\n",
      "The recall of the model is 0.7209277164690742, using weighted average.\n",
      "The f1-score of the model is 0.7109401779028248, using weighted average.\n",
      "\n",
      "\n",
      "The forest grew in: 6.9 seconds\n",
      "\n",
      "\n",
      "Memory useage: 2279 MB\n",
      "CPU percentage: 94.5 %\n",
      "Run time of algorithm: 40.39 seconds\n"
     ]
    }
   ],
   "source": [
    "naive, tree, lin, frst = run_all()"
   ]
  },
  {
   "cell_type": "code",
   "execution_count": 91,
   "metadata": {},
   "outputs": [],
   "source": [
    "event_ids = lin.eventID.unique().tolist()"
   ]
  },
  {
   "cell_type": "code",
   "execution_count": 92,
   "metadata": {},
   "outputs": [],
   "source": [
    "merging_lin = lin.copy()"
   ]
  },
  {
   "cell_type": "code",
   "execution_count": 93,
   "metadata": {},
   "outputs": [],
   "source": [
    "merging_tree = tree.copy()"
   ]
  },
  {
   "cell_type": "code",
   "execution_count": 94,
   "metadata": {},
   "outputs": [],
   "source": [
    "merging_frst = frst.copy()"
   ]
  },
  {
   "cell_type": "code",
   "execution_count": 95,
   "metadata": {},
   "outputs": [],
   "source": [
    "merging_naive = naive[naive.eventID.isin(event_ids)][[\"eventID\", \"naive_next_event\"]].copy()"
   ]
  },
  {
   "cell_type": "code",
   "execution_count": 96,
   "metadata": {},
   "outputs": [],
   "source": [
    "mergin_lin = merging_lin.merge(merging_naive, how=\"inner\", left_index=True, right_index=True)\n",
    "mergin_lin = merging_lin.merge(merging_tree, how=\"inner\", left_index=True, right_index=True)\n",
    "mergin_lin = merging_lin.merge(merging_frst, how=\"inner\", left_index=True, right_index=True)\n",
    "# mergin_lin = merging_lin.merge(merging_complex, how=\"inner\", left_index=True, right_index=True)"
   ]
  },
  {
   "cell_type": "code",
   "execution_count": 101,
   "metadata": {},
   "outputs": [],
   "source": [
    "mergin_lin.drop(\"eventID_y\", axis=1, inplace=True)"
   ]
  },
  {
   "cell_type": "code",
   "execution_count": 103,
   "metadata": {},
   "outputs": [
    {
     "data": {
      "text/plain": [
       "(351228, 351228)"
      ]
     },
     "execution_count": 103,
     "metadata": {},
     "output_type": "execute_result"
    }
   ],
   "source": [
    "len(mergin_lin), len(mergin_lin.dropna())"
   ]
  }
 ],
 "metadata": {
  "interpreter": {
   "hash": "47c473ffaad557a40d6f692199c8550b37e2966a5f36ac429a864ed95aaad2b0"
  },
  "kernelspec": {
   "display_name": "Python 3.9.11 ('base')",
   "language": "python",
   "name": "python3"
  },
  "language_info": {
   "codemirror_mode": {
    "name": "ipython",
    "version": 3
   },
   "file_extension": ".py",
   "mimetype": "text/x-python",
   "name": "python",
   "nbconvert_exporter": "python",
   "pygments_lexer": "ipython3",
   "version": "3.9.11"
  },
  "orig_nbformat": 4
 },
 "nbformat": 4,
 "nbformat_minor": 2
}
