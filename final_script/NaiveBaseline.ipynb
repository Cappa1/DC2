{
 "cells": [
  {
   "cell_type": "code",
   "execution_count": 1,
   "metadata": {},
   "outputs": [],
   "source": [
    "from sklearn import metrics\n",
    "from sklearn.preprocessing import LabelEncoder\n",
    "\n",
    "%run metrics.ipynb"
   ]
  },
  {
   "cell_type": "code",
   "execution_count": 13,
   "metadata": {},
   "outputs": [],
   "source": [
    "def NaiveTime(data):\n",
    "    \"\"\"\n",
    "    Naive time algorithm, predicts the time untill the next event, \n",
    "    based on the average time between two events\n",
    "    param: data\n",
    "    return: print of metrics\n",
    "    \"\"\"\n",
    "    train_Naive(data)\n",
    "    y_test, y_pred = feature_selection_time(data)\n",
    "    time_metrics(y_test, y_pred, \"Naive Time\")\n",
    "\n",
    "\n",
    "def train_Naive(data):\n",
    "    \"\"\"\n",
    "    Using a vectorization techniques to calculate and predict time\n",
    "    \"\"\"\n",
    "    data[\"next\"] = (data['event time:timestamp'] - data['event time:timestamp'].shift()\n",
    "                    ).fillna(pd.Timedelta(seconds=0)).reset_index(drop=True)\n",
    "    data[\"naive_time\"] = data[\"next\"].agg(\"mean\")\n",
    "    data[\"naive_time\"] = data[\"naive_time\"].dt.seconds\n",
    "    data[\"delta_time\"] = (data[\"next_time\"] - data[\"event time:timestamp\"])\n",
    "    data[\"delta_time\"] = data[\"delta_time\"].dt.seconds\n",
    "\n",
    "\n",
    "def feature_selection_time(data):\n",
    "    \"\"\"\n",
    "    Selects and creates the features to calculate metrics\n",
    "    \"\"\"\n",
    "    x = data.dropna(subset=[\"delta_time\"])\n",
    "    y = x[[\"delta_time\", \"naive_time\"]]\n",
    "    y.delta_time = y.delta_time.astype(int)\n",
    "\n",
    "    return y.delta_time, y.naive_time\n",
    "\n",
    "    "
   ]
  },
  {
   "cell_type": "code",
   "execution_count": 10,
   "metadata": {},
   "outputs": [],
   "source": [
    "def NaiveEvent(data):\n",
    "    \"\"\"\n",
    "    Naive event algorithm that predicts the next event based on the previous\n",
    "    param: Data\n",
    "    return: print of metrics\n",
    "    \"\"\"\n",
    "    simplePred(data)\n",
    "    y_test, y_pred = pred_encoder(data)\n",
    "    event_metrics(y_test, y_pred, \"Naive Event\")\n",
    "    \n",
    "    \n",
    "\n",
    "def simplePred(data, cEvnt=\"event concept:name\", cNw=\"next_event\", cPrd=\"naive_next_event\"):\n",
    "    \"\"\"\n",
    "    Loops through the list of events and adds them to the df\n",
    "    \"\"\"\n",
    "    lst = data[cEvnt].unique().tolist()\n",
    "    i = 0\n",
    "    while i < len(lst):\n",
    "        data.loc[data[cEvnt] == lst[i], cPrd] = data[data[cEvnt] == lst[i]][cNw].mode()[0]\n",
    "        i += 1\n",
    "\n",
    "def pred_encoder(data):\n",
    "    \"\"\"\n",
    "    Encodes the data so that it can be used for prediction calculations\n",
    "    \"\"\"\n",
    "    event_encoder = LabelEncoder()\n",
    "    labels = data[\"next_event_log\"].unique()\n",
    "    event_encoder.fit(labels)\n",
    "    y_test = event_encoder.transform(data[[\"next_event_log\"]])\n",
    "    y_pred = event_encoder.transform(data[[\"naive_next_event\"]])    \n",
    "    return y_test, y_pred\n",
    "    "
   ]
  }
 ],
 "metadata": {
  "interpreter": {
   "hash": "47c473ffaad557a40d6f692199c8550b37e2966a5f36ac429a864ed95aaad2b0"
  },
  "kernelspec": {
   "display_name": "Python 3.9.11 ('base')",
   "language": "python",
   "name": "python3"
  },
  "language_info": {
   "codemirror_mode": {
    "name": "ipython",
    "version": 3
   },
   "file_extension": ".py",
   "mimetype": "text/x-python",
   "name": "python",
   "nbconvert_exporter": "python",
   "pygments_lexer": "ipython3",
   "version": "3.9.11"
  },
  "orig_nbformat": 4
 },
 "nbformat": 4,
 "nbformat_minor": 2
}
