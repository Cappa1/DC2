{
 "cells": [
  {
   "cell_type": "code",
   "execution_count": null,
   "metadata": {},
   "outputs": [],
   "source": [
    "%run metrics.ipynb"
   ]
  },
  {
   "cell_type": "code",
   "execution_count": 1,
   "metadata": {},
   "outputs": [],
   "source": [
    "import pandas as pd\n",
    "import numpy as np\n",
    "from sklearn.tree import DecisionTreeClassifier"
   ]
  },
  {
   "cell_type": "code",
   "execution_count": null,
   "metadata": {},
   "outputs": [],
   "source": [
    "def TreeModel(X_train, X_test, y_train, y_test):\n",
    "    \"\"\"\n",
    "    Decision tree classifier to predict events\n",
    "    param:  train and test sets split in x and y labels\n",
    "            these have to be already encoded!\n",
    "    return: print of metrics\n",
    "    \"\"\"\n",
    "    labels_x = [\"event concept:name\", \"case RequestedAmount\"]\n",
    "    labels_y = [\"next_event\"]\n",
    "    X_tree, X_test_tree, y_tree, y_test_tree = feature_selection_tree(X_train, \n",
    "                            X_test, y_train, y_test, labels_x, labels_y)\n",
    "    y_pred = train_tree(X_tree, X_test_tree, y_tree)\n",
    "    event_metrics(y_test_tree, y_pred, model=\"Decision Tree\") \n",
    "\n",
    "\n",
    "def train_tree(X_train, X_test, y_train):\n",
    "    \"\"\"\n",
    "    Train the tree and pred outcomes\n",
    "    \"\"\"\n",
    "    tree_clf = DecisionTreeClassifier(random_state=42)\n",
    "    tree_clf.fit(X_train, y_train)\n",
    "    y_pred = tree_clf.predict(X_test)\n",
    "    return y_pred\n",
    "\n",
    "def feature_selection_tree(X_train, X_test, y_train, y_test, labels_x, labels_y):\n",
    "    \"\"\"\n",
    "    Selects appropriate features to train the model\n",
    "    \"\"\"\n",
    "    X_tree, X_test_tree = X_train[labels_x], X_test[labels_x]\n",
    "    y_tree, y_test_tree = y_train[labels_y], y_test[labels_y]\n",
    "    return X_tree, X_test_tree, y_tree, y_test_tree\n",
    "    "
   ]
  }
 ],
 "metadata": {
  "interpreter": {
   "hash": "47c473ffaad557a40d6f692199c8550b37e2966a5f36ac429a864ed95aaad2b0"
  },
  "kernelspec": {
   "display_name": "Python 3.9.11 ('base')",
   "language": "python",
   "name": "python3"
  },
  "language_info": {
   "codemirror_mode": {
    "name": "ipython",
    "version": 3
   },
   "file_extension": ".py",
   "mimetype": "text/x-python",
   "name": "python",
   "nbconvert_exporter": "python",
   "pygments_lexer": "ipython3",
   "version": "3.9.11"
  }
 },
 "nbformat": 4,
 "nbformat_minor": 2
}
