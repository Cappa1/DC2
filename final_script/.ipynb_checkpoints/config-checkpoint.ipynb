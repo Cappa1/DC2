{
 "cells": [
  {
   "cell_type": "markdown",
   "metadata": {},
   "source": [
    "## Assign the variables that are used throughout the script"
   ]
  },
  {
   "cell_type": "code",
   "execution_count": 1,
   "metadata": {},
   "outputs": [],
   "source": [
    "# Path where the data is stored\n",
    "# DATASET IS 2017\n",
    "PATH = \"C:/Users/rodri/00-Scripts/2IOI0/\"\n",
    "TRAIN = f\"{PATH}BPI_Challenge_2017-training.csv\"\n",
    "TEST = f\"{PATH}BPI_Challenge_2017-test.csv\"\n",
    "# Demo is true for faster run time with shortened dataset\n",
    "DEMO = False"
   ]
  }
 ],
 "metadata": {
  "interpreter": {
   "hash": "47c473ffaad557a40d6f692199c8550b37e2966a5f36ac429a864ed95aaad2b0"
  },
  "kernelspec": {
   "display_name": "Python 3",
   "language": "python",
   "name": "python3"
  },
  "language_info": {
   "codemirror_mode": {
    "name": "ipython",
    "version": 3
   },
   "file_extension": ".py",
   "mimetype": "text/x-python",
   "name": "python",
   "nbconvert_exporter": "python",
   "pygments_lexer": "ipython3",
   "version": "3.8.5"
  }
 },
 "nbformat": 4,
 "nbformat_minor": 2
}
