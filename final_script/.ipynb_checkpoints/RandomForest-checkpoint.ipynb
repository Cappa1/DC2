{
 "cells": [
  {
   "cell_type": "code",
   "execution_count": null,
   "metadata": {},
   "outputs": [],
   "source": [
    "%run metrics.ipynb"
   ]
  },
  {
   "cell_type": "code",
   "execution_count": null,
   "metadata": {},
   "outputs": [],
   "source": [
    "from sklearn.ensemble import RandomForestClassifier\n",
    "from sklearn.preprocessing import LabelEncoder"
   ]
  },
  {
   "cell_type": "code",
   "execution_count": 3,
   "metadata": {},
   "outputs": [],
   "source": [
    "def ForestModel(X_train, X_test, y_train, y_test):\n",
    "    \"\"\"\n",
    "    Random Forest classifier to predict events\n",
    "    param:  train and test sets split in x and y labels\n",
    "            these have to be already encoded!\n",
    "    return: print of metrics\n",
    "    \"\"\"\n",
    "    X_labels = [\"event concept:name\", \"prev_event\", \"2prev_event\", \"event Action\", \"event lifecycle:transition\", 'event org:resource']\n",
    "    y_train[\"next_event\"], y_test[\"next_event\"] = pred_encoder_forest(y_train, y_test)\n",
    "    X_forest, X_test_forest, y_forest, y_test_forest = feature_selection_forest(X_train, X_test, y_train, y_test, X_labels)\n",
    "    y_pred = train_forest(X_forest, X_test_forest, y_forest)\n",
    "    event_metrics(y_test_forest, y_pred, model=\"Random Forest\")\n",
    "    return accuracy_score(y_test, y_pred)\n",
    "\n",
    "def train_forest(X_train, X_test, y_train):\n",
    "    \"\"\"\n",
    "    Train the forest and predict outcomes\n",
    "    \"\"\"\n",
    "    forest_clf = RandomForestClassifier(n_estimators=10, bootstrap = False, criterion = 'gini', random_state=42)\n",
    "    forest_clf.fit(X_train, y_train)\n",
    "    y_pred = forest_clf.predict(X_test)\n",
    "    print(\"Independent Variables:\", X_train.columns)\n",
    "    print(\"Importances:\", forest_clf.feature_importances_)\n",
    "    print(\"Parameters:\", forest_clf.get_params())\n",
    "    return y_pred\n",
    "\n",
    "def feature_selection_forest(X_train, X_test, y_train, y_test, labels_x):\n",
    "    \"\"\"\n",
    "    Selects appropriate features to train the model\n",
    "    \"\"\"\n",
    "    X_forest = X_train[labels_x]\n",
    "    X_test_forest = X_test[labels_x]\n",
    "    y_forest = y_train[[\"next_event\"]]\n",
    "    y_test_forest = y_test[[\"next_event\"]]\n",
    "    return X_forest, X_test_forest, y_forest, y_test_forest\n",
    "\n",
    "def pred_encoder_forest(y_train, y_test):\n",
    "    \"\"\"\n",
    "    Encodes the data so that it can be used for prediction calculations\n",
    "    \"\"\"\n",
    "    event_encoder = LabelEncoder()\n",
    "    labels = y_train[\"next_event\"].unique().copy()\n",
    "    event_encoder.fit(labels)\n",
    "    y_test_x = event_encoder.transform(y_test[[\"next_event\"]])\n",
    "    y_train_x = event_encoder.transform(y_train[[\"next_event\"]])    \n",
    "    return y_train_x, y_test_x\n",
    "\n",
    "def sampler(X_train, y_train, pct=0.15):\n",
    "    \"\"\"\n",
    "    Random sample the train data to prevent overfitting\n",
    "    \"\"\" \n",
    "    y_train[\"eventID\"] = X_train.eventID.values\n",
    "    lst = X_train.eventID.unique().tolist()\n",
    "    lst_sample = random.sample(lst, round(pct*len(lst)))\n",
    "    sample_x = X_train[X_train[\"eventID\"].isin(lst_sample)]\n",
    "    sample_y = y_train[y_train[\"eventID\"].isin(lst_sample)]\n",
    "    return sample_x, sample_y"
   ]
  }
 ],
 "metadata": {
  "interpreter": {
   "hash": "47c473ffaad557a40d6f692199c8550b37e2966a5f36ac429a864ed95aaad2b0"
  },
  "kernelspec": {
   "display_name": "Python 3",
   "language": "python",
   "name": "python3"
  },
  "language_info": {
   "codemirror_mode": {
    "name": "ipython",
    "version": 3
   },
   "file_extension": ".py",
   "mimetype": "text/x-python",
   "name": "python",
   "nbconvert_exporter": "python",
   "pygments_lexer": "ipython3",
   "version": "3.8.5"
  }
 },
 "nbformat": 4,
 "nbformat_minor": 2
}
