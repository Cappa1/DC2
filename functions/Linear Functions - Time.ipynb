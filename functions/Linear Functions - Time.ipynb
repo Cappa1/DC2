{
 "cells": [
  {
   "cell_type": "markdown",
   "metadata": {},
   "source": [
    "# Linear functions for Time"
   ]
  },
  {
   "cell_type": "markdown",
   "metadata": {},
   "source": [
    "This notebook contains the necessary functions for the Time model in the final script"
   ]
  },
  {
   "cell_type": "markdown",
   "metadata": {},
   "source": [
    "Import the needed libraries:"
   ]
  },
  {
   "cell_type": "code",
   "execution_count": 10,
   "metadata": {},
   "outputs": [],
   "source": [
    "import pandas as pd\n",
    "import matplotlib.pyplot as plt\n",
    "import seaborn as sns\n",
    "import numpy as np\n",
    "from sklearn.model_selection import TimeSeriesSplit\n",
    "from sklearn.metrics import mean_squared_error\n",
    "from sklearn import linear_model\n",
    "from sklearn.metrics import r2_score\n",
    "from sklearn.metrics import mean_absolute_error\n",
    "from sklearn.metrics import precision_score, recall_score, f1_score, accuracy_score\n",
    "\n",
    "import psutil\n",
    "\n",
    "import math\n",
    "\n",
    "np.set_printoptions(formatter={'float_kind':'{:f}'.format})\n",
    "pd.set_option('display.float_format', lambda x: '%.3f' % x)\n",
    "plt.style.use('seaborn')"
   ]
  },
  {
   "cell_type": "markdown",
   "metadata": {},
   "source": [
    "Load the data"
   ]
  },
  {
   "cell_type": "code",
   "execution_count": null,
   "metadata": {},
   "outputs": [],
   "source": [
    "path = r\"D:/University/Year 2/Q3/DBL/Data/BPI Challenge 2012/\"\n",
    "data_train = pd.read_csv(f'{path}BPI_Challenge_2012-training.csv')\n",
    "data_test = pd.read_csv(f'{path}BPI_Challenge_2012-test.csv')\n",
    "df_data = pd.read_pickle(\"D:/University/Year 2/Q3/DBL/Data/processed2012.pkl\")"
   ]
  },
  {
   "cell_type": "markdown",
   "metadata": {},
   "source": [
    "Defined functions:"
   ]
  },
  {
   "cell_type": "code",
   "execution_count": 1,
   "metadata": {},
   "outputs": [],
   "source": [
    "def data_selection(x_train, x_test, y_train, y_test, labels_x=['concept name'], labels_y=['time']):\n",
    "    trainX = x_train[labels_x]\n",
    "    testX = x_test[labels_x]\n",
    "    trainY = y_train[labels_y]\n",
    "    testY = y_test[labels_y]"
   ]
  },
  {
   "cell_type": "code",
   "execution_count": 3,
   "metadata": {},
   "outputs": [],
   "source": [
    "def train(x_train, y_train, x_test):\n",
    "    regr = linear_model.LinearRegression(random_state=42)    \n",
    "    regr.fit(X_train_time, y_train_time)\n",
    "    predict = regr.predict(x_test)\n",
    "    return predict\n",
    "    #train the model here"
   ]
  },
  {
   "cell_type": "code",
   "execution_count": 8,
   "metadata": {},
   "outputs": [],
   "source": [
    "def scoring(y_test, y_pred):\n",
    "    print(f'Mean Absolute Error:', metrics.mean_absolute_error(y_test, y_pred))\n",
    "    print(f'Mean Squared Error:', metrics.mean_squared_error(y_test, y_pred))\n",
    "    print(f'Root Mean Squared Error:', np.sqrt(metrics.mean_squared_error(y_test, y_pred)))\n",
    "    print(f'R2 score:', metrics.r2_score(y_test, y_pred)"
   ]
  }
 ],
 "metadata": {
  "kernelspec": {
   "display_name": "Python 3",
   "language": "python",
   "name": "python3"
  },
  "language_info": {
   "codemirror_mode": {
    "name": "ipython",
    "version": 3
   },
   "file_extension": ".py",
   "mimetype": "text/x-python",
   "name": "python",
   "nbconvert_exporter": "python",
   "pygments_lexer": "ipython3",
   "version": "3.7.6"
  }
 },
 "nbformat": 4,
 "nbformat_minor": 4
}
